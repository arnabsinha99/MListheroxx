{
 "cells": [
  {
   "cell_type": "code",
   "execution_count": 1,
   "metadata": {},
   "outputs": [],
   "source": [
    "import cv2\n",
    "import numpy as np"
   ]
  },
  {
   "cell_type": "code",
   "execution_count": 2,
   "metadata": {},
   "outputs": [],
   "source": [
    "cap = cv2.VideoCapture('sunrise.mp4')\n",
    "\n",
    "if (cap.isOpened()== False): \n",
    "  print(\"Error opening video stream or file\")"
   ]
  },
  {
   "cell_type": "code",
   "execution_count": 3,
   "metadata": {},
   "outputs": [],
   "source": [
    "# Read until video is completed\n",
    "if(cap.isOpened()):\n",
    "    # Capture frame-by-frame\n",
    "    ret, frame = cap.read()\n",
    "cap.release()\n",
    " \n",
    "# Closes all the frames\n",
    "cv2.destroyAllWindows()"
   ]
  },
  {
   "cell_type": "code",
   "execution_count": 4,
   "metadata": {},
   "outputs": [
    {
     "data": {
      "text/plain": [
       "array([181, 221, 244], dtype=uint8)"
      ]
     },
     "execution_count": 4,
     "metadata": {},
     "output_type": "execute_result"
    }
   ],
   "source": [
    "frame[0][0]"
   ]
  },
  {
   "cell_type": "code",
   "execution_count": 5,
   "metadata": {},
   "outputs": [],
   "source": [
    "# frame2 = cv2.cvtColor(frame,cv2.COLOR_BGR2RGB)\n",
    "# frame2[0][0]\n",
    "ddepth = cv2.CV_16S\n",
    "kernel_size = 3\n",
    "blur_col = cv2.GaussianBlur(frame, (5, 5), 0)\n",
    "frame_gray = cv2.cvtColor(frame,cv2.COLOR_BGR2GRAY)\n",
    "temp = frame_gray\n",
    "blur_gray = cv2.cvtColor(blur_col, cv2.COLOR_BGR2GRAY)\n",
    "for i in range(5):\n",
    "    cv2.addWeighted(frame_gray,1.5,blur_gray,-0.5,0,frame_gray)\n",
    "# cv2.imshow('Frame Gray Sharpened',frame_gray)\n",
    "#now sharpening image using blurred image\n",
    "cv2.imshow('Colored Blurred',blur_col)\n",
    "# sh_fil = np.array([[-1,-1,-1],[-1, 9,-1],[-1,-1,-1]])\n",
    "# sharpened = cv2.filter2D(blur_gray, -1, sh_fil)\n",
    "sharp_col = cv2.cvtColor(frame_gray, cv2.COLOR_GRAY2RGB)\n",
    "cv2.imshow('Frame original',frame)\n",
    "# cv2.imshow('Blurred Gray',blur_gray)\n",
    "cv2.imshow('Image Sharpening', sharp_col)\n",
    "cv2.imshow('Frame Gray',frame_gray)\n",
    "# diff = temp - frame_gray\n",
    "# cv2.imshow('Difference between original gray and sharpened gray',diff)\n",
    "cv2.waitKey(0)\n",
    "cv2.destroyAllWindows()\n",
    "# dst = cv2.Laplacian(src_gray, ddepth, ksize=kernel_size)\n",
    "# abs_dst = cv2.convertScaleAbs(dst)"
   ]
  },
  {
   "cell_type": "code",
   "execution_count": 7,
   "metadata": {},
   "outputs": [],
   "source": [
    "hsi = cv2.cvtColor(frame,cv2.COLOR_BGR2HSV)\n",
    "cv2.imshow('HSI',hsi)\n",
    "cv2.waitKey(0)\n",
    "cv2.destroyAllWindows()"
   ]
  },
  {
   "cell_type": "code",
   "execution_count": 58,
   "metadata": {},
   "outputs": [],
   "source": [
    "h = []\n",
    "s = []\n",
    "v = []\n",
    "for i in range(hsi.shape[0]):\n",
    "    for j in range(hsi.shape[1]):\n",
    "        h.append(hsi[i][j][0])\n",
    "        s.append(hsi[i][j][1])\n",
    "        v.append(hsi[i][j][2])\n",
    "h = np.array(h)\n",
    "s = np.array(s)\n",
    "v = np.array(v)"
   ]
  },
  {
   "cell_type": "code",
   "execution_count": 59,
   "metadata": {
    "scrolled": false
   },
   "outputs": [],
   "source": [
    "v.resize(hsi.shape[0],hsi.shape[1])\n",
    "h.resize(hsi.shape[0],hsi.shape[1])\n",
    "s.resize(hsi.shape[0],hsi.shape[1])"
   ]
  },
  {
   "cell_type": "code",
   "execution_count": 60,
   "metadata": {},
   "outputs": [],
   "source": [
    "cv2.imshow('Hue',h)\n",
    "cv2.imshow('Saturation',s)\n",
    "cv2.imshow('Intensity',v)\n",
    "cv2.waitKey(0)\n",
    "cv2.destroyAllWindows()"
   ]
  },
  {
   "cell_type": "code",
   "execution_count": 6,
   "metadata": {},
   "outputs": [
    {
     "ename": "NameError",
     "evalue": "name 'abs_dst' is not defined",
     "output_type": "error",
     "traceback": [
      "\u001b[1;31m---------------------------------------------------------------------------\u001b[0m",
      "\u001b[1;31mNameError\u001b[0m                                 Traceback (most recent call last)",
      "\u001b[1;32m<ipython-input-6-d2a35ccdbeaf>\u001b[0m in \u001b[0;36m<module>\u001b[1;34m()\u001b[0m\n\u001b[0;32m      1\u001b[0m \u001b[0mcv2\u001b[0m\u001b[1;33m.\u001b[0m\u001b[0mimshow\u001b[0m\u001b[1;33m(\u001b[0m\u001b[1;34m'Frame original'\u001b[0m\u001b[1;33m,\u001b[0m\u001b[0mframe\u001b[0m\u001b[1;33m)\u001b[0m\u001b[1;33m\u001b[0m\u001b[0m\n\u001b[1;32m----> 2\u001b[1;33m \u001b[0mflipHorizontal\u001b[0m \u001b[1;33m=\u001b[0m \u001b[0mcv2\u001b[0m\u001b[1;33m.\u001b[0m\u001b[0mflip\u001b[0m\u001b[1;33m(\u001b[0m\u001b[0mabs_dst\u001b[0m\u001b[1;33m,\u001b[0m \u001b[1;36m1\u001b[0m\u001b[1;33m)\u001b[0m\u001b[1;33m\u001b[0m\u001b[0m\n\u001b[0m\u001b[0;32m      3\u001b[0m \u001b[0mcv2\u001b[0m\u001b[1;33m.\u001b[0m\u001b[0mimshow\u001b[0m\u001b[1;33m(\u001b[0m\u001b[1;34m'Sharpened Frame'\u001b[0m\u001b[1;33m,\u001b[0m\u001b[0mflipHorizontal\u001b[0m\u001b[1;33m)\u001b[0m\u001b[1;33m\u001b[0m\u001b[0m\n\u001b[0;32m      4\u001b[0m \u001b[0mcv2\u001b[0m\u001b[1;33m.\u001b[0m\u001b[0mwaitKey\u001b[0m\u001b[1;33m(\u001b[0m\u001b[1;36m0\u001b[0m\u001b[1;33m)\u001b[0m\u001b[1;33m\u001b[0m\u001b[0m\n\u001b[0;32m      5\u001b[0m \u001b[0mcv2\u001b[0m\u001b[1;33m.\u001b[0m\u001b[0mdestroyAllWindows\u001b[0m\u001b[1;33m(\u001b[0m\u001b[1;33m)\u001b[0m\u001b[1;33m\u001b[0m\u001b[0m\n",
      "\u001b[1;31mNameError\u001b[0m: name 'abs_dst' is not defined"
     ]
    }
   ],
   "source": [
    "cv2.imshow('Frame original',frame)\n",
    "flipHorizontal = cv2.flip(abs_dst, 1)\n",
    "cv2.imshow('Sharpened Frame',flipHorizontal)\n",
    "cv2.waitKey(0)\n",
    "cv2.destroyAllWindows()"
   ]
  },
  {
   "cell_type": "code",
   "execution_count": 110,
   "metadata": {},
   "outputs": [],
   "source": [
    "def laplacian(image,ddepth,kernel_size,alpha):  # sharp_im = orig_im - alpha*(laplacian)\n",
    "    image_blur = cv2.medianBlur(image,5)\n",
    "    cv2.imshow('Blurred intensity',image_blur)\n",
    "    int_lap = cv2.Laplacian(image_blur, ddepth, ksize=7)\n",
    "    # int_sobx = cv2.Sobel(v,ddepth,1,0,ksize = 7)\n",
    "    # int_soby = cv2.Sobel(v,ddepth,0,1,ksize = 7)\n",
    "#     cv2.imshow('Intensity original',v)\n",
    "#     cv2.imshow('Laplacian of intensity',int_lap)\n",
    "    image_lapsharp = image - (alpha*int_lap)\n",
    "    cv2.imshow('Sharpened intensity',image_lapsharp)\n",
    "    # cv2.imshow('Intensity Sobel X',int_sobx)\n",
    "    # cv2.imshow('Intensity Sobel Y',int_soby)\n",
    "    cv2.waitKey(0)\n",
    "    cv2.destroyAllWindows()"
   ]
  },
  {
   "cell_type": "code",
   "execution_count": 111,
   "metadata": {},
   "outputs": [],
   "source": [
    "lap = laplacian(v,ddepth,7,2)"
   ]
  },
  {
   "cell_type": "code",
   "execution_count": 108,
   "metadata": {},
   "outputs": [
    {
     "data": {
      "text/plain": [
       "(352, 640)"
      ]
     },
     "execution_count": 108,
     "metadata": {},
     "output_type": "execute_result"
    }
   ],
   "source": [
    "lap.shape"
   ]
  },
  {
   "cell_type": "code",
   "execution_count": null,
   "metadata": {},
   "outputs": [],
   "source": []
  }
 ],
 "metadata": {
  "kernelspec": {
   "display_name": "Python 3",
   "language": "python",
   "name": "python3"
  },
  "language_info": {
   "codemirror_mode": {
    "name": "ipython",
    "version": 3
   },
   "file_extension": ".py",
   "mimetype": "text/x-python",
   "name": "python",
   "nbconvert_exporter": "python",
   "pygments_lexer": "ipython3",
   "version": "3.6.5"
  }
 },
 "nbformat": 4,
 "nbformat_minor": 2
}
