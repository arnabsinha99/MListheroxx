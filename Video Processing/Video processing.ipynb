{
 "cells": [
  {
   "cell_type": "code",
   "execution_count": 55,
   "metadata": {},
   "outputs": [],
   "source": [
    "import cv2\n",
    "import matplotlib.pyplot as plt\n",
    "import numpy as np\n",
    "ddepth = cv2.CV_16S"
   ]
  },
  {
   "cell_type": "code",
   "execution_count": 56,
   "metadata": {},
   "outputs": [],
   "source": [
    "def laplacian(image,ddepth,kernel_size):  # sharp_im = orig_im - alpha*(laplacian)\n",
    "    image_blur = cv2.medianBlur(image,5)\n",
    "    # cv2.imshow('Original',image)\n",
    "    # cv2.imshow('Blurred intensity',image_blur)\n",
    "    for i in range(10):\n",
    "        cv2.addWeighted(image,0.9,image_blur,0.09,0,image)\n",
    "    # cv2.imshow('Adding blurred images',image)\n",
    "    # int_lap = cv2.Laplacian(image_blur, ddepth, ksize=7)\n",
    "    # int_sobx = cv2.Sobel(v,ddepth,1,0,ksize = 7)\n",
    "    # int_soby = cv2.Sobel(v,ddepth,0,1,ksize = 7)\n",
    "    # cv2.imshow('Intensity original',v)\n",
    "    # cv2.imshow('Laplacian of intensity',int_lap)\n",
    "    # image_lapsharp = image - (alpha*int_lap)\n",
    "    # cv2.imshow('Sharpened intensity',image_lapsharp)\n",
    "    # cv2.imshow('Intensity Sobel X',int_sobx)\n",
    "    # cv2.imshow('Intensity Sobel Y',int_soby)\n",
    "    cv2.waitKey(0)\n",
    "    cv2.destroyAllWindows()\n",
    "    return image"
   ]
  },
  {
   "cell_type": "code",
   "execution_count": 57,
   "metadata": {},
   "outputs": [],
   "source": [
    "def hsi_sharpening(frame):    \n",
    "    hsi = cv2.cvtColor(frame,cv2.COLOR_BGR2HSV)\n",
    "    h = []\n",
    "    s = []\n",
    "    v = []\n",
    "    #print(hsi)\n",
    "    for i in range(hsi.shape[0]):\n",
    "        for j in range(hsi.shape[1]):\n",
    "            h.append(hsi[i][j][0])\n",
    "            s.append(hsi[i][j][1])\n",
    "            v.append(hsi[i][j][2])\n",
    "    h = np.array(h)\n",
    "    s = np.array(s)\n",
    "    v = np.array(v)\n",
    "    v.resize(hsi.shape[0],hsi.shape[1])\n",
    "    h.resize(hsi.shape[0],hsi.shape[1])\n",
    "    s.resize(hsi.shape[0],hsi.shape[1])\n",
    "    lap = laplacian(v,ddepth,7)\n",
    "    hsv = np.dstack([h,s,lap])\n",
    "    final = cv2.cvtColor(hsv,cv2.COLOR_HSV2BGR)\n",
    "    return final"
   ]
  },
  {
   "cell_type": "code",
   "execution_count": 64,
   "metadata": {},
   "outputs": [],
   "source": [
    "cap = cv2.VideoCapture('sunrise.mp4')\n",
    "\n",
    "if (cap.isOpened()== False): \n",
    "    print(\"Error opening video stream or file\")"
   ]
  },
  {
   "cell_type": "code",
   "execution_count": 65,
   "metadata": {},
   "outputs": [
    {
     "name": "stdout",
     "output_type": "stream",
     "text": [
      "192\n"
     ]
    }
   ],
   "source": [
    "# Read until video is completed\n",
    "frame_width = int(cap.get(3))\n",
    "frame_height = int(cap.get(4))\n",
    "frame_count = 0\n",
    "out = cv2.VideoWriter('outpy.avi',cv2.VideoWriter_fourcc('M','J','P','G'), 30, (frame_width,frame_height))\n",
    "while(cap.isOpened()):\n",
    "    ret, frame = cap.read()\n",
    "    if ret==True:\n",
    "        frame_count+=1\n",
    "        final = hsi_sharpening(frame)\n",
    "        out.write(frame)\n",
    "    else:\n",
    "        break\n",
    "    \n",
    "print(frame_count)\n",
    "out.release()\n",
    "cap.release()\n",
    "cv2.destroyAllWindows()"
   ]
  },
  {
   "cell_type": "code",
   "execution_count": 116,
   "metadata": {},
   "outputs": [],
   "source": [
    "# frame2 = cv2.cvtColor(frame,cv2.COLOR_BGR2RGB)\n",
    "# frame2[0][0]\n",
    "kernel_size = 3\n",
    "blur_col = cv2.GaussianBlur(frame, (5, 5), 0)\n",
    "frame_gray = cv2.cvtColor(frame,cv2.COLOR_BGR2GRAY)\n",
    "temp = frame_gray\n",
    "blur_gray = cv2.cvtColor(blur_col, cv2.COLOR_BGR2GRAY)\n",
    "for i in range(5):\n",
    "    cv2.addWeighted(frame_gray,1.5,blur_gray,-0.5,0,frame_gray)\n",
    "# cv2.imshow('Frame Gray Sharpened',frame_gray)\n",
    "#now sharpening image using blurred image\n",
    "cv2.imshow('Colored Blurred',blur_col)\n",
    "# sh_fil = np.array([[-1,-1,-1],[-1, 9,-1],[-1,-1,-1]])\n",
    "# sharpened = cv2.filter2D(blur_gray, -1, sh_fil)\n",
    "sharp_col = cv2.cvtColor(frame_gray, cv2.COLOR_GRAY2RGB)\n",
    "cv2.imshow('Frame original',frame)\n",
    "# cv2.imshow('Blurred Gray',blur_gray)\n",
    "cv2.imshow('Image Sharpening', sharp_col)\n",
    "cv2.imshow('Frame Gray',temp)\n",
    "# diff = temp - frame_gray\n",
    "# cv2.imshow('Difference between original gray and sharpened gray',diff)\n",
    "cv2.waitKey(0)\n",
    "cv2.destroyAllWindows()\n",
    "# dst = cv2.Laplacian(src_gray, ddepth, ksize=kernel_size)\n",
    "# abs_dst = cv2.convertScaleAbs(dst)"
   ]
  },
  {
   "cell_type": "code",
   "execution_count": 289,
   "metadata": {},
   "outputs": [],
   "source": [
    "# cv2.imshow('Frame original',frame)\n",
    "# flipHorizontal = cv2.flip(abs_dst, 1)\n",
    "# cv2.imshow('Sharpened Frame',flipHorizontal)\n",
    "# cv2.waitKey(0)\n",
    "# cv2.destroyAllWindows()"
   ]
  }
 ],
 "metadata": {
  "kernelspec": {
   "display_name": "Python 3",
   "language": "python",
   "name": "python3"
  },
  "language_info": {
   "codemirror_mode": {
    "name": "ipython",
    "version": 3
   },
   "file_extension": ".py",
   "mimetype": "text/x-python",
   "name": "python",
   "nbconvert_exporter": "python",
   "pygments_lexer": "ipython3",
   "version": "3.6.5"
  }
 },
 "nbformat": 4,
 "nbformat_minor": 2
}
