{
 "cells": [
  {
   "cell_type": "code",
   "execution_count": 1,
   "metadata": {
    "_cell_guid": "b1076dfc-b9ad-4769-8c92-a6c4dae69d19",
    "_uuid": "8f2839f25d086af736a60e9eeb907d3b93b6e0e5"
   },
   "outputs": [],
   "source": [
    "import numpy as np # linear algebra\n",
    "import pandas as pd # data processing, CSV file I/O (e.g. pd.read_csv)\n",
    "import plotly.graph_objects as go"
   ]
  },
  {
   "cell_type": "code",
   "execution_count": 2,
   "metadata": {
    "_cell_guid": "79c7e3d0-c299-4dcb-8224-4455121ee9b0",
    "_uuid": "d629ff2d2480ee46fbb7e2d37f6b5fab8052498a"
   },
   "outputs": [],
   "source": [
    "#import all data\n",
    "train = pd.read_csv(\"../input/amexpert-2019/train.csv\")\n",
    "camp_data = pd.read_csv(\"../input/amexpert-2019/campaign_data.csv\")\n",
    "coupon_item = pd.read_csv(\"../input/amexpert-2019/coupon_item_mapping.csv\")\n",
    "cust_demo = pd.read_csv(\"../input/amexpert-2019/customer_demographics.csv\")\n",
    "cust_trans = pd.read_csv(\"../input/amexpert-2019/customer_transaction_data.csv\")\n",
    "item_data = pd.read_csv(\"../input/amexpert-2019/item_data.csv\")\n",
    "test = pd.read_csv(\"../input/amexpert-2019/test_QyjYwdj.csv\")"
   ]
  },
  {
   "cell_type": "code",
   "execution_count": 3,
   "metadata": {},
   "outputs": [],
   "source": [
    "id_train = train['id']\n",
    "id_test = test['id']"
   ]
  },
  {
   "cell_type": "code",
   "execution_count": 4,
   "metadata": {},
   "outputs": [
    {
     "data": {
      "text/plain": [
       "1463"
      ]
     },
     "execution_count": 4,
     "metadata": {},
     "output_type": "execute_result"
    }
   ],
   "source": [
    "train.at[1050,'customer_id']"
   ]
  },
  {
   "cell_type": "code",
   "execution_count": 5,
   "metadata": {},
   "outputs": [],
   "source": [
    "train.drop(columns = \"id\",inplace = True)\n",
    "test.drop(columns = \"id\",inplace = True)"
   ]
  },
  {
   "cell_type": "code",
   "execution_count": 6,
   "metadata": {},
   "outputs": [],
   "source": [
    "from scipy.stats import pearsonr\n",
    "def correlation(x,y):\n",
    "    corr, _ = pearsonr(x,y)\n",
    "    print(\"Pearson Correlation coefficient: \",str(corr))    "
   ]
  },
  {
   "cell_type": "code",
   "execution_count": 7,
   "metadata": {},
   "outputs": [],
   "source": [
    "#first transfer relevant ID information from item_data to coupon_item data\n",
    "itembrand = []\n",
    "itembrtype = []\n",
    "itemcat = []\n",
    "\n",
    "for i in coupon_item['item_id']:\n",
    "    itembrand.append(item_data.loc[i-1][1])\n",
    "    itembrtype.append(item_data.loc[i-1][2])\n",
    "    itemcat.append(item_data.loc[i-1][3])\n",
    "\n",
    "coupon_item['item_brand'] = pd.Series(itembrand)\n",
    "coupon_item['item_brand_type'] = pd.Series(itembrtype)\n",
    "coupon_item['item_category'] = pd.Series(itemcat)"
   ]
  },
  {
   "cell_type": "code",
   "execution_count": 8,
   "metadata": {},
   "outputs": [],
   "source": [
    "coupon_item.set_index(\"coupon_id\",inplace = True)\n",
    "cust_demo.set_index(\"customer_id\",inplace = True)\n",
    "cust_trans.set_index(\"customer_id\",inplace = True)\n",
    "camp_data.set_index(\"campaign_id\",inplace = True)"
   ]
  },
  {
   "cell_type": "code",
   "execution_count": 9,
   "metadata": {},
   "outputs": [],
   "source": [
    "def split_by_dash(x):\n",
    "    return x.split('-')\n",
    "def split_by_plus(x):\n",
    "    return x.split('+')"
   ]
  },
  {
   "cell_type": "code",
   "execution_count": 10,
   "metadata": {},
   "outputs": [],
   "source": [
    "#convert range,family size and marital and children to integer\n",
    "age_low = []\n",
    "age_high = []\n",
    "marstat = []\n",
    "nochil = []\n",
    "fam_size= []\n",
    "\n",
    "for index,row in cust_demo.iterrows():\n",
    "    if len(row['family_size'])>1 and row['family_size'][1] == '+':\n",
    "        fam_size.append(int(split_by_plus(row['family_size'])[0]))\n",
    "    else:\n",
    "        fam_size.append(int(row['family_size']))\n",
    "    \n",
    "    if row['age_range'][2] == '-':\n",
    "        age_low.append(int(split_by_dash(row['age_range'])[0]))\n",
    "        age_high.append(int(split_by_dash(row['age_range'])[1]))\n",
    "    elif not pd.isna(row['age_range']):\n",
    "        age_low.append(int(split_by_plus(row['age_range'])[0]))\n",
    "        age_high.append(100) #assuming maximum age expectancy to be 100\n",
    "\n",
    "#0 for Single and 1 for Married\n",
    "\n",
    "count = 0\n",
    "for index,row in cust_demo.iterrows():\n",
    "    if pd.isna(row['marital_status']):\n",
    "        if fam_size[count]==1:\n",
    "            marstat.append(0)\n",
    "        else:\n",
    "            marstat.append(1)\n",
    "    else:\n",
    "        if row['marital_status']==\"Single\":\n",
    "            marstat.append(0)\n",
    "        else:\n",
    "            marstat.append(1)\n",
    "            \n",
    "    if pd.isna(row['no_of_children']):\n",
    "        if marstat[count] == 0:\n",
    "            nochil.append(0)\n",
    "        else:\n",
    "            if fam_size[count]-2 == -1:\n",
    "                print(row['marital_status'],row['family_size'])\n",
    "            nochil.append(fam_size[count]-2)\n",
    "    else:\n",
    "        if len(row['no_of_children'])>1 and row['no_of_children'][1]=='+':\n",
    "            nochil.append(int(split_by_plus(row['no_of_children'])[0]))\n",
    "        else:\n",
    "            nochil.append(int(row['no_of_children']))\n",
    "    count+=1"
   ]
  },
  {
   "cell_type": "code",
   "execution_count": 11,
   "metadata": {},
   "outputs": [],
   "source": [
    "cust_demo['family_size'] = fam_size\n",
    "cust_demo['age_low'] = age_low\n",
    "cust_demo['age_high'] = age_high\n",
    "cust_demo['no_of_children'] = nochil\n",
    "cust_demo['marital_status'] = marstat"
   ]
  },
  {
   "cell_type": "code",
   "execution_count": 12,
   "metadata": {},
   "outputs": [],
   "source": [
    "cust_demo.drop(columns = \"age_range\",inplace = True)"
   ]
  },
  {
   "cell_type": "code",
   "execution_count": 13,
   "metadata": {},
   "outputs": [],
   "source": [
    "from datetime import date\n",
    "campstart = []\n",
    "campdays = []\n",
    "for index,row in camp_data.iterrows():\n",
    "    campstart.append(int(row['start_date'][3:5]))\n",
    "    date_s = date(int(row['start_date'][6:8]),int(row['start_date'][3:5]),int(row['start_date'][0:2]))\n",
    "    date_e = date(int(row['end_date'][6:8]),int(row['end_date'][3:5]),int(row['end_date'][0:2]))\n",
    "    days = date_e-date_s\n",
    "    campdays.append(days.days)"
   ]
  },
  {
   "cell_type": "code",
   "execution_count": 14,
   "metadata": {},
   "outputs": [],
   "source": [
    "camp_data['days'] = campdays\n",
    "camp_data['startmonth'] = campstart\n",
    "\n",
    "camp_data.drop(columns = ['start_date','end_date'],inplace = True)"
   ]
  },
  {
   "cell_type": "code",
   "execution_count": 15,
   "metadata": {},
   "outputs": [],
   "source": [
    "coupon_item.sort_index(inplace = True)\n",
    "unique_couponid = coupon_item.index.unique()"
   ]
  },
  {
   "cell_type": "code",
   "execution_count": 16,
   "metadata": {},
   "outputs": [],
   "source": [
    "diffids = []\n",
    "diffbrands = []\n",
    "difftypes = []\n",
    "diffcat = []\n",
    "for x in unique_couponid:\n",
    "    df = coupon_item.loc[x]\n",
    "    diffids.append(np.size(np.unique(np.array(coupon_item.loc[x]['item_id']))))\n",
    "    diffbrands.append(np.size(np.unique(np.array(coupon_item.loc[x]['item_brand']))))\n",
    "    difftypes.append(np.size(np.unique(np.array(coupon_item.loc[x]['item_brand_type']))))\n",
    "    diffcat.append(np.size(np.unique(np.array(coupon_item.loc[x]['item_category']))))"
   ]
  },
  {
   "cell_type": "code",
   "execution_count": 17,
   "metadata": {},
   "outputs": [],
   "source": [
    "coupon_data = {'coupon_id':unique_couponid,'diffids':diffids,'difftypes':difftypes,'diffcat':diffcat}\n",
    "coupon_data = pd.DataFrame.from_dict(coupon_data)"
   ]
  },
  {
   "cell_type": "code",
   "execution_count": 18,
   "metadata": {
    "collapsed": true
   },
   "outputs": [],
   "source": [
    "coupon_data.set_index('coupon_id',inplace = True)"
   ]
  },
  {
   "cell_type": "raw",
   "metadata": {},
   "source": [
    "For each coupon, now I have the number of items, brands, types and category. With this, I can input info into training data's rows"
   ]
  },
  {
   "cell_type": "code",
   "execution_count": 19,
   "metadata": {},
   "outputs": [],
   "source": [
    "train['age_mean'] = list(np.zeros(78369,dtype = np.float64))\n",
    "train['marital'] = \"\"\n",
    "train['rented'] = list(np.zeros(78369,dtype = np.int8))\n",
    "train['family'] = list(np.zeros(78369,dtype = np.int8))\n",
    "train['income'] = list(np.zeros(78369,dtype = np.int8))\n",
    "\n",
    "train['diffids'] = list(np.zeros(78369,dtype = np.int8))\n",
    "train['difftypes'] = list(np.zeros(78369,dtype = np.int8))\n",
    "train['diffcat'] = list(np.zeros(78369,dtype = np.int8))\n",
    "\n",
    "train['camp_start'] = list(np.zeros(78369,dtype = np.int8))\n",
    "train['days'] = list(np.zeros(78369,dtype = np.int8))\n",
    "train['camp_type'] = \"\"\n",
    "\n",
    "for index,row in train.iterrows():\n",
    "    #print(row['customer_id'])\n",
    "    if row['customer_id'] in cust_demo.index:\n",
    "        train.at[index,'age_mean'] = (cust_demo.loc[row['customer_id']]['age_low'] + cust_demo.loc[row['customer_id']]['age_high']) / 2\n",
    "        train.at[index,'marital'] = cust_demo.loc[row['customer_id']]['marital_status']\n",
    "        train.at[index,'rented'] = cust_demo.loc[row['customer_id']]['rented']\n",
    "        train.at[index,'family'] = cust_demo.loc[row['customer_id']]['family_size']\n",
    "        train.at[index,'income'] = cust_demo.loc[row['customer_id']]['income_bracket']\n",
    "    \n",
    "    train.at[index,'diffids'] = coupon_data.loc[row['coupon_id']]['diffids']\n",
    "    train.at[index,'difftypes'] = coupon_data.loc[row['coupon_id']]['difftypes']\n",
    "    train.at[index,'diffcat'] = coupon_data.loc[row['coupon_id']]['diffcat']\n",
    "    \n",
    "    train.at[index,'camp_start'] = camp_data.loc[row['campaign_id']]['startmonth']\n",
    "    train.at[index,'campdays'] = camp_data.loc[row['campaign_id']]['days']\n",
    "    train.at[index,'camp_type'] = camp_data.loc[row['campaign_id']]['campaign_type']"
   ]
  },
  {
   "cell_type": "code",
   "execution_count": 20,
   "metadata": {},
   "outputs": [],
   "source": [
    "train.drop(columns = ['marital'],inplace = True)\n",
    "for index,row in train.iterrows():\n",
    "    train.at[index,'camp_type'] = 0 if row['camp_type']=='X' else 1\n",
    "    train.at[index,'campdays'] = int(train.at[index,'campdays'])"
   ]
  },
  {
   "cell_type": "code",
   "execution_count": 21,
   "metadata": {},
   "outputs": [],
   "source": [
    "l = list(train['camp_type'])\n",
    "l = pd.Series(l)\n",
    "train.drop(columns = 'camp_type',inplace = True)\n",
    "train['camp_type'] = l"
   ]
  },
  {
   "cell_type": "code",
   "execution_count": 22,
   "metadata": {},
   "outputs": [],
   "source": [
    "from xgboost import XGBClassifier\n",
    "from sklearn.model_selection import train_test_split\n",
    "from sklearn.metrics import accuracy_score"
   ]
  },
  {
   "cell_type": "code",
   "execution_count": 23,
   "metadata": {},
   "outputs": [],
   "source": [
    "y_train = train['redemption_status']\n",
    "train.drop(columns = 'redemption_status',inplace = True)"
   ]
  },
  {
   "cell_type": "code",
   "execution_count": 24,
   "metadata": {},
   "outputs": [
    {
     "name": "stdout",
     "output_type": "stream",
     "text": [
      "Train Accuracy ::  0.9905255602520138\n",
      "Test Accuracy  ::  0.9913870103355876\n"
     ]
    }
   ],
   "source": [
    "model = XGBClassifier(learning_rate = 0.05, max_depth = 4)\n",
    "train_x, test_x, train_Y, test_y = train_test_split(train,y_train,train_size=0.8)\n",
    "model.fit(train_x,train_Y)\n",
    "xgb_predict = model.predict(test_x)\n",
    "    \n",
    "print( \"Train Accuracy :: \", accuracy_score(train_Y, model.predict(train_x)))\n",
    "print( \"Test Accuracy  :: \", accuracy_score(test_y, xgb_predict))"
   ]
  },
  {
   "cell_type": "code",
   "execution_count": 25,
   "metadata": {},
   "outputs": [],
   "source": [
    "test['age_mean'] = list(np.zeros(50226,dtype = np.float64))\n",
    "test['rented'] = list(np.zeros(50226,dtype = np.int8))\n",
    "test['family'] = list(np.zeros(50226,dtype = np.int8))\n",
    "test['income'] = list(np.zeros(50226,dtype = np.int8))\n",
    "\n",
    "test['diffids'] = list(np.zeros(50226,dtype = np.int8))\n",
    "test['difftypes'] = list(np.zeros(50226,dtype = np.int8))\n",
    "test['diffcat'] = list(np.zeros(50226,dtype = np.int8))\n",
    "\n",
    "test['camp_start'] = list(np.zeros(50226,dtype = np.int8))\n",
    "test['days'] = list(np.zeros(50226,dtype = np.int8))\n",
    "test['camp_type'] = \"\"\n",
    "\n",
    "for index,row in test.iterrows():\n",
    "    #print(row['customer_id'])\n",
    "    if row['customer_id'] in cust_demo.index:\n",
    "        test.at[index,'age_mean'] = (cust_demo.loc[row['customer_id']]['age_low'] + cust_demo.loc[row['customer_id']]['age_high']) / 2\n",
    "        test.at[index,'rented'] = cust_demo.loc[row['customer_id']]['rented']\n",
    "        test.at[index,'family'] = cust_demo.loc[row['customer_id']]['family_size']\n",
    "        test.at[index,'income'] = cust_demo.loc[row['customer_id']]['income_bracket']\n",
    "    \n",
    "    test.at[index,'diffids'] = coupon_data.loc[row['coupon_id']]['diffids']\n",
    "    test.at[index,'difftypes'] = coupon_data.loc[row['coupon_id']]['difftypes']\n",
    "    test.at[index,'diffcat'] = coupon_data.loc[row['coupon_id']]['diffcat']\n",
    "    \n",
    "    test.at[index,'camp_start'] = camp_data.loc[row['campaign_id']]['startmonth']\n",
    "    test.at[index,'campdays'] = camp_data.loc[row['campaign_id']]['days']\n",
    "    test.at[index,'camp_type'] = camp_data.loc[row['campaign_id']]['campaign_type']"
   ]
  },
  {
   "cell_type": "code",
   "execution_count": 26,
   "metadata": {},
   "outputs": [],
   "source": [
    "for index,row in test.iterrows():\n",
    "    test.at[index,'camp_type'] = 0 if row['camp_type']=='X' else 1\n",
    "    test.at[index,'campdays'] = int(test.at[index,'campdays'])"
   ]
  },
  {
   "cell_type": "code",
   "execution_count": 27,
   "metadata": {},
   "outputs": [],
   "source": [
    "l = list(test['camp_type'])\n",
    "l = pd.Series(l)\n",
    "test.drop(columns = 'camp_type',inplace = True)\n",
    "test['camp_type'] = l"
   ]
  },
  {
   "cell_type": "code",
   "execution_count": 28,
   "metadata": {},
   "outputs": [],
   "source": [
    "xgbpred = model.predict(test)"
   ]
  },
  {
   "cell_type": "code",
   "execution_count": 29,
   "metadata": {},
   "outputs": [
    {
     "data": {
      "text/plain": [
       "array([0, 0, 0, ..., 0, 0, 0])"
      ]
     },
     "execution_count": 29,
     "metadata": {},
     "output_type": "execute_result"
    }
   ],
   "source": [
    "xgbpred"
   ]
  },
  {
   "cell_type": "code",
   "execution_count": 30,
   "metadata": {},
   "outputs": [],
   "source": [
    "submission = pd.DataFrame(id_test)\n",
    "submission['redemption_status'] = xgbpred \n",
    "submission.to_csv(\"amex1.csv\",index = False)"
   ]
  }
 ],
 "metadata": {
  "kernelspec": {
   "display_name": "Python 3",
   "language": "python",
   "name": "python3"
  },
  "language_info": {
   "codemirror_mode": {
    "name": "ipython",
    "version": 3
   },
   "file_extension": ".py",
   "mimetype": "text/x-python",
   "name": "python",
   "nbconvert_exporter": "python",
   "pygments_lexer": "ipython3",
   "version": "3.6.6"
  }
 },
 "nbformat": 4,
 "nbformat_minor": 1
}
