{
 "cells": [
  {
   "cell_type": "code",
   "execution_count": 117,
   "metadata": {},
   "outputs": [],
   "source": [
    "import torch\n",
    "from torch import nn, optim\n",
    "import numpy as np\n",
    "import pandas as pd\n",
    "import matplotlib.pyplot as plt\n",
    "from sklearn.model_selection import train_test_split"
   ]
  },
  {
   "cell_type": "code",
   "execution_count": 2,
   "metadata": {},
   "outputs": [
    {
     "name": "stdout",
     "output_type": "stream",
     "text": [
      "cuda\n",
      "1\n"
     ]
    }
   ],
   "source": [
    "device = \"cuda\" if torch.cuda.is_available() else \"cpu\"\n",
    "print(device)\n",
    "print(torch.cuda.device_count()) # Count number of devices"
   ]
  },
  {
   "cell_type": "code",
   "execution_count": 137,
   "metadata": {},
   "outputs": [],
   "source": [
    "class LinearRegression(nn.Module):\n",
    "    '''\n",
    "        Class to define the neural network using Linear layers. Importing nn.Module is necessary whenever building any NN\n",
    "    '''\n",
    "\n",
    "    def __init__(self, *args, **kwargs) -> None:\n",
    "        super().__init__(*args, **kwargs)\n",
    "        self.layer1 = nn.Linear(in_features=1, out_features=1, bias=True, dtype=torch.float32)\n",
    "        self.layer2 = nn.Linear(in_features=1, out_features=1, bias=True, dtype=torch.float32)\n",
    "\n",
    "    def forward(self, x: torch.Tensor) -> torch.Tensor:\n",
    "        self.forward1 = self.layer1(x)\n",
    "        return self.layer2(self.forward1)"
   ]
  },
  {
   "cell_type": "code",
   "execution_count": 326,
   "metadata": {},
   "outputs": [
    {
     "data": {
      "text/plain": [
       "<torch._C.Generator at 0x182206b6250>"
      ]
     },
     "execution_count": 326,
     "metadata": {},
     "output_type": "execute_result"
    }
   ],
   "source": [
    "torch.manual_seed(42)\n",
    "# import random\n",
    "# random.seed(42)\n",
    "# np.random.seed(42)\n",
    "# torch.cuda.manual_seed(42)\n",
    "# torch.backends.cudnn.deterministic = False"
   ]
  },
  {
   "cell_type": "code",
   "execution_count": 327,
   "metadata": {},
   "outputs": [
    {
     "data": {
      "text/plain": [
       "OrderedDict([('layer1.weight', tensor([[0.7645]], device='cuda:0')),\n",
       "             ('layer1.bias', tensor([0.8300], device='cuda:0')),\n",
       "             ('layer2.weight', tensor([[-0.2343]], device='cuda:0')),\n",
       "             ('layer2.bias', tensor([0.9186], device='cuda:0'))])"
      ]
     },
     "execution_count": 327,
     "metadata": {},
     "output_type": "execute_result"
    }
   ],
   "source": [
    "model_linear = LinearRegression()\n",
    "model_linear.to(device=device)\n",
    "model_linear.state_dict()"
   ]
  },
  {
   "cell_type": "code",
   "execution_count": 244,
   "metadata": {},
   "outputs": [
    {
     "data": {
      "text/plain": [
       "array([[1.31584256, 1.15348695, 0.90610512],\n",
       "       [1.10851201, 0.90731646, 0.90685405]])"
      ]
     },
     "execution_count": 244,
     "metadata": {},
     "output_type": "execute_result"
    }
   ],
   "source": [
    "np.random.normal(1,0.2,(2,3))"
   ]
  },
  {
   "cell_type": "code",
   "execution_count": 199,
   "metadata": {},
   "outputs": [],
   "source": [
    "# Create training data\n",
    "X = torch.arange(0,100,1, dtype=torch.float32).unsqueeze(dim=1)\n",
    "y = torch.arange(0,100,1) + np.random.normal(10,5,100)\n",
    "y = y.unsqueeze(dim=1)"
   ]
  },
  {
   "cell_type": "code",
   "execution_count": 158,
   "metadata": {},
   "outputs": [
    {
     "data": {
      "text/plain": [
       "(torch.float32, torch.float64, torch.Size([100]), torch.Size([100]))"
      ]
     },
     "execution_count": 158,
     "metadata": {},
     "output_type": "execute_result"
    }
   ],
   "source": [
    "# before unsqueezing\n",
    "# X.dtype, y.dtype, X.shape, y.shape"
   ]
  },
  {
   "cell_type": "code",
   "execution_count": 200,
   "metadata": {},
   "outputs": [
    {
     "data": {
      "text/plain": [
       "(torch.float32, torch.float64, torch.Size([100, 1]), torch.Size([100, 1]))"
      ]
     },
     "execution_count": 200,
     "metadata": {},
     "output_type": "execute_result"
    }
   ],
   "source": [
    "# after unsqueezing\n",
    "X.dtype, y.dtype, X.shape, y.shape"
   ]
  },
  {
   "cell_type": "code",
   "execution_count": 201,
   "metadata": {},
   "outputs": [],
   "source": [
    "x_train, x_test, y_train, y_test = train_test_split(X,y,test_size=0.2)"
   ]
  },
  {
   "cell_type": "code",
   "execution_count": 202,
   "metadata": {},
   "outputs": [
    {
     "data": {
      "text/plain": [
       "(torch.Size([80, 1]),\n",
       " torch.Size([80, 1]),\n",
       " torch.Size([20, 1]),\n",
       " torch.Size([20, 1]))"
      ]
     },
     "execution_count": 202,
     "metadata": {},
     "output_type": "execute_result"
    }
   ],
   "source": [
    "x_train.shape, y_train.shape, x_test.shape, y_test.shape"
   ]
  },
  {
   "cell_type": "code",
   "execution_count": 203,
   "metadata": {},
   "outputs": [
    {
     "data": {
      "text/plain": [
       "<matplotlib.collections.PathCollection at 0x18247dca630>"
      ]
     },
     "execution_count": 203,
     "metadata": {},
     "output_type": "execute_result"
    },
    {
     "data": {
      "image/png": "[encoded data removed]",
      "text/plain": [
       "<Figure size 640x480 with 1 Axes>"
      ]
     },
     "metadata": {},
     "output_type": "display_data"
    }
   ],
   "source": [
    "plt.scatter(x_train,y_train, s=1)"
   ]
  },
  {
   "cell_type": "markdown",
   "metadata": {},
   "source": [
    "## Training Linear Model"
   ]
  },
  {
   "cell_type": "code",
   "execution_count": 292,
   "metadata": {},
   "outputs": [
    {
     "data": {
      "text/plain": [
       "OrderedDict([('layer1.weight', tensor([[0.7645]], device='cuda:0')),\n",
       "             ('layer1.bias', tensor([0.8300], device='cuda:0')),\n",
       "             ('layer2.weight', tensor([[-0.2343]], device='cuda:0')),\n",
       "             ('layer2.bias', tensor([0.9186], device='cuda:0'))])"
      ]
     },
     "execution_count": 292,
     "metadata": {},
     "output_type": "execute_result"
    }
   ],
   "source": [
    "model_linear = LinearRegression()\n",
    "model_linear.to(device=device)\n",
    "model_linear.state_dict()"
   ]
  },
  {
   "cell_type": "code",
   "execution_count": 234,
   "metadata": {},
   "outputs": [
    {
     "name": "stdout",
     "output_type": "stream",
     "text": [
      "Parameter containing:\n",
      "tensor([[0.2861]], device='cuda:0', requires_grad=True)\n",
      "Parameter containing:\n",
      "tensor([-0.2184], device='cuda:0', requires_grad=True)\n",
      "Parameter containing:\n",
      "tensor([[0.3893]], device='cuda:0', requires_grad=True)\n",
      "Parameter containing:\n",
      "tensor([-0.8207], device='cuda:0', requires_grad=True)\n"
     ]
    }
   ],
   "source": [
    "for params in model_linear.parameters():\n",
    "    print(params)"
   ]
  },
  {
   "cell_type": "code",
   "execution_count": 235,
   "metadata": {},
   "outputs": [],
   "source": [
    "loss_function = nn.L1Loss()\n",
    "optimizer = torch.optim.SGD(params=model_linear.parameters(), lr=0.005)"
   ]
  },
  {
   "cell_type": "code",
   "execution_count": 236,
   "metadata": {},
   "outputs": [],
   "source": [
    "x_train = x_train.to(device)\n",
    "y_train = y_train.to(device)\n",
    "x_test = x_test.to(device)\n",
    "y_test = y_test.to(device)"
   ]
  },
  {
   "cell_type": "code",
   "execution_count": 237,
   "metadata": {},
   "outputs": [
    {
     "data": {
      "text/plain": [
       "torch.Size([80, 1])"
      ]
     },
     "execution_count": 237,
     "metadata": {},
     "output_type": "execute_result"
    }
   ],
   "source": [
    "x_train.size()"
   ]
  },
  {
   "cell_type": "code",
   "execution_count": 238,
   "metadata": {},
   "outputs": [
    {
     "name": "stdout",
     "output_type": "stream",
     "text": [
      "Epoch: 0 | Train loss: 53.052905476992784 | Test loss: 61.30796436036007\n",
      "Epoch: 100 | Train loss: 12.518410455335404 | Test loss: 13.720482341591277\n",
      "Epoch: 200 | Train loss: 12.05654614408734 | Test loss: 14.110365362111487\n",
      "Epoch: 300 | Train loss: 12.053414365549113 | Test loss: 14.013183305803693\n",
      "Epoch: 400 | Train loss: 11.735235293109442 | Test loss: 14.251238921675839\n",
      "Epoch: 500 | Train loss: 11.534222431380776 | Test loss: 14.365111475083985\n"
     ]
    }
   ],
   "source": [
    "epochs = 600\n",
    "\n",
    "for epoch in np.arange(epochs):\n",
    "    model_linear.train() # set into training mode\n",
    "\n",
    "    y_pred = model_linear(x_train) # forward pass\n",
    "\n",
    "    loss_epoch = loss_function(y_pred, y_train) # calculate loss function \n",
    "    \n",
    "    # print(\"Loss epoch data type: \", loss_epoch.dtype)\n",
    "\n",
    "    optimizer.zero_grad() # set optimizer gradient to 0 because fresh gradient for every epoch\n",
    "\n",
    "    loss_epoch.backward() # Computes the gradient of the loss with respect for every model parameter to be updated\n",
    "\n",
    "    optimizer.step() # Update the parameters with requires_grad=True with respect to the loss gradients in order to improve them\n",
    "\n",
    "    ### Testing\n",
    "    model_linear.eval() # put the model in evaluation mode for testing (inference)\n",
    "    # 1. Forward pass\n",
    "    with torch.inference_mode():\n",
    "        test_pred = model_linear(x_test)\n",
    "    \n",
    "        # 2. Calculate the loss\n",
    "        test_loss = loss_function(test_pred, y_test)\n",
    "\n",
    "    if epoch % 100 == 0:\n",
    "        print(f\"Epoch: {epoch} | Train loss: {loss_epoch} | Test loss: {test_loss}\")"
   ]
  },
  {
   "cell_type": "code",
   "execution_count": 239,
   "metadata": {},
   "outputs": [
    {
     "data": {
      "text/plain": [
       "OrderedDict([('layer1.weight', tensor([[1.1729]], device='cuda:0')),\n",
       "             ('layer1.bias', tensor([0.4440], device='cuda:0')),\n",
       "             ('layer2.weight', tensor([[1.1884]], device='cuda:0')),\n",
       "             ('layer2.bias', tensor([0.0285], device='cuda:0'))])"
      ]
     },
     "execution_count": 239,
     "metadata": {},
     "output_type": "execute_result"
    }
   ],
   "source": [
    "model_linear.state_dict()"
   ]
  },
  {
   "cell_type": "code",
   "execution_count": 240,
   "metadata": {},
   "outputs": [
    {
     "data": {
      "text/plain": [
       "tensor([[132.9773],\n",
       "        [103.7052],\n",
       "        [ 93.9479],\n",
       "        [123.2199],\n",
       "        [ 11.7073],\n",
       "        [131.5834],\n",
       "        [130.1895],\n",
       "        [ 34.0099],\n",
       "        [ 56.3124],\n",
       "        [  0.5561],\n",
       "        [135.7651],\n",
       "        [102.3113],\n",
       "        [119.0382],\n",
       "        [ 99.5235],\n",
       "        [ 28.4342],\n",
       "        [128.7955],\n",
       "        [ 59.1002],\n",
       "        [121.8260],\n",
       "        [ 96.7357],\n",
       "        [  6.1317]], device='cuda:0')"
      ]
     },
     "execution_count": 240,
     "metadata": {},
     "output_type": "execute_result"
    }
   ],
   "source": [
    "# Turn model into evaluation mode\n",
    "model_linear.eval()\n",
    "\n",
    "# Make predictions on the test data\n",
    "with torch.inference_mode():\n",
    "    y_preds = model_linear(x_test)\n",
    "y_preds"
   ]
  },
  {
   "cell_type": "markdown",
   "metadata": {},
   "source": [
    "### Below plot shows model predicting straight line (green) because we have used Linear() layer"
   ]
  },
  {
   "cell_type": "code",
   "execution_count": 241,
   "metadata": {},
   "outputs": [
    {
     "data": {
      "text/plain": [
       "<matplotlib.collections.PathCollection at 0x18252cee810>"
      ]
     },
     "execution_count": 241,
     "metadata": {},
     "output_type": "execute_result"
    },
    {
     "data": {
      "image/png": "[encoded data removed]",
      "text/plain": [
       "<Figure size 640x480 with 1 Axes>"
      ]
     },
     "metadata": {},
     "output_type": "display_data"
    }
   ],
   "source": [
    "plt.scatter(x_test.cpu(), y_preds.cpu(), s=1, c=\"green\")\n",
    "plt.scatter(x_test.cpu(), y_test.cpu(), s=1, c=\"red\")"
   ]
  },
  {
   "cell_type": "code",
   "execution_count": 332,
   "metadata": {},
   "outputs": [
    {
     "data": {
      "text/plain": [
       "2"
      ]
     },
     "execution_count": 332,
     "metadata": {},
     "output_type": "execute_result"
    }
   ],
   "source": [
    "torch.eq(torch.ones(2),torch.ones(2)).sum().item()"
   ]
  },
  {
   "cell_type": "code",
   "execution_count": null,
   "metadata": {},
   "outputs": [],
   "source": []
  }
 ],
 "metadata": {
  "kernelspec": {
   "display_name": "base",
   "language": "python",
   "name": "python3"
  },
  "language_info": {
   "codemirror_mode": {
    "name": "ipython",
    "version": 3
   },
   "file_extension": ".py",
   "mimetype": "text/x-python",
   "name": "python",
   "nbconvert_exporter": "python",
   "pygments_lexer": "ipython3",
   "version": "3.12.4"
  }
 },
 "nbformat": 4,
 "nbformat_minor": 2
}
