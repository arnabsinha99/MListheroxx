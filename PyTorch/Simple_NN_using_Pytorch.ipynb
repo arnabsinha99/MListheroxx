{
  "nbformat": 4,
  "nbformat_minor": 0,
  "metadata": {
    "colab": {
      "name": "Simple_NN_using_Pytorch.ipynb",
      "version": "0.3.2",
      "provenance": [],
      "collapsed_sections": []
    },
    "kernelspec": {
      "name": "python3",
      "display_name": "Python 3"
    }
  },
  "cells": [
    {
      "metadata": {
        "id": "pd9NfrGXFYSk",
        "colab_type": "code",
        "outputId": "1eee74f6-81f4-4219-d8f3-6cf0f784998f",
        "colab": {
          "base_uri": "https://localhost:8080/",
          "height": 164
        }
      },
      "cell_type": "code",
      "source": [
        "import torch as tor\n",
        "import torch.nn as nn\n",
        "\n",
        "X = tor.tensor(([1,2],[4,5],[2,9]), dtype = tor.float)\n",
        "y = tor.tensor(([92],[89],[60]), dtype = tor.float)\n",
        "\n",
        "xPredicted = tor.tensor(([4,8]),dtype = tor.float)\n",
        "X_max, _ = tor.max(X,0)\n",
        "\n",
        "xPredicted_max, _ = tor.max(xPredicted, 0)\n",
        "\n",
        "X = tor.div(X, X_max)\n",
        "xPredicted = tor.div(xPredicted, xPredicted_max)\n",
        "y = y / 100 # max test score is 100\n",
        "\n",
        "''' now comes the asli code '''\n",
        "\n",
        "class neuralnetwork(nn.Module):\n",
        "  def __init__(self, ):\n",
        "    super(neuralnetwork, self).__init__()\n",
        "    \n",
        "    #pameters to be declared\n",
        "    \n",
        "    self.inputSize = 2\n",
        "    self.outputSize = 1\n",
        "    self.hiddenLayers = 3\n",
        "    \n",
        "    self.W1 = tor.randn(self.inputSize,self.hiddenLayers) #2 * 3 matrix for weights for i/p layers\n",
        "    self.W2 = tor.randn(self.hiddenLayers, self.outputSize) #1* 3 matrix for weights for o/p layers\n",
        "    \n",
        "  def forward(self, X):\n",
        "    \n",
        "    self.z = tor.matmul(X, self.W1)\n",
        "    self.z2 = self.sigmoid(self.z) # activation function\n",
        "    self.z3 = tor.matmul(self.z2, self.W2)\n",
        "    \n",
        "    out = tor.sigmoid(self.z3) #activation\n",
        "    \n",
        "    return out\n",
        " \n",
        "  def sigmoid(self, x):\n",
        "    \n",
        "    a = 1/(1+tor.exp(-x))\n",
        "    return a\n",
        "  \n",
        "  def sigmoid_d1(self,x):\n",
        "    \n",
        "    return x * (1-x)\n",
        "  \n",
        "  def backward(self,X,y,o):\n",
        "    \n",
        "    self.out_error = y-o\n",
        "    self.delta = self.sigmoid_d1(o) * self.out_error  #  h'(x) * (h(x) - y)\n",
        "    self.hidd_error = tor.matmul(self.delta,tor.t(self.W2))\n",
        "    self.delta2 = self.sigmoid_d1(self.hidd_error) * self.hidd_error\n",
        "    \n",
        "    self.W1 += tor.matmul(tor.t(X), self.delta2)\n",
        "    self.W2 += tor.matmul(tor.t(self.z2), self.delta)\n",
        "    \n",
        "  def train(self,X,y):\n",
        "    \n",
        "    o = self.forward(X)\n",
        "    self.backward(X,y,o)  \n",
        "    \n",
        "  def save_weights(self,model):\n",
        "    \n",
        "    tor.save(model,\"NN\")\n",
        "    \n",
        "  def predict(self):\n",
        "    \n",
        "    print(\"The predicted data based on trained weights are: \")\n",
        "    print (\"Input (scaled): \\n\" + str(xPredicted))\n",
        "    print (\"Output: \\n\" + str(self.forward(xPredicted).detach().item()*100))    \n",
        "\n",
        "\n",
        "NN = neuralnetwork()\n",
        "for i in range(1000):  # trains the NN 1,000 times\n",
        "    #print (\"#\" + str(i) + \" Loss: \" + str(tor.mean((y - NN(X))**2).detach().item()))  # mean sum squared loss\n",
        "    NN.train(X, y)\n",
        "    \n",
        "NN.save_weights(NN)\n",
        "NN.predict()    \n",
        "  \n",
        "    \n",
        "    "
      ],
      "execution_count": 46,
      "outputs": [
        {
          "output_type": "stream",
          "text": [
            "The predicted data based on trained weights are: \n",
            "Input (scaled): \n",
            "tensor([0.5000, 1.0000])\n",
            "Output: \n",
            "79.56417202949524\n"
          ],
          "name": "stdout"
        },
        {
          "output_type": "stream",
          "text": [
            "/usr/local/lib/python3.6/dist-packages/torch/serialization.py:251: UserWarning: Couldn't retrieve source code for container of type neuralnetwork. It won't be checked for correctness upon loading.\n",
            "  \"type \" + obj.__name__ + \". It won't be checked \"\n"
          ],
          "name": "stderr"
        }
      ]
    }
  ]
}