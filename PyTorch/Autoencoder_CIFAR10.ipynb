{
  "nbformat": 4,
  "nbformat_minor": 0,
  "metadata": {
    "colab": {
      "name": "Autoencoder_CIFAR10.ipynb",
      "version": "0.3.2",
      "provenance": []
    },
    "kernelspec": {
      "name": "python3",
      "display_name": "Python 3"
    }
  },
  "cells": [
    {
      "metadata": {
        "id": "3POoz368F4y7",
        "colab_type": "code",
        "colab": {
          "base_uri": "https://localhost:8080/",
          "height": 53
        },
        "outputId": "03b66a3b-078a-4ac6-b0cc-d8ef5df4d6e7"
      },
      "cell_type": "code",
      "source": [
        "import torch\n",
        "import torch.nn as nn\n",
        "import torch.nn.functional as F\n",
        "import torchvision as tv\n",
        "import torchvision.transforms as transforms\n",
        "\n",
        "from torch.autograd import Variable #Variable is depreciated but can still be used. Autograd automatically supports Tensors with requires_grad set to True\n",
        "from torchvision.utils import save_image\n",
        "\n",
        "\n",
        "# Now we load the data\n",
        "\n",
        "transform = transforms.Compose([transforms.ToTensor(), transforms.Normalize((0.5, 0.5, 0.5), (0.2, 0.3, 0.35))])\n",
        "\n",
        "#Compose is used to chain various transformations together\n",
        "\n",
        "trainTransform  = tv.transforms.Compose([tv.transforms.ToTensor(), tv.transforms.Normalize((0.4914, 0.4822, 0.4466), (0.247, 0.243, 0.261))])\n",
        "\n",
        "trainset = tv.datasets.CIFAR10(root='./data',  train=True,download=True, transform=transform)\n",
        "\n",
        "dataloader = torch.utils.data.DataLoader(trainset, batch_size=32, shuffle=False, num_workers=4)\n",
        "\n",
        "testset = tv.datasets.CIFAR10(root='./data', train=False, download=True, transform=trainTransform)\n",
        "\n",
        "classes = ('plane', 'car', 'bird', 'cat', 'deer', 'dog', 'frog', 'horse', 'ship', 'truck')  # 10 classes\n",
        "\n",
        "testloader = torch.utils.data.DataLoader(testset, batch_size=4, shuffle=False, num_workers=2)\n",
        "\n",
        "#it = iter(dataloader)\n",
        "#image = it.next()\n",
        "#print(image[1])\n",
        "\n",
        "# Make the model\n",
        "\n",
        "class Autoencoder(nn.Module):\n",
        "  \n",
        "  def __init__(self):\n",
        "    super(Autoencoder, self).__init__()\n",
        "\n",
        "    self.encoder = nn.Sequential(nn.Conv2d(3, 6, kernel_size=5),nn.MaxPool2d(5,2,return_indices = True),nn.Conv2d(6,16,kernel_size=5),nn.ReLU(True))\n",
        "    \n",
        "    self.decoder = nn.Sequential(             \n",
        "    nn.ConvTranspose2d(16,6,kernel_size=5),\n",
        "    nn.MaxUnpool2d(5,2),\n",
        "    nn.ConvTranspose2d(6,3,kernel_size=5),\n",
        "    nn.ReLU(True),\n",
        "    nn.Sigmoid())\n",
        "\n",
        "  def forward(self,x):\n",
        "    x = self.encoder(x)\n",
        "    x = self.decoder(x)\n",
        "    return x\n",
        "\n",
        "#defining some parameters\n",
        "\n",
        "num_epochs = 5\n",
        "batch_size = 128\n",
        "\n",
        "model = Autoencoder().cpu()\n",
        "\n",
        "distance = nn.MSELoss()\n",
        "\n",
        "optimizer = torch.optim.Adam(model.parameters(),weight_decay=1e-5)\n",
        "\n",
        "for epoch in range(num_epochs):\n",
        "    for data in dataloader:\n",
        "        img, _ = data\n",
        "        img = Variable(img).cpu()\n",
        "        \n",
        "        #forward propogation\n",
        "        \n",
        "        output = model(img)\n",
        "        loss = distance(output, img) #distance between original image and compressed image\n",
        "        \n",
        "        # backward\n",
        "        optimizer.zero_grad()\n",
        "        loss.backward()\n",
        "        optimizer.step()\n",
        "    \n",
        "    print('epoch [{}/{}], loss:{:.4f}'.format(epoch+1, num_epochs, loss.item()))"
      ],
      "execution_count": 34,
      "outputs": [
        {
          "output_type": "stream",
          "text": [
            "Files already downloaded and verified\n",
            "Files already downloaded and verified\n"
          ],
          "name": "stdout"
        }
      ]
    },
    {
      "metadata": {
        "id": "zC5NSFJpc3E-",
        "colab_type": "code",
        "colab": {}
      },
      "cell_type": "code",
      "source": [
        ""
      ],
      "execution_count": 0,
      "outputs": []
    }
  ]
}