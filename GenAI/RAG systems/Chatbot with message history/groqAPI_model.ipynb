{
 "cells": [
  {
   "cell_type": "code",
   "execution_count": 4,
   "metadata": {},
   "outputs": [
    {
     "name": "stdout",
     "output_type": "stream",
     "text": [
      "Requirement already satisfied: faiss-cpu in c:\\users\\admin\\anaconda3\\lib\\site-packages (from -r ../requirements.txt (line 1)) (1.8.0.post1)\n",
      "Collecting groq (from -r ../requirements.txt (line 2))\n",
      "  Using cached groq-0.11.0-py3-none-any.whl.metadata (13 kB)\n",
      "Collecting langchain-groq (from -r ../requirements.txt (line 3))\n",
      "  Using cached langchain_groq-0.2.0-py3-none-any.whl.metadata (2.9 kB)\n",
      "Collecting PyPDF2 (from -r ../requirements.txt (line 4))\n",
      "  Using cached pypdf2-3.0.1-py3-none-any.whl.metadata (6.8 kB)\n",
      "Collecting langchain_google_genai (from -r ../requirements.txt (line 5))\n",
      "  Downloading langchain_google_genai-2.0.0-py3-none-any.whl.metadata (3.9 kB)\n",
      "Requirement already satisfied: langchain in c:\\users\\admin\\anaconda3\\lib\\site-packages (from -r ../requirements.txt (line 6)) (0.2.16)\n",
      "Requirement already satisfied: streamlit in c:\\users\\admin\\anaconda3\\lib\\site-packages (from -r ../requirements.txt (line 7)) (1.32.0)\n",
      "Requirement already satisfied: langchain_community in c:\\users\\admin\\anaconda3\\lib\\site-packages (from -r ../requirements.txt (line 8)) (0.2.16)\n",
      "Requirement already satisfied: python-dotenv in c:\\users\\admin\\anaconda3\\lib\\site-packages (from -r ../requirements.txt (line 9)) (0.21.0)\n",
      "Requirement already satisfied: pypdf in c:\\users\\admin\\anaconda3\\lib\\site-packages (from -r ../requirements.txt (line 10)) (4.3.1)\n",
      "Requirement already satisfied: numpy<2.0,>=1.0 in c:\\users\\admin\\anaconda3\\lib\\site-packages (from faiss-cpu->-r ../requirements.txt (line 1)) (1.26.4)\n",
      "Requirement already satisfied: packaging in c:\\users\\admin\\anaconda3\\lib\\site-packages (from faiss-cpu->-r ../requirements.txt (line 1)) (23.2)\n",
      "Requirement already satisfied: anyio<5,>=3.5.0 in c:\\users\\admin\\anaconda3\\lib\\site-packages (from groq->-r ../requirements.txt (line 2)) (4.2.0)\n",
      "Requirement already satisfied: distro<2,>=1.7.0 in c:\\users\\admin\\anaconda3\\lib\\site-packages (from groq->-r ../requirements.txt (line 2)) (1.9.0)\n",
      "Requirement already satisfied: httpx<1,>=0.23.0 in c:\\users\\admin\\anaconda3\\lib\\site-packages (from groq->-r ../requirements.txt (line 2)) (0.27.0)\n",
      "Requirement already satisfied: pydantic<3,>=1.9.0 in c:\\users\\admin\\anaconda3\\lib\\site-packages (from groq->-r ../requirements.txt (line 2)) (2.9.0)\n",
      "Requirement already satisfied: sniffio in c:\\users\\admin\\anaconda3\\lib\\site-packages (from groq->-r ../requirements.txt (line 2)) (1.3.0)\n",
      "Requirement already satisfied: typing-extensions<5,>=4.7 in c:\\users\\admin\\anaconda3\\lib\\site-packages (from groq->-r ../requirements.txt (line 2)) (4.11.0)\n",
      "Collecting langchain-core<0.4,>=0.3 (from langchain-groq->-r ../requirements.txt (line 3))\n",
      "  Downloading langchain_core-0.3.5-py3-none-any.whl.metadata (6.3 kB)\n",
      "Collecting google-generativeai<0.8.0,>=0.7.0 (from langchain_google_genai->-r ../requirements.txt (line 5))\n",
      "  Using cached google_generativeai-0.7.2-py3-none-any.whl.metadata (4.0 kB)\n",
      "Requirement already satisfied: PyYAML>=5.3 in c:\\users\\admin\\anaconda3\\lib\\site-packages (from langchain->-r ../requirements.txt (line 6)) (6.0.1)\n",
      "Requirement already satisfied: SQLAlchemy<3,>=1.4 in c:\\users\\admin\\anaconda3\\lib\\site-packages (from langchain->-r ../requirements.txt (line 6)) (2.0.30)\n",
      "Requirement already satisfied: aiohttp<4.0.0,>=3.8.3 in c:\\users\\admin\\anaconda3\\lib\\site-packages (from langchain->-r ../requirements.txt (line 6)) (3.9.5)\n",
      "INFO: pip is looking at multiple versions of langchain to determine which version is compatible with other requirements. This could take a while.\n",
      "Collecting langchain (from -r ../requirements.txt (line 6))\n",
      "  Downloading langchain-0.3.0-py3-none-any.whl.metadata (7.1 kB)\n",
      "Collecting langchain-text-splitters<0.4.0,>=0.3.0 (from langchain->-r ../requirements.txt (line 6))\n",
      "  Downloading langchain_text_splitters-0.3.0-py3-none-any.whl.metadata (2.3 kB)\n",
      "Requirement already satisfied: langsmith<0.2.0,>=0.1.17 in c:\\users\\admin\\anaconda3\\lib\\site-packages (from langchain->-r ../requirements.txt (line 6)) (0.1.115)\n",
      "Requirement already satisfied: requests<3,>=2 in c:\\users\\admin\\anaconda3\\lib\\site-packages (from langchain->-r ../requirements.txt (line 6)) (2.32.2)\n",
      "Requirement already satisfied: tenacity!=8.4.0,<9.0.0,>=8.1.0 in c:\\users\\admin\\anaconda3\\lib\\site-packages (from langchain->-r ../requirements.txt (line 6)) (8.5.0)\n",
      "Requirement already satisfied: altair<6,>=4.0 in c:\\users\\admin\\anaconda3\\lib\\site-packages (from streamlit->-r ../requirements.txt (line 7)) (5.0.1)\n",
      "Requirement already satisfied: blinker<2,>=1.0.0 in c:\\users\\admin\\anaconda3\\lib\\site-packages (from streamlit->-r ../requirements.txt (line 7)) (1.6.2)\n",
      "Requirement already satisfied: cachetools<6,>=4.0 in c:\\users\\admin\\anaconda3\\lib\\site-packages (from streamlit->-r ../requirements.txt (line 7)) (5.3.3)\n",
      "Requirement already satisfied: click<9,>=7.0 in c:\\users\\admin\\anaconda3\\lib\\site-packages (from streamlit->-r ../requirements.txt (line 7)) (8.1.7)\n",
      "Requirement already satisfied: pandas<3,>=1.3.0 in c:\\users\\admin\\anaconda3\\lib\\site-packages (from streamlit->-r ../requirements.txt (line 7)) (2.2.2)\n",
      "Requirement already satisfied: pillow<11,>=7.1.0 in c:\\users\\admin\\anaconda3\\lib\\site-packages (from streamlit->-r ../requirements.txt (line 7)) (10.3.0)\n",
      "Requirement already satisfied: protobuf<5,>=3.20 in c:\\users\\admin\\anaconda3\\lib\\site-packages (from streamlit->-r ../requirements.txt (line 7)) (3.20.3)\n",
      "Requirement already satisfied: pyarrow>=7.0 in c:\\users\\admin\\anaconda3\\lib\\site-packages (from streamlit->-r ../requirements.txt (line 7)) (14.0.2)\n",
      "Requirement already satisfied: rich<14,>=10.14.0 in c:\\users\\admin\\anaconda3\\lib\\site-packages (from streamlit->-r ../requirements.txt (line 7)) (13.3.5)\n",
      "Requirement already satisfied: toml<2,>=0.10.1 in c:\\users\\admin\\anaconda3\\lib\\site-packages (from streamlit->-r ../requirements.txt (line 7)) (0.10.2)\n",
      "Requirement already satisfied: gitpython!=3.1.19,<4,>=3.0.7 in c:\\users\\admin\\anaconda3\\lib\\site-packages (from streamlit->-r ../requirements.txt (line 7)) (3.1.37)\n",
      "Requirement already satisfied: pydeck<1,>=0.8.0b4 in c:\\users\\admin\\anaconda3\\lib\\site-packages (from streamlit->-r ../requirements.txt (line 7)) (0.8.0)\n",
      "Requirement already satisfied: tornado<7,>=6.0.3 in c:\\users\\admin\\anaconda3\\lib\\site-packages (from streamlit->-r ../requirements.txt (line 7)) (6.4.1)\n",
      "Requirement already satisfied: watchdog>=2.1.5 in c:\\users\\admin\\anaconda3\\lib\\site-packages (from streamlit->-r ../requirements.txt (line 7)) (4.0.1)\n",
      "Requirement already satisfied: dataclasses-json<0.7,>=0.5.7 in c:\\users\\admin\\anaconda3\\lib\\site-packages (from langchain_community->-r ../requirements.txt (line 8)) (0.6.7)\n",
      "INFO: pip is looking at multiple versions of langchain-community to determine which version is compatible with other requirements. This could take a while.\n",
      "Collecting langchain_community (from -r ../requirements.txt (line 8))\n",
      "  Downloading langchain_community-0.3.0-py3-none-any.whl.metadata (2.8 kB)\n",
      "Collecting pydantic-settings<3.0.0,>=2.4.0 (from langchain_community->-r ../requirements.txt (line 8))\n",
      "  Downloading pydantic_settings-2.5.2-py3-none-any.whl.metadata (3.5 kB)\n",
      "Requirement already satisfied: aiosignal>=1.1.2 in c:\\users\\admin\\anaconda3\\lib\\site-packages (from aiohttp<4.0.0,>=3.8.3->langchain->-r ../requirements.txt (line 6)) (1.2.0)\n",
      "Requirement already satisfied: attrs>=17.3.0 in c:\\users\\admin\\anaconda3\\lib\\site-packages (from aiohttp<4.0.0,>=3.8.3->langchain->-r ../requirements.txt (line 6)) (23.1.0)\n",
      "Requirement already satisfied: frozenlist>=1.1.1 in c:\\users\\admin\\anaconda3\\lib\\site-packages (from aiohttp<4.0.0,>=3.8.3->langchain->-r ../requirements.txt (line 6)) (1.4.0)\n",
      "Requirement already satisfied: multidict<7.0,>=4.5 in c:\\users\\admin\\anaconda3\\lib\\site-packages (from aiohttp<4.0.0,>=3.8.3->langchain->-r ../requirements.txt (line 6)) (6.0.4)\n",
      "Requirement already satisfied: yarl<2.0,>=1.0 in c:\\users\\admin\\anaconda3\\lib\\site-packages (from aiohttp<4.0.0,>=3.8.3->langchain->-r ../requirements.txt (line 6)) (1.9.3)\n",
      "Requirement already satisfied: jinja2 in c:\\users\\admin\\anaconda3\\lib\\site-packages (from altair<6,>=4.0->streamlit->-r ../requirements.txt (line 7)) (3.1.4)\n",
      "Requirement already satisfied: jsonschema>=3.0 in c:\\users\\admin\\anaconda3\\lib\\site-packages (from altair<6,>=4.0->streamlit->-r ../requirements.txt (line 7)) (4.19.2)\n",
      "Requirement already satisfied: toolz in c:\\users\\admin\\anaconda3\\lib\\site-packages (from altair<6,>=4.0->streamlit->-r ../requirements.txt (line 7)) (0.12.0)\n",
      "Requirement already satisfied: idna>=2.8 in c:\\users\\admin\\anaconda3\\lib\\site-packages (from anyio<5,>=3.5.0->groq->-r ../requirements.txt (line 2)) (3.7)\n",
      "Requirement already satisfied: colorama in c:\\users\\admin\\anaconda3\\lib\\site-packages (from click<9,>=7.0->streamlit->-r ../requirements.txt (line 7)) (0.4.6)\n",
      "Requirement already satisfied: marshmallow<4.0.0,>=3.18.0 in c:\\users\\admin\\anaconda3\\lib\\site-packages (from dataclasses-json<0.7,>=0.5.7->langchain_community->-r ../requirements.txt (line 8)) (3.22.0)\n",
      "Requirement already satisfied: typing-inspect<1,>=0.4.0 in c:\\users\\admin\\anaconda3\\lib\\site-packages (from dataclasses-json<0.7,>=0.5.7->langchain_community->-r ../requirements.txt (line 8)) (0.9.0)\n",
      "Requirement already satisfied: gitdb<5,>=4.0.1 in c:\\users\\admin\\anaconda3\\lib\\site-packages (from gitpython!=3.1.19,<4,>=3.0.7->streamlit->-r ../requirements.txt (line 7)) (4.0.7)\n",
      "Collecting google-ai-generativelanguage==0.6.6 (from google-generativeai<0.8.0,>=0.7.0->langchain_google_genai->-r ../requirements.txt (line 5))\n",
      "  Using cached google_ai_generativelanguage-0.6.6-py3-none-any.whl.metadata (5.6 kB)\n",
      "Collecting google-api-core (from google-generativeai<0.8.0,>=0.7.0->langchain_google_genai->-r ../requirements.txt (line 5))\n",
      "  Downloading google_api_core-2.20.0-py3-none-any.whl.metadata (2.7 kB)\n",
      "Collecting google-api-python-client (from google-generativeai<0.8.0,>=0.7.0->langchain_google_genai->-r ../requirements.txt (line 5))\n",
      "  Downloading google_api_python_client-2.147.0-py2.py3-none-any.whl.metadata (6.7 kB)\n",
      "Requirement already satisfied: google-auth>=2.15.0 in c:\\users\\admin\\anaconda3\\lib\\site-packages (from google-generativeai<0.8.0,>=0.7.0->langchain_google_genai->-r ../requirements.txt (line 5)) (2.34.0)\n",
      "Requirement already satisfied: tqdm in c:\\users\\admin\\anaconda3\\lib\\site-packages (from google-generativeai<0.8.0,>=0.7.0->langchain_google_genai->-r ../requirements.txt (line 5)) (4.66.4)\n",
      "Collecting proto-plus<2.0.0dev,>=1.22.3 (from google-ai-generativelanguage==0.6.6->google-generativeai<0.8.0,>=0.7.0->langchain_google_genai->-r ../requirements.txt (line 5))\n",
      "  Using cached proto_plus-1.24.0-py3-none-any.whl.metadata (2.2 kB)\n",
      "Requirement already satisfied: certifi in c:\\users\\admin\\anaconda3\\lib\\site-packages (from httpx<1,>=0.23.0->groq->-r ../requirements.txt (line 2)) (2024.8.30)\n",
      "Requirement already satisfied: httpcore==1.* in c:\\users\\admin\\anaconda3\\lib\\site-packages (from httpx<1,>=0.23.0->groq->-r ../requirements.txt (line 2)) (1.0.2)\n",
      "Requirement already satisfied: h11<0.15,>=0.13 in c:\\users\\admin\\anaconda3\\lib\\site-packages (from httpcore==1.*->httpx<1,>=0.23.0->groq->-r ../requirements.txt (line 2)) (0.14.0)\n",
      "Requirement already satisfied: jsonpatch<2.0,>=1.33 in c:\\users\\admin\\anaconda3\\lib\\site-packages (from langchain-core<0.4,>=0.3->langchain-groq->-r ../requirements.txt (line 3)) (1.33)\n",
      "Collecting langsmith<0.2.0,>=0.1.17 (from langchain->-r ../requirements.txt (line 6))\n",
      "  Downloading langsmith-0.1.128-py3-none-any.whl.metadata (13 kB)\n",
      "Requirement already satisfied: orjson<4.0.0,>=3.9.14 in c:\\users\\admin\\anaconda3\\lib\\site-packages (from langsmith<0.2.0,>=0.1.17->langchain->-r ../requirements.txt (line 6)) (3.10.7)\n",
      "Requirement already satisfied: python-dateutil>=2.8.2 in c:\\users\\admin\\anaconda3\\lib\\site-packages (from pandas<3,>=1.3.0->streamlit->-r ../requirements.txt (line 7)) (2.9.0.post0)\n",
      "Requirement already satisfied: pytz>=2020.1 in c:\\users\\admin\\anaconda3\\lib\\site-packages (from pandas<3,>=1.3.0->streamlit->-r ../requirements.txt (line 7)) (2024.1)\n",
      "Requirement already satisfied: tzdata>=2022.7 in c:\\users\\admin\\anaconda3\\lib\\site-packages (from pandas<3,>=1.3.0->streamlit->-r ../requirements.txt (line 7)) (2023.3)\n",
      "Requirement already satisfied: annotated-types>=0.4.0 in c:\\users\\admin\\anaconda3\\lib\\site-packages (from pydantic<3,>=1.9.0->groq->-r ../requirements.txt (line 2)) (0.6.0)\n",
      "Requirement already satisfied: pydantic-core==2.23.2 in c:\\users\\admin\\anaconda3\\lib\\site-packages (from pydantic<3,>=1.9.0->groq->-r ../requirements.txt (line 2)) (2.23.2)\n",
      "Requirement already satisfied: charset-normalizer<4,>=2 in c:\\users\\admin\\anaconda3\\lib\\site-packages (from requests<3,>=2->langchain->-r ../requirements.txt (line 6)) (2.0.4)\n",
      "Requirement already satisfied: urllib3<3,>=1.21.1 in c:\\users\\admin\\anaconda3\\lib\\site-packages (from requests<3,>=2->langchain->-r ../requirements.txt (line 6)) (2.2.2)\n",
      "Requirement already satisfied: markdown-it-py<3.0.0,>=2.2.0 in c:\\users\\admin\\anaconda3\\lib\\site-packages (from rich<14,>=10.14.0->streamlit->-r ../requirements.txt (line 7)) (2.2.0)\n",
      "Requirement already satisfied: pygments<3.0.0,>=2.13.0 in c:\\users\\admin\\anaconda3\\lib\\site-packages (from rich<14,>=10.14.0->streamlit->-r ../requirements.txt (line 7)) (2.15.1)\n",
      "Requirement already satisfied: greenlet!=0.4.17 in c:\\users\\admin\\anaconda3\\lib\\site-packages (from SQLAlchemy<3,>=1.4->langchain->-r ../requirements.txt (line 6)) (3.0.1)\n",
      "Requirement already satisfied: smmap<5,>=3.0.1 in c:\\users\\admin\\anaconda3\\lib\\site-packages (from gitdb<5,>=4.0.1->gitpython!=3.1.19,<4,>=3.0.7->streamlit->-r ../requirements.txt (line 7)) (4.0.0)\n",
      "Requirement already satisfied: googleapis-common-protos<2.0.dev0,>=1.56.2 in c:\\users\\admin\\anaconda3\\lib\\site-packages (from google-api-core->google-generativeai<0.8.0,>=0.7.0->langchain_google_genai->-r ../requirements.txt (line 5)) (1.65.0)\n",
      "Requirement already satisfied: pyasn1-modules>=0.2.1 in c:\\users\\admin\\anaconda3\\lib\\site-packages (from google-auth>=2.15.0->google-generativeai<0.8.0,>=0.7.0->langchain_google_genai->-r ../requirements.txt (line 5)) (0.2.8)\n",
      "Requirement already satisfied: rsa<5,>=3.1.4 in c:\\users\\admin\\anaconda3\\lib\\site-packages (from google-auth>=2.15.0->google-generativeai<0.8.0,>=0.7.0->langchain_google_genai->-r ../requirements.txt (line 5)) (4.9)\n",
      "Requirement already satisfied: MarkupSafe>=2.0 in c:\\users\\admin\\anaconda3\\lib\\site-packages (from jinja2->altair<6,>=4.0->streamlit->-r ../requirements.txt (line 7)) (2.1.3)\n",
      "Requirement already satisfied: jsonpointer>=1.9 in c:\\users\\admin\\anaconda3\\lib\\site-packages (from jsonpatch<2.0,>=1.33->langchain-core<0.4,>=0.3->langchain-groq->-r ../requirements.txt (line 3)) (2.1)\n",
      "Requirement already satisfied: jsonschema-specifications>=2023.03.6 in c:\\users\\admin\\anaconda3\\lib\\site-packages (from jsonschema>=3.0->altair<6,>=4.0->streamlit->-r ../requirements.txt (line 7)) (2023.7.1)\n",
      "Requirement already satisfied: referencing>=0.28.4 in c:\\users\\admin\\anaconda3\\lib\\site-packages (from jsonschema>=3.0->altair<6,>=4.0->streamlit->-r ../requirements.txt (line 7)) (0.30.2)\n",
      "Requirement already satisfied: rpds-py>=0.7.1 in c:\\users\\admin\\anaconda3\\lib\\site-packages (from jsonschema>=3.0->altair<6,>=4.0->streamlit->-r ../requirements.txt (line 7)) (0.10.6)\n",
      "Requirement already satisfied: mdurl~=0.1 in c:\\users\\admin\\anaconda3\\lib\\site-packages (from markdown-it-py<3.0.0,>=2.2.0->rich<14,>=10.14.0->streamlit->-r ../requirements.txt (line 7)) (0.1.0)\n",
      "Requirement already satisfied: six>=1.5 in c:\\users\\admin\\anaconda3\\lib\\site-packages (from python-dateutil>=2.8.2->pandas<3,>=1.3.0->streamlit->-r ../requirements.txt (line 7)) (1.16.0)\n",
      "Requirement already satisfied: mypy-extensions>=0.3.0 in c:\\users\\admin\\anaconda3\\lib\\site-packages (from typing-inspect<1,>=0.4.0->dataclasses-json<0.7,>=0.5.7->langchain_community->-r ../requirements.txt (line 8)) (1.0.0)\n",
      "Collecting httplib2<1.dev0,>=0.19.0 (from google-api-python-client->google-generativeai<0.8.0,>=0.7.0->langchain_google_genai->-r ../requirements.txt (line 5))\n",
      "  Using cached httplib2-0.22.0-py3-none-any.whl.metadata (2.6 kB)\n",
      "Collecting google-auth-httplib2<1.0.0,>=0.2.0 (from google-api-python-client->google-generativeai<0.8.0,>=0.7.0->langchain_google_genai->-r ../requirements.txt (line 5))\n",
      "  Using cached google_auth_httplib2-0.2.0-py2.py3-none-any.whl.metadata (2.2 kB)\n",
      "Collecting uritemplate<5,>=3.0.1 (from google-api-python-client->google-generativeai<0.8.0,>=0.7.0->langchain_google_genai->-r ../requirements.txt (line 5))\n",
      "  Using cached uritemplate-4.1.1-py2.py3-none-any.whl.metadata (2.9 kB)\n",
      "Requirement already satisfied: grpcio<2.0dev,>=1.33.2 in c:\\users\\admin\\anaconda3\\lib\\site-packages (from google-api-core[grpc]!=2.0.*,!=2.1.*,!=2.10.*,!=2.2.*,!=2.3.*,!=2.4.*,!=2.5.*,!=2.6.*,!=2.7.*,!=2.8.*,!=2.9.*,<3.0.0dev,>=1.34.1->google-ai-generativelanguage==0.6.6->google-generativeai<0.8.0,>=0.7.0->langchain_google_genai->-r ../requirements.txt (line 5)) (1.66.1)\n",
      "Collecting grpcio-status<2.0.dev0,>=1.33.2 (from google-api-core[grpc]!=2.0.*,!=2.1.*,!=2.10.*,!=2.2.*,!=2.3.*,!=2.4.*,!=2.5.*,!=2.6.*,!=2.7.*,!=2.8.*,!=2.9.*,<3.0.0dev,>=1.34.1->google-ai-generativelanguage==0.6.6->google-generativeai<0.8.0,>=0.7.0->langchain_google_genai->-r ../requirements.txt (line 5))\n",
      "  Using cached grpcio_status-1.66.1-py3-none-any.whl.metadata (1.1 kB)\n",
      "Requirement already satisfied: pyparsing!=3.0.0,!=3.0.1,!=3.0.2,!=3.0.3,<4,>=2.4.2 in c:\\users\\admin\\anaconda3\\lib\\site-packages (from httplib2<1.dev0,>=0.19.0->google-api-python-client->google-generativeai<0.8.0,>=0.7.0->langchain_google_genai->-r ../requirements.txt (line 5)) (3.0.9)\n",
      "Requirement already satisfied: pyasn1<0.5.0,>=0.4.6 in c:\\users\\admin\\anaconda3\\lib\\site-packages (from pyasn1-modules>=0.2.1->google-auth>=2.15.0->google-generativeai<0.8.0,>=0.7.0->langchain_google_genai->-r ../requirements.txt (line 5)) (0.4.8)\n",
      "INFO: pip is looking at multiple versions of grpcio-status to determine which version is compatible with other requirements. This could take a while.\n",
      "  Using cached grpcio_status-1.66.0-py3-none-any.whl.metadata (1.1 kB)\n",
      "  Using cached grpcio_status-1.65.5-py3-none-any.whl.metadata (1.1 kB)\n",
      "  Using cached grpcio_status-1.65.4-py3-none-any.whl.metadata (1.1 kB)\n",
      "  Using cached grpcio_status-1.65.2-py3-none-any.whl.metadata (1.1 kB)\n",
      "  Using cached grpcio_status-1.65.1-py3-none-any.whl.metadata (1.1 kB)\n",
      "  Using cached grpcio_status-1.64.3-py3-none-any.whl.metadata (1.1 kB)\n",
      "  Using cached grpcio_status-1.64.1-py3-none-any.whl.metadata (1.1 kB)\n",
      "INFO: pip is still looking at multiple versions of grpcio-status to determine which version is compatible with other requirements. This could take a while.\n",
      "  Using cached grpcio_status-1.64.0-py3-none-any.whl.metadata (1.1 kB)\n",
      "  Using cached grpcio_status-1.63.2-py3-none-any.whl.metadata (1.1 kB)\n",
      "  Using cached grpcio_status-1.63.0-py3-none-any.whl.metadata (1.1 kB)\n",
      "  Using cached grpcio_status-1.62.3-py3-none-any.whl.metadata (1.3 kB)\n",
      "Collecting protobuf<5,>=3.20 (from streamlit->-r ../requirements.txt (line 7))\n",
      "  Downloading protobuf-4.25.5-cp310-abi3-win_amd64.whl.metadata (541 bytes)\n",
      "Using cached groq-0.11.0-py3-none-any.whl (106 kB)\n",
      "Downloading langchain_groq-0.2.0-py3-none-any.whl (14 kB)\n",
      "Using cached pypdf2-3.0.1-py3-none-any.whl (232 kB)\n",
      "Downloading langchain_google_genai-2.0.0-py3-none-any.whl (39 kB)\n",
      "Downloading langchain-0.3.0-py3-none-any.whl (1.0 MB)\n",
      "   ---------------------------------------- 0.0/1.0 MB ? eta -:--:--\n",
      "   -------------------------- ------------- 0.7/1.0 MB 13.9 MB/s eta 0:00:01\n",
      "   ---------------------------------------- 1.0/1.0 MB 15.8 MB/s eta 0:00:00\n",
      "Downloading langchain_community-0.3.0-py3-none-any.whl (2.3 MB)\n",
      "   ---------------------------------------- 0.0/2.3 MB ? eta -:--:--\n",
      "   ------------------ --------------------- 1.1/2.3 MB 34.0 MB/s eta 0:00:01\n",
      "   ------------------------------------- -- 2.2/2.3 MB 27.7 MB/s eta 0:00:01\n",
      "   ---------------------------------------- 2.3/2.3 MB 21.4 MB/s eta 0:00:00\n",
      "Using cached google_generativeai-0.7.2-py3-none-any.whl (164 kB)\n",
      "Using cached google_ai_generativelanguage-0.6.6-py3-none-any.whl (718 kB)\n",
      "Downloading langchain_core-0.3.5-py3-none-any.whl (399 kB)\n",
      "   ---------------------------------------- 0.0/399.9 kB ? eta -:--:--\n",
      "   --------------------------------------- 399.9/399.9 kB 24.4 MB/s eta 0:00:00\n",
      "Downloading langchain_text_splitters-0.3.0-py3-none-any.whl (25 kB)\n",
      "Downloading langsmith-0.1.128-py3-none-any.whl (292 kB)\n",
      "   ---------------------------------------- 0.0/292.1 kB ? eta -:--:--\n",
      "   ---------------------------------------- 292.1/292.1 kB ? eta 0:00:00\n",
      "Downloading pydantic_settings-2.5.2-py3-none-any.whl (26 kB)\n",
      "Downloading google_api_core-2.20.0-py3-none-any.whl (142 kB)\n",
      "   ---------------------------------------- 0.0/142.2 kB ? eta -:--:--\n",
      "   ---------------------------------------- 142.2/142.2 kB ? eta 0:00:00\n",
      "Downloading google_api_python_client-2.147.0-py2.py3-none-any.whl (12.2 MB)\n",
      "   ---------------------------------------- 0.0/12.2 MB ? eta -:--:--\n",
      "   --- ------------------------------------ 1.1/12.2 MB 36.0 MB/s eta 0:00:01\n",
      "   ------- -------------------------------- 2.2/12.2 MB 28.0 MB/s eta 0:00:01\n",
      "   ---------- ----------------------------- 3.2/12.2 MB 25.8 MB/s eta 0:00:01\n",
      "   -------------- ------------------------- 4.4/12.2 MB 25.4 MB/s eta 0:00:01\n",
      "   ------------------ --------------------- 5.6/12.2 MB 25.4 MB/s eta 0:00:01\n",
      "   ---------------------- ----------------- 6.8/12.2 MB 25.6 MB/s eta 0:00:01\n",
      "   -------------------------- ------------- 8.0/12.2 MB 25.5 MB/s eta 0:00:01\n",
      "   ----------------------------- ---------- 8.9/12.2 MB 24.8 MB/s eta 0:00:01\n",
      "   --------------------------------- ------ 10.3/12.2 MB 25.2 MB/s eta 0:00:01\n",
      "   ------------------------------------- -- 11.3/12.2 MB 24.2 MB/s eta 0:00:01\n",
      "   ---------------------------------------  12.2/12.2 MB 24.2 MB/s eta 0:00:01\n",
      "   ---------------------------------------  12.2/12.2 MB 23.4 MB/s eta 0:00:01\n",
      "   ---------------------------------------  12.2/12.2 MB 23.4 MB/s eta 0:00:01\n",
      "   ---------------------------------------- 12.2/12.2 MB 19.3 MB/s eta 0:00:00\n",
      "Using cached google_auth_httplib2-0.2.0-py2.py3-none-any.whl (9.3 kB)\n",
      "Using cached httplib2-0.22.0-py3-none-any.whl (96 kB)\n",
      "Using cached proto_plus-1.24.0-py3-none-any.whl (50 kB)\n",
      "Using cached uritemplate-4.1.1-py2.py3-none-any.whl (10 kB)\n",
      "Using cached grpcio_status-1.62.3-py3-none-any.whl (14 kB)\n",
      "Downloading protobuf-4.25.5-cp310-abi3-win_amd64.whl (413 kB)\n",
      "   ---------------------------------------- 0.0/413.4 kB ? eta -:--:--\n",
      "   --------------------------------------- 413.4/413.4 kB 13.0 MB/s eta 0:00:00\n",
      "Installing collected packages: uritemplate, PyPDF2, protobuf, httplib2, proto-plus, pydantic-settings, langsmith, grpcio-status, groq, google-auth-httplib2, google-api-core, langchain-core, google-api-python-client, langchain-text-splitters, langchain-groq, google-ai-generativelanguage, langchain, google-generativeai, langchain_google_genai, langchain_community\n",
      "  Attempting uninstall: protobuf\n",
      "    Found existing installation: protobuf 3.20.3\n",
      "    Uninstalling protobuf-3.20.3:\n",
      "      Successfully uninstalled protobuf-3.20.3\n",
      "  Attempting uninstall: langsmith\n",
      "    Found existing installation: langsmith 0.1.115\n",
      "    Uninstalling langsmith-0.1.115:\n",
      "      Successfully uninstalled langsmith-0.1.115\n",
      "  Attempting uninstall: langchain-core\n",
      "    Found existing installation: langchain-core 0.2.38\n",
      "    Uninstalling langchain-core-0.2.38:\n",
      "      Successfully uninstalled langchain-core-0.2.38\n",
      "  Attempting uninstall: langchain-text-splitters\n",
      "    Found existing installation: langchain-text-splitters 0.2.4\n",
      "    Uninstalling langchain-text-splitters-0.2.4:\n",
      "      Successfully uninstalled langchain-text-splitters-0.2.4\n",
      "  Attempting uninstall: langchain\n",
      "    Found existing installation: langchain 0.2.16\n",
      "    Uninstalling langchain-0.2.16:\n",
      "      Successfully uninstalled langchain-0.2.16\n",
      "  Attempting uninstall: langchain_community\n",
      "    Found existing installation: langchain-community 0.2.16\n",
      "    Uninstalling langchain-community-0.2.16:\n",
      "      Successfully uninstalled langchain-community-0.2.16\n",
      "Successfully installed PyPDF2-3.0.1 google-ai-generativelanguage-0.6.6 google-api-core-2.20.0 google-api-python-client-2.147.0 google-auth-httplib2-0.2.0 google-generativeai-0.7.2 groq-0.11.0 grpcio-status-1.62.3 httplib2-0.22.0 langchain-0.3.0 langchain-core-0.3.5 langchain-groq-0.2.0 langchain-text-splitters-0.3.0 langchain_community-0.3.0 langchain_google_genai-2.0.0 langsmith-0.1.128 proto-plus-1.24.0 protobuf-4.25.5 pydantic-settings-2.5.2 uritemplate-4.1.1\n"
     ]
    },
    {
     "name": "stderr",
     "output_type": "stream",
     "text": [
      "ERROR: pip's dependency resolver does not currently take into account all the packages that are installed. This behaviour is the source of the following dependency conflicts.\n",
      "langchain-chroma 0.1.3 requires langchain-core<0.3,>=0.1.40, but you have langchain-core 0.3.5 which is incompatible.\n",
      "langchain-huggingface 0.0.3 requires langchain-core<0.3,>=0.1.52, but you have langchain-core 0.3.5 which is incompatible.\n",
      "langchain-openai 0.1.23 requires langchain-core<0.3.0,>=0.2.35, but you have langchain-core 0.3.5 which is incompatible.\n"
     ]
    }
   ],
   "source": [
    "!pip install -r ../requirements.txt"
   ]
  },
  {
   "cell_type": "code",
   "execution_count": 5,
   "metadata": {},
   "outputs": [
    {
     "name": "stdout",
     "output_type": "stream",
     "text": [
      "Python 3.12.4\n"
     ]
    }
   ],
   "source": [
    "!python --version"
   ]
  },
  {
   "cell_type": "markdown",
   "metadata": {},
   "source": [
    "# Importing"
   ]
  },
  {
   "cell_type": "code",
   "execution_count": 22,
   "metadata": {},
   "outputs": [],
   "source": [
    "import os\n",
    "from dotenv import load_dotenv\n",
    "load_dotenv()\n",
    "from langchain_groq import ChatGroq\n",
    "from IPython.display import Markdown\n",
    "from langchain_core.messages import HumanMessage, SystemMessage, AIMessage\n",
    "from langchain_community.chat_message_histories import SQLChatMessageHistory, ChatMessageHistory\n",
    "from langchain_core.chat_history import BaseChatMessageHistory\n",
    "from langchain_core.runnables.history import RunnableWithMessageHistory\n",
    "from langchain_core.prompts import ChatPromptTemplate, MessagesPlaceholder\n",
    "from langchain_core.output_parsers import StrOutputParser"
   ]
  },
  {
   "cell_type": "code",
   "execution_count": 4,
   "metadata": {},
   "outputs": [],
   "source": [
    "class chatmodel_groqAPI():\n",
    "    \n",
    "    def __init__(self) -> None:\n",
    "        pass\n",
    "\n",
    "    def _initialize_groq_api(self, key):\n",
    "        self._groq_api_key = os.getenv(key=key)"
   ]
  },
  {
   "cell_type": "code",
   "execution_count": 5,
   "metadata": {},
   "outputs": [
    {
     "data": {
      "text/plain": [
       "'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'"
      ]
     },
     "execution_count": 5,
     "metadata": {},
     "output_type": "execute_result"
    }
   ],
   "source": [
    "test = chatmodel_groqAPI()\n",
    "test._initialize_groq_api(\"GROQ_API_KEY\")\n",
    "test._groq_api_key"
   ]
  },
  {
   "cell_type": "code",
   "execution_count": 6,
   "metadata": {},
   "outputs": [
    {
     "data": {
      "text/plain": [
       "'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'"
      ]
     },
     "execution_count": 6,
     "metadata": {},
     "output_type": "execute_result"
    }
   ],
   "source": [
    "# import groq API key - GROQ is for fast LPU inference\n",
    "groq_api_key = os.getenv(key=\"GROQ_API_KEY\")\n",
    "groq_api_key"
   ]
  },
  {
   "cell_type": "markdown",
   "metadata": {},
   "source": [
    "## Starters"
   ]
  },
  {
   "cell_type": "markdown",
   "metadata": {},
   "source": [
    "### Creating model"
   ]
  },
  {
   "cell_type": "code",
   "execution_count": 7,
   "metadata": {},
   "outputs": [],
   "source": [
    "model = ChatGroq(model=\"gemma2-9b-it\", groq_api_key=groq_api_key, temperature=0.2)"
   ]
  },
  {
   "cell_type": "markdown",
   "metadata": {},
   "source": [
    "### Testing invoke()"
   ]
  },
  {
   "cell_type": "code",
   "execution_count": 9,
   "metadata": {},
   "outputs": [
    {
     "data": {
      "text/plain": [
       "'Ah, the eternal debate!  There\\'s no single right answer to who is better, Messi or Ronaldo. It truly comes down to personal preference and what criteria you value most in a player. \\n\\n**Here\\'s a breakdown to help you decide:**\\n\\n**Lionel Messi:**\\n\\n* **Strengths:** Unmatched dribbling skills, incredible passing vision, clinical finishing, natural talent, playmaking ability.\\n* **Style:** More of a creative, playmaking genius who orchestrates attacks and scores goals with finesse.\\n\\n**Cristiano Ronaldo:**\\n\\n* **Strengths:** Powerful physique, exceptional athleticism, aerial dominance, clinical finishing, goal-scoring machine, leadership qualities.\\n* **Style:** A more direct, powerful forward who relies on his physicality and goal-scoring instinct.\\n\\n**Ultimately, the \"better\" player is subjective.** Some people prefer Messi\\'s mesmerizing dribbling and playmaking, while others admire Ronaldo\\'s athleticism and goal-scoring prowess. \\n\\n**What do YOU value most in a footballer?**  That might help you decide who you think is better! ⚽️🏆\\n'"
      ]
     },
     "execution_count": 9,
     "metadata": {},
     "output_type": "execute_result"
    }
   ],
   "source": [
    "# testing \n",
    "parser = StrOutputParser()\n",
    "chain = model | parser\n",
    "\n",
    "chain.invoke([\n",
    "    HumanMessage(content=\"Messi or ronaldo?\")\n",
    "])"
   ]
  },
  {
   "cell_type": "code",
   "execution_count": 10,
   "metadata": {},
   "outputs": [
    {
     "data": {
      "text/plain": [
       "\"Ah, the eternal debate! \\n\\nThere's no single right answer to the Messi vs. Ronaldo question, as both are phenomenal footballers with incredible achievements. It ultimately comes down to personal preference and what you value most in a player.\\n\\n**Here's a breakdown to help you decide:**\\n\\n**Messi:**\\n\\n* **Strengths:** Unmatched dribbling skills, incredible passing vision, clinical finishing, playmaking ability, natural talent.\\n* **Style:** More of a creative, playmaking genius who orchestrates attacks and scores goals with finesse.\\n\\n**Ronaldo:**\\n\\n* **Strengths:** Powerful physique, exceptional athleticism, aerial dominance, clinical finishing, goal-scoring machine.\\n* **Style:** More of a complete forward who combines power, speed, and precision to score goals from various positions.\\n\\n**Consider these factors:**\\n\\n* **Goalscoring:** Ronaldo has a slight edge in terms of overall goals scored.\\n* **Dribbling:** Messi is widely considered the better dribbler.\\n* **Playmaking:** Messi excels at creating chances for himself and his teammates.\\n* **Physicality:** Ronaldo has the advantage in terms of strength and athleticism.\\n* **Longevity:** Both have had incredibly long and successful careers.\\n\\n**Ultimately, the best player for you depends on your individual taste.** Do you prefer a magician with the ball at his feet or a powerful goal-scoring machine? \\n\\nEnjoy the debate and appreciate the greatness of both players!\\n\""
      ]
     },
     "execution_count": 10,
     "metadata": {},
     "output_type": "execute_result"
    }
   ],
   "source": [
    "# testing \n",
    "parser = StrOutputParser()\n",
    "chain = model | parser\n",
    "\n",
    "chain.invoke([\n",
    "    HumanMessage(content=\"Messi or ronaldo?\")\n",
    "])"
   ]
  },
  {
   "cell_type": "markdown",
   "metadata": {},
   "source": [
    "### Chat model - without Prompt Template - with History"
   ]
  },
  {
   "cell_type": "code",
   "execution_count": 8,
   "metadata": {},
   "outputs": [],
   "source": [
    "# define session history function\n",
    "\n",
    "def get_session_history(session_id):\n",
    "    inst = SQLChatMessageHistory(session_id=session_id, connection=\"sqlite:///memory.db\")\n",
    "    return inst"
   ]
  },
  {
   "cell_type": "code",
   "execution_count": 9,
   "metadata": {},
   "outputs": [],
   "source": [
    "runnable_with_history = RunnableWithMessageHistory(\n",
    "    model, # should always be a Runnable object\n",
    "    get_session_history,\n",
    ")"
   ]
  },
  {
   "cell_type": "code",
   "execution_count": 10,
   "metadata": {},
   "outputs": [
    {
     "data": {
      "text/plain": [
       "AIMessage(content='Your name is Bob!  You told me so yourself. 😊 \\n', additional_kwargs={}, response_metadata={'token_usage': {'completion_tokens': 17, 'prompt_tokens': 38, 'total_tokens': 55, 'completion_time': 0.030909091, 'prompt_time': 0.000434118, 'queue_time': 0.014847922, 'total_time': 0.031343209}, 'model_name': 'gemma2-9b-it', 'system_fingerprint': 'fp_10c08bf97d', 'finish_reason': 'stop', 'logprobs': None}, id='run-25142f7e-edcf-4420-8765-3e4e71d20e2c-0', usage_metadata={'input_tokens': 38, 'output_tokens': 17, 'total_tokens': 55})"
      ]
     },
     "execution_count": 10,
     "metadata": {},
     "output_type": "execute_result"
    }
   ],
   "source": [
    "runnable_with_history.invoke(\n",
    "    [\n",
    "        HumanMessage(content=\"hi - im bob!\"),\n",
    "        AIMessage(content=\"Hi Bob. How can I help you?\"),\n",
    "        HumanMessage(content=\"What is my name?\")\n",
    "    ],\n",
    "    config={\"configurable\": {\"session_id\": \"1\"}},\n",
    ")"
   ]
  },
  {
   "cell_type": "markdown",
   "metadata": {},
   "source": [
    "### Chat model - with Prompt Template - without History"
   ]
  },
  {
   "cell_type": "code",
   "execution_count": 18,
   "metadata": {},
   "outputs": [],
   "source": [
    "template = ChatPromptTemplate(\n",
    "    [\n",
    "        SystemMessage(content=\"You are a Math expert. Answer the following questions accordingly.\"),\n",
    "        MessagesPlaceholder(variable_name=\"messages\")\n",
    "    ]\n",
    ")\n",
    "\n",
    "parser = StrOutputParser()\n",
    "chain = template | model | parser # chain is a runnable\n",
    "response = chain.invoke({\n",
    "    \"messages\" : [\n",
    "        HumanMessage(content=\"What is cosine similarity?\")\n",
    "    ]\n",
    "})"
   ]
  },
  {
   "cell_type": "code",
   "execution_count": 21,
   "metadata": {},
   "outputs": [
    {
     "data": {
      "text/markdown": [
       "Cosine similarity is a measure of similarity between two non-zero vectors. \n",
       "\n",
       "**Here's the breakdown:**\n",
       "\n",
       "* **Vectors:** Think of vectors as arrows pointing in space. Each vector has a magnitude (length) and a direction. In the context of data, vectors often represent data points. For example, a document could be represented as a vector where each dimension corresponds to the frequency of a certain word.\n",
       "\n",
       "* **Angle:** The cosine similarity between two vectors is determined by the angle between them.  \n",
       "\n",
       "* **Cosine Function:** The cosine of an angle (θ) is calculated as:\n",
       "\n",
       "   cos(θ) = (adjacent side) / (hypotenuse)\n",
       "\n",
       "* **Similarity:** In vector space, the cosine similarity is calculated as the cosine of the angle between two vectors:\n",
       "\n",
       "   Cosine Similarity(A, B) =  A · B / (||A|| ||B||)\n",
       "\n",
       "   Where:\n",
       "    * A · B is the dot product of vectors A and B\n",
       "    * ||A|| and ||B|| are the magnitudes (lengths) of vectors A and B.\n",
       "\n",
       "**Key Points:**\n",
       "\n",
       "* **Range:** Cosine similarity ranges from -1 to 1.\n",
       "    * 1: Vectors are identical (point in the same direction).\n",
       "    * 0: Vectors are orthogonal (perpendicular).\n",
       "    * -1: Vectors point in opposite directions.\n",
       "* **Focus on Direction:** Cosine similarity primarily cares about the direction of the vectors, not their magnitude. Two vectors with different lengths but pointing in the same direction will have a cosine similarity of 1.\n",
       "* **Applications:** Cosine similarity is widely used in:\n",
       "    * **Information Retrieval:** Finding documents similar to a query.\n",
       "    * **Recommendation Systems:** Suggesting items to users based on their past preferences.\n",
       "    * **Natural Language Processing:**  Comparing the meaning of sentences or documents.\n",
       "    * **Image Recognition:**  Finding images that are visually similar.\n",
       "\n",
       "\n",
       "\n",
       "Let me know if you'd like a more detailed explanation or have any other questions!\n"
      ],
      "text/plain": [
       "<IPython.core.display.Markdown object>"
      ]
     },
     "execution_count": 21,
     "metadata": {},
     "output_type": "execute_result"
    }
   ],
   "source": [
    "Markdown(response)"
   ]
  },
  {
   "cell_type": "markdown",
   "metadata": {},
   "source": [
    "### Chat model - with Prompt Template - with History"
   ]
  },
  {
   "cell_type": "code",
   "execution_count": 23,
   "metadata": {},
   "outputs": [],
   "source": [
    "runnable_with_history = RunnableWithMessageHistory(\n",
    "    chain, # from previous subsection\n",
    "    get_session_history,\n",
    ")"
   ]
  },
  {
   "cell_type": "code",
   "execution_count": 24,
   "metadata": {},
   "outputs": [
    {
     "data": {
      "text/plain": [
       "\"Hello Arnab! \\n\\nI'm happy to help with your math questions. What can I do for you today? 😊  \\n\""
      ]
     },
     "execution_count": 24,
     "metadata": {},
     "output_type": "execute_result"
    }
   ],
   "source": [
    "response = runnable_with_history.invoke(\n",
    "    {\n",
    "        \"messages\" : [\n",
    "        HumanMessage(\"Hi my name is Arnab!\")\n",
    "        ]\n",
    "    }\n",
    "    ,\n",
    "    config={\"configurable\": {\"session_id\": \"2\"}}\n",
    "    )\n",
    "response"
   ]
  },
  {
   "cell_type": "code",
   "execution_count": 25,
   "metadata": {},
   "outputs": [
    {
     "data": {
      "text/plain": [
       "\"Your name is Arnab!  I remember that from our introduction. 😊  \\n\\nDo you have any math problems you'd like to work on?  \\n\""
      ]
     },
     "execution_count": 25,
     "metadata": {},
     "output_type": "execute_result"
    }
   ],
   "source": [
    "response = runnable_with_history.invoke(\n",
    "    input= [\n",
    "        HumanMessage(\"What is my name?\")\n",
    "        ]\n",
    "    ,\n",
    "    config={\"configurable\": {\"session_id\": \"2\"}}\n",
    "    )\n",
    "response"
   ]
  },
  {
   "cell_type": "code",
   "execution_count": 28,
   "metadata": {},
   "outputs": [
    {
     "data": {
      "text/markdown": [
       "It seems like you're asking about the formula for tanh() again!  \n",
       "\n",
       "I already gave it to you:\n",
       "\n",
       "**tanh(x) = (e<sup>x</sup> - e<sup>-x</sup>) / (e<sup>x</sup> + e<sup>-x</sup>)**\n",
       "\n",
       "Is there anything specific about this formula you'd like to know or explore further? \n",
       "\n",
       "\n",
       "\n"
      ],
      "text/plain": [
       "<IPython.core.display.Markdown object>"
      ]
     },
     "execution_count": 28,
     "metadata": {},
     "output_type": "execute_result"
    }
   ],
   "source": [
    "Markdown(runnable_with_history.invoke(\n",
    "    input= [\n",
    "        HumanMessage(\"What is tanh() formula?\")\n",
    "        ]\n",
    "    ,\n",
    "    config={\"configurable\": {\"session_id\": \"2\"}}\n",
    "    ))"
   ]
  },
  {
   "cell_type": "code",
   "execution_count": null,
   "metadata": {},
   "outputs": [],
   "source": []
  }
 ],
 "metadata": {
  "kernelspec": {
   "display_name": "base",
   "language": "python",
   "name": "python3"
  },
  "language_info": {
   "codemirror_mode": {
    "name": "ipython",
    "version": 3
   },
   "file_extension": ".py",
   "mimetype": "text/x-python",
   "name": "python",
   "nbconvert_exporter": "python",
   "pygments_lexer": "ipython3",
   "version": "3.12.4"
  }
 },
 "nbformat": 4,
 "nbformat_minor": 2
}
