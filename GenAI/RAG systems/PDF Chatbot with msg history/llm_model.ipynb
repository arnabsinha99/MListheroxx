{
 "cells": [
  {
   "cell_type": "code",
   "execution_count": 1,
   "metadata": {},
   "outputs": [
    {
     "name": "stdout",
     "output_type": "stream",
     "text": [
      "Requirement already satisfied: faiss-cpu in c:\\users\\admin\\anaconda3\\lib\\site-packages (from -r ../requirements.txt (line 1)) (1.8.0.post1)\n",
      "Requirement already satisfied: groq in c:\\users\\admin\\anaconda3\\lib\\site-packages (from -r ../requirements.txt (line 2)) (0.11.0)\n",
      "Requirement already satisfied: langchain-groq in c:\\users\\admin\\anaconda3\\lib\\site-packages (from -r ../requirements.txt (line 3)) (0.2.0)\n",
      "Requirement already satisfied: PyPDF2 in c:\\users\\admin\\anaconda3\\lib\\site-packages (from -r ../requirements.txt (line 4)) (3.0.1)\n",
      "Requirement already satisfied: langchain_google_genai in c:\\users\\admin\\anaconda3\\lib\\site-packages (from -r ../requirements.txt (line 5)) (2.0.0)\n",
      "Requirement already satisfied: langchain in c:\\users\\admin\\anaconda3\\lib\\site-packages (from -r ../requirements.txt (line 6)) (0.3.0)\n",
      "Requirement already satisfied: streamlit in c:\\users\\admin\\anaconda3\\lib\\site-packages (from -r ../requirements.txt (line 7)) (1.32.0)\n",
      "Requirement already satisfied: langchain_community in c:\\users\\admin\\anaconda3\\lib\\site-packages (from -r ../requirements.txt (line 8)) (0.3.0)\n",
      "Requirement already satisfied: python-dotenv in c:\\users\\admin\\anaconda3\\lib\\site-packages (from -r ../requirements.txt (line 9)) (0.21.0)\n",
      "Requirement already satisfied: pypdf in c:\\users\\admin\\anaconda3\\lib\\site-packages (from -r ../requirements.txt (line 10)) (4.3.1)\n",
      "Requirement already satisfied: langchain-huggingface in c:\\users\\admin\\anaconda3\\lib\\site-packages (from -r ../requirements.txt (line 11)) (0.1.0)\n",
      "Requirement already satisfied: langchain_experimental in c:\\users\\admin\\anaconda3\\lib\\site-packages (from -r ../requirements.txt (line 12)) (0.3.2)\n",
      "Collecting langgraph (from -r ../requirements.txt (line 13))\n",
      "  Downloading langgraph-0.2.35-py3-none-any.whl.metadata (13 kB)\n",
      "Requirement already satisfied: numpy<2.0,>=1.0 in c:\\users\\admin\\anaconda3\\lib\\site-packages (from faiss-cpu->-r ../requirements.txt (line 1)) (1.26.4)\n",
      "Requirement already satisfied: packaging in c:\\users\\admin\\anaconda3\\lib\\site-packages (from faiss-cpu->-r ../requirements.txt (line 1)) (23.2)\n",
      "Requirement already satisfied: anyio<5,>=3.5.0 in c:\\users\\admin\\anaconda3\\lib\\site-packages (from groq->-r ../requirements.txt (line 2)) (4.2.0)\n",
      "Requirement already satisfied: distro<2,>=1.7.0 in c:\\users\\admin\\anaconda3\\lib\\site-packages (from groq->-r ../requirements.txt (line 2)) (1.9.0)\n",
      "Requirement already satisfied: httpx<1,>=0.23.0 in c:\\users\\admin\\anaconda3\\lib\\site-packages (from groq->-r ../requirements.txt (line 2)) (0.27.0)\n",
      "Requirement already satisfied: pydantic<3,>=1.9.0 in c:\\users\\admin\\anaconda3\\lib\\site-packages (from groq->-r ../requirements.txt (line 2)) (2.9.0)\n",
      "Requirement already satisfied: sniffio in c:\\users\\admin\\anaconda3\\lib\\site-packages (from groq->-r ../requirements.txt (line 2)) (1.3.0)\n",
      "Requirement already satisfied: typing-extensions<5,>=4.7 in c:\\users\\admin\\anaconda3\\lib\\site-packages (from groq->-r ../requirements.txt (line 2)) (4.11.0)\n",
      "Requirement already satisfied: langchain-core<0.4,>=0.3 in c:\\users\\admin\\anaconda3\\lib\\site-packages (from langchain-groq->-r ../requirements.txt (line 3)) (0.3.10)\n",
      "Requirement already satisfied: google-generativeai<0.8.0,>=0.7.0 in c:\\users\\admin\\anaconda3\\lib\\site-packages (from langchain_google_genai->-r ../requirements.txt (line 5)) (0.7.2)\n",
      "Requirement already satisfied: PyYAML>=5.3 in c:\\users\\admin\\anaconda3\\lib\\site-packages (from langchain->-r ../requirements.txt (line 6)) (6.0.1)\n",
      "Requirement already satisfied: SQLAlchemy<3,>=1.4 in c:\\users\\admin\\anaconda3\\lib\\site-packages (from langchain->-r ../requirements.txt (line 6)) (2.0.30)\n",
      "Requirement already satisfied: aiohttp<4.0.0,>=3.8.3 in c:\\users\\admin\\anaconda3\\lib\\site-packages (from langchain->-r ../requirements.txt (line 6)) (3.9.5)\n",
      "Requirement already satisfied: langchain-text-splitters<0.4.0,>=0.3.0 in c:\\users\\admin\\anaconda3\\lib\\site-packages (from langchain->-r ../requirements.txt (line 6)) (0.3.0)\n",
      "Requirement already satisfied: langsmith<0.2.0,>=0.1.17 in c:\\users\\admin\\anaconda3\\lib\\site-packages (from langchain->-r ../requirements.txt (line 6)) (0.1.128)\n",
      "Requirement already satisfied: requests<3,>=2 in c:\\users\\admin\\anaconda3\\lib\\site-packages (from langchain->-r ../requirements.txt (line 6)) (2.32.2)\n",
      "Requirement already satisfied: tenacity!=8.4.0,<9.0.0,>=8.1.0 in c:\\users\\admin\\anaconda3\\lib\\site-packages (from langchain->-r ../requirements.txt (line 6)) (8.5.0)\n",
      "Requirement already satisfied: altair<6,>=4.0 in c:\\users\\admin\\anaconda3\\lib\\site-packages (from streamlit->-r ../requirements.txt (line 7)) (5.0.1)\n",
      "Requirement already satisfied: blinker<2,>=1.0.0 in c:\\users\\admin\\anaconda3\\lib\\site-packages (from streamlit->-r ../requirements.txt (line 7)) (1.6.2)\n",
      "Requirement already satisfied: cachetools<6,>=4.0 in c:\\users\\admin\\anaconda3\\lib\\site-packages (from streamlit->-r ../requirements.txt (line 7)) (5.3.3)\n",
      "Requirement already satisfied: click<9,>=7.0 in c:\\users\\admin\\anaconda3\\lib\\site-packages (from streamlit->-r ../requirements.txt (line 7)) (8.1.7)\n",
      "Requirement already satisfied: pandas<3,>=1.3.0 in c:\\users\\admin\\anaconda3\\lib\\site-packages (from streamlit->-r ../requirements.txt (line 7)) (2.2.2)\n",
      "Requirement already satisfied: pillow<11,>=7.1.0 in c:\\users\\admin\\anaconda3\\lib\\site-packages (from streamlit->-r ../requirements.txt (line 7)) (10.3.0)\n",
      "Requirement already satisfied: protobuf<5,>=3.20 in c:\\users\\admin\\anaconda3\\lib\\site-packages (from streamlit->-r ../requirements.txt (line 7)) (4.25.5)\n",
      "Requirement already satisfied: pyarrow>=7.0 in c:\\users\\admin\\anaconda3\\lib\\site-packages (from streamlit->-r ../requirements.txt (line 7)) (14.0.2)\n",
      "Requirement already satisfied: rich<14,>=10.14.0 in c:\\users\\admin\\anaconda3\\lib\\site-packages (from streamlit->-r ../requirements.txt (line 7)) (13.3.5)\n",
      "Requirement already satisfied: toml<2,>=0.10.1 in c:\\users\\admin\\anaconda3\\lib\\site-packages (from streamlit->-r ../requirements.txt (line 7)) (0.10.2)\n",
      "Requirement already satisfied: gitpython!=3.1.19,<4,>=3.0.7 in c:\\users\\admin\\anaconda3\\lib\\site-packages (from streamlit->-r ../requirements.txt (line 7)) (3.1.37)\n",
      "Requirement already satisfied: pydeck<1,>=0.8.0b4 in c:\\users\\admin\\anaconda3\\lib\\site-packages (from streamlit->-r ../requirements.txt (line 7)) (0.8.0)\n",
      "Requirement already satisfied: tornado<7,>=6.0.3 in c:\\users\\admin\\anaconda3\\lib\\site-packages (from streamlit->-r ../requirements.txt (line 7)) (6.4.1)\n",
      "Requirement already satisfied: watchdog>=2.1.5 in c:\\users\\admin\\anaconda3\\lib\\site-packages (from streamlit->-r ../requirements.txt (line 7)) (4.0.1)\n",
      "Requirement already satisfied: dataclasses-json<0.7,>=0.5.7 in c:\\users\\admin\\anaconda3\\lib\\site-packages (from langchain_community->-r ../requirements.txt (line 8)) (0.6.7)\n",
      "Requirement already satisfied: pydantic-settings<3.0.0,>=2.4.0 in c:\\users\\admin\\anaconda3\\lib\\site-packages (from langchain_community->-r ../requirements.txt (line 8)) (2.5.2)\n",
      "Requirement already satisfied: huggingface-hub>=0.23.0 in c:\\users\\admin\\anaconda3\\lib\\site-packages (from langchain-huggingface->-r ../requirements.txt (line 11)) (0.24.6)\n",
      "Requirement already satisfied: sentence-transformers>=2.6.0 in c:\\users\\admin\\anaconda3\\lib\\site-packages (from langchain-huggingface->-r ../requirements.txt (line 11)) (3.0.1)\n",
      "Requirement already satisfied: tokenizers>=0.19.1 in c:\\users\\admin\\anaconda3\\lib\\site-packages (from langchain-huggingface->-r ../requirements.txt (line 11)) (0.19.1)\n",
      "Requirement already satisfied: transformers>=4.39.0 in c:\\users\\admin\\anaconda3\\lib\\site-packages (from langchain-huggingface->-r ../requirements.txt (line 11)) (4.44.2)\n",
      "Collecting langgraph-checkpoint<3.0.0,>=2.0.0 (from langgraph->-r ../requirements.txt (line 13))\n",
      "  Downloading langgraph_checkpoint-2.0.1-py3-none-any.whl.metadata (4.6 kB)\n",
      "Requirement already satisfied: aiosignal>=1.1.2 in c:\\users\\admin\\anaconda3\\lib\\site-packages (from aiohttp<4.0.0,>=3.8.3->langchain->-r ../requirements.txt (line 6)) (1.2.0)\n",
      "Requirement already satisfied: attrs>=17.3.0 in c:\\users\\admin\\anaconda3\\lib\\site-packages (from aiohttp<4.0.0,>=3.8.3->langchain->-r ../requirements.txt (line 6)) (23.1.0)\n",
      "Requirement already satisfied: frozenlist>=1.1.1 in c:\\users\\admin\\anaconda3\\lib\\site-packages (from aiohttp<4.0.0,>=3.8.3->langchain->-r ../requirements.txt (line 6)) (1.4.0)\n",
      "Requirement already satisfied: multidict<7.0,>=4.5 in c:\\users\\admin\\anaconda3\\lib\\site-packages (from aiohttp<4.0.0,>=3.8.3->langchain->-r ../requirements.txt (line 6)) (6.0.4)\n",
      "Requirement already satisfied: yarl<2.0,>=1.0 in c:\\users\\admin\\anaconda3\\lib\\site-packages (from aiohttp<4.0.0,>=3.8.3->langchain->-r ../requirements.txt (line 6)) (1.9.3)\n",
      "Requirement already satisfied: jinja2 in c:\\users\\admin\\anaconda3\\lib\\site-packages (from altair<6,>=4.0->streamlit->-r ../requirements.txt (line 7)) (3.1.4)\n",
      "Requirement already satisfied: jsonschema>=3.0 in c:\\users\\admin\\anaconda3\\lib\\site-packages (from altair<6,>=4.0->streamlit->-r ../requirements.txt (line 7)) (4.19.2)\n",
      "Requirement already satisfied: toolz in c:\\users\\admin\\anaconda3\\lib\\site-packages (from altair<6,>=4.0->streamlit->-r ../requirements.txt (line 7)) (0.12.0)\n",
      "Requirement already satisfied: idna>=2.8 in c:\\users\\admin\\anaconda3\\lib\\site-packages (from anyio<5,>=3.5.0->groq->-r ../requirements.txt (line 2)) (3.7)\n",
      "Requirement already satisfied: colorama in c:\\users\\admin\\anaconda3\\lib\\site-packages (from click<9,>=7.0->streamlit->-r ../requirements.txt (line 7)) (0.4.6)\n",
      "Requirement already satisfied: marshmallow<4.0.0,>=3.18.0 in c:\\users\\admin\\anaconda3\\lib\\site-packages (from dataclasses-json<0.7,>=0.5.7->langchain_community->-r ../requirements.txt (line 8)) (3.22.0)\n",
      "Requirement already satisfied: typing-inspect<1,>=0.4.0 in c:\\users\\admin\\anaconda3\\lib\\site-packages (from dataclasses-json<0.7,>=0.5.7->langchain_community->-r ../requirements.txt (line 8)) (0.9.0)\n",
      "Requirement already satisfied: gitdb<5,>=4.0.1 in c:\\users\\admin\\anaconda3\\lib\\site-packages (from gitpython!=3.1.19,<4,>=3.0.7->streamlit->-r ../requirements.txt (line 7)) (4.0.7)\n",
      "Requirement already satisfied: google-ai-generativelanguage==0.6.6 in c:\\users\\admin\\anaconda3\\lib\\site-packages (from google-generativeai<0.8.0,>=0.7.0->langchain_google_genai->-r ../requirements.txt (line 5)) (0.6.6)\n",
      "Requirement already satisfied: google-api-core in c:\\users\\admin\\anaconda3\\lib\\site-packages (from google-generativeai<0.8.0,>=0.7.0->langchain_google_genai->-r ../requirements.txt (line 5)) (2.20.0)\n",
      "Requirement already satisfied: google-api-python-client in c:\\users\\admin\\anaconda3\\lib\\site-packages (from google-generativeai<0.8.0,>=0.7.0->langchain_google_genai->-r ../requirements.txt (line 5)) (2.147.0)\n",
      "Requirement already satisfied: google-auth>=2.15.0 in c:\\users\\admin\\anaconda3\\lib\\site-packages (from google-generativeai<0.8.0,>=0.7.0->langchain_google_genai->-r ../requirements.txt (line 5)) (2.34.0)\n",
      "Requirement already satisfied: tqdm in c:\\users\\admin\\anaconda3\\lib\\site-packages (from google-generativeai<0.8.0,>=0.7.0->langchain_google_genai->-r ../requirements.txt (line 5)) (4.66.4)\n",
      "Requirement already satisfied: proto-plus<2.0.0dev,>=1.22.3 in c:\\users\\admin\\anaconda3\\lib\\site-packages (from google-ai-generativelanguage==0.6.6->google-generativeai<0.8.0,>=0.7.0->langchain_google_genai->-r ../requirements.txt (line 5)) (1.24.0)\n",
      "Requirement already satisfied: certifi in c:\\users\\admin\\anaconda3\\lib\\site-packages (from httpx<1,>=0.23.0->groq->-r ../requirements.txt (line 2)) (2024.8.30)\n",
      "Requirement already satisfied: httpcore==1.* in c:\\users\\admin\\anaconda3\\lib\\site-packages (from httpx<1,>=0.23.0->groq->-r ../requirements.txt (line 2)) (1.0.2)\n",
      "Requirement already satisfied: h11<0.15,>=0.13 in c:\\users\\admin\\anaconda3\\lib\\site-packages (from httpcore==1.*->httpx<1,>=0.23.0->groq->-r ../requirements.txt (line 2)) (0.14.0)\n",
      "Requirement already satisfied: filelock in c:\\users\\admin\\anaconda3\\lib\\site-packages (from huggingface-hub>=0.23.0->langchain-huggingface->-r ../requirements.txt (line 11)) (3.13.1)\n",
      "Requirement already satisfied: fsspec>=2023.5.0 in c:\\users\\admin\\anaconda3\\lib\\site-packages (from huggingface-hub>=0.23.0->langchain-huggingface->-r ../requirements.txt (line 11)) (2024.3.1)\n",
      "Requirement already satisfied: jsonpatch<2.0,>=1.33 in c:\\users\\admin\\anaconda3\\lib\\site-packages (from langchain-core<0.4,>=0.3->langchain-groq->-r ../requirements.txt (line 3)) (1.33)\n",
      "Collecting msgpack<2.0.0,>=1.1.0 (from langgraph-checkpoint<3.0.0,>=2.0.0->langgraph->-r ../requirements.txt (line 13))\n",
      "  Downloading msgpack-1.1.0-cp312-cp312-win_amd64.whl.metadata (8.6 kB)\n",
      "Requirement already satisfied: orjson<4.0.0,>=3.9.14 in c:\\users\\admin\\anaconda3\\lib\\site-packages (from langsmith<0.2.0,>=0.1.17->langchain->-r ../requirements.txt (line 6)) (3.10.7)\n",
      "Requirement already satisfied: python-dateutil>=2.8.2 in c:\\users\\admin\\anaconda3\\lib\\site-packages (from pandas<3,>=1.3.0->streamlit->-r ../requirements.txt (line 7)) (2.9.0.post0)\n",
      "Requirement already satisfied: pytz>=2020.1 in c:\\users\\admin\\anaconda3\\lib\\site-packages (from pandas<3,>=1.3.0->streamlit->-r ../requirements.txt (line 7)) (2024.1)\n",
      "Requirement already satisfied: tzdata>=2022.7 in c:\\users\\admin\\anaconda3\\lib\\site-packages (from pandas<3,>=1.3.0->streamlit->-r ../requirements.txt (line 7)) (2023.3)\n",
      "Requirement already satisfied: annotated-types>=0.4.0 in c:\\users\\admin\\anaconda3\\lib\\site-packages (from pydantic<3,>=1.9.0->groq->-r ../requirements.txt (line 2)) (0.6.0)\n",
      "Requirement already satisfied: pydantic-core==2.23.2 in c:\\users\\admin\\anaconda3\\lib\\site-packages (from pydantic<3,>=1.9.0->groq->-r ../requirements.txt (line 2)) (2.23.2)\n",
      "Requirement already satisfied: charset-normalizer<4,>=2 in c:\\users\\admin\\anaconda3\\lib\\site-packages (from requests<3,>=2->langchain->-r ../requirements.txt (line 6)) (2.0.4)\n",
      "Requirement already satisfied: urllib3<3,>=1.21.1 in c:\\users\\admin\\anaconda3\\lib\\site-packages (from requests<3,>=2->langchain->-r ../requirements.txt (line 6)) (2.2.2)\n",
      "Requirement already satisfied: markdown-it-py<3.0.0,>=2.2.0 in c:\\users\\admin\\anaconda3\\lib\\site-packages (from rich<14,>=10.14.0->streamlit->-r ../requirements.txt (line 7)) (2.2.0)\n",
      "Requirement already satisfied: pygments<3.0.0,>=2.13.0 in c:\\users\\admin\\anaconda3\\lib\\site-packages (from rich<14,>=10.14.0->streamlit->-r ../requirements.txt (line 7)) (2.15.1)\n",
      "Requirement already satisfied: torch>=1.11.0 in c:\\users\\admin\\anaconda3\\lib\\site-packages (from sentence-transformers>=2.6.0->langchain-huggingface->-r ../requirements.txt (line 11)) (2.4.1)\n",
      "Requirement already satisfied: scikit-learn in c:\\users\\admin\\anaconda3\\lib\\site-packages (from sentence-transformers>=2.6.0->langchain-huggingface->-r ../requirements.txt (line 11)) (1.4.2)\n",
      "Requirement already satisfied: scipy in c:\\users\\admin\\anaconda3\\lib\\site-packages (from sentence-transformers>=2.6.0->langchain-huggingface->-r ../requirements.txt (line 11)) (1.13.1)\n",
      "Requirement already satisfied: greenlet!=0.4.17 in c:\\users\\admin\\anaconda3\\lib\\site-packages (from SQLAlchemy<3,>=1.4->langchain->-r ../requirements.txt (line 6)) (3.0.1)\n",
      "Requirement already satisfied: regex!=2019.12.17 in c:\\users\\admin\\anaconda3\\lib\\site-packages (from transformers>=4.39.0->langchain-huggingface->-r ../requirements.txt (line 11)) (2023.10.3)\n",
      "Requirement already satisfied: safetensors>=0.4.1 in c:\\users\\admin\\anaconda3\\lib\\site-packages (from transformers>=4.39.0->langchain-huggingface->-r ../requirements.txt (line 11)) (0.4.5)\n",
      "Requirement already satisfied: smmap<5,>=3.0.1 in c:\\users\\admin\\anaconda3\\lib\\site-packages (from gitdb<5,>=4.0.1->gitpython!=3.1.19,<4,>=3.0.7->streamlit->-r ../requirements.txt (line 7)) (4.0.0)\n",
      "Requirement already satisfied: googleapis-common-protos<2.0.dev0,>=1.56.2 in c:\\users\\admin\\anaconda3\\lib\\site-packages (from google-api-core->google-generativeai<0.8.0,>=0.7.0->langchain_google_genai->-r ../requirements.txt (line 5)) (1.65.0)\n",
      "Requirement already satisfied: pyasn1-modules>=0.2.1 in c:\\users\\admin\\anaconda3\\lib\\site-packages (from google-auth>=2.15.0->google-generativeai<0.8.0,>=0.7.0->langchain_google_genai->-r ../requirements.txt (line 5)) (0.2.8)\n",
      "Requirement already satisfied: rsa<5,>=3.1.4 in c:\\users\\admin\\anaconda3\\lib\\site-packages (from google-auth>=2.15.0->google-generativeai<0.8.0,>=0.7.0->langchain_google_genai->-r ../requirements.txt (line 5)) (4.9)\n",
      "Requirement already satisfied: MarkupSafe>=2.0 in c:\\users\\admin\\anaconda3\\lib\\site-packages (from jinja2->altair<6,>=4.0->streamlit->-r ../requirements.txt (line 7)) (2.1.3)\n",
      "Requirement already satisfied: jsonpointer>=1.9 in c:\\users\\admin\\anaconda3\\lib\\site-packages (from jsonpatch<2.0,>=1.33->langchain-core<0.4,>=0.3->langchain-groq->-r ../requirements.txt (line 3)) (2.1)\n",
      "Requirement already satisfied: jsonschema-specifications>=2023.03.6 in c:\\users\\admin\\anaconda3\\lib\\site-packages (from jsonschema>=3.0->altair<6,>=4.0->streamlit->-r ../requirements.txt (line 7)) (2023.7.1)\n",
      "Requirement already satisfied: referencing>=0.28.4 in c:\\users\\admin\\anaconda3\\lib\\site-packages (from jsonschema>=3.0->altair<6,>=4.0->streamlit->-r ../requirements.txt (line 7)) (0.30.2)\n",
      "Requirement already satisfied: rpds-py>=0.7.1 in c:\\users\\admin\\anaconda3\\lib\\site-packages (from jsonschema>=3.0->altair<6,>=4.0->streamlit->-r ../requirements.txt (line 7)) (0.10.6)\n",
      "Requirement already satisfied: mdurl~=0.1 in c:\\users\\admin\\anaconda3\\lib\\site-packages (from markdown-it-py<3.0.0,>=2.2.0->rich<14,>=10.14.0->streamlit->-r ../requirements.txt (line 7)) (0.1.0)\n",
      "Requirement already satisfied: six>=1.5 in c:\\users\\admin\\anaconda3\\lib\\site-packages (from python-dateutil>=2.8.2->pandas<3,>=1.3.0->streamlit->-r ../requirements.txt (line 7)) (1.16.0)\n",
      "Requirement already satisfied: sympy in c:\\users\\admin\\anaconda3\\lib\\site-packages (from torch>=1.11.0->sentence-transformers>=2.6.0->langchain-huggingface->-r ../requirements.txt (line 11)) (1.12)\n",
      "Requirement already satisfied: networkx in c:\\users\\admin\\anaconda3\\lib\\site-packages (from torch>=1.11.0->sentence-transformers>=2.6.0->langchain-huggingface->-r ../requirements.txt (line 11)) (3.2.1)\n",
      "Requirement already satisfied: setuptools in c:\\users\\admin\\anaconda3\\lib\\site-packages (from torch>=1.11.0->sentence-transformers>=2.6.0->langchain-huggingface->-r ../requirements.txt (line 11)) (69.5.1)\n",
      "Requirement already satisfied: mypy-extensions>=0.3.0 in c:\\users\\admin\\anaconda3\\lib\\site-packages (from typing-inspect<1,>=0.4.0->dataclasses-json<0.7,>=0.5.7->langchain_community->-r ../requirements.txt (line 8)) (1.0.0)\n",
      "Requirement already satisfied: httplib2<1.dev0,>=0.19.0 in c:\\users\\admin\\anaconda3\\lib\\site-packages (from google-api-python-client->google-generativeai<0.8.0,>=0.7.0->langchain_google_genai->-r ../requirements.txt (line 5)) (0.22.0)\n",
      "Requirement already satisfied: google-auth-httplib2<1.0.0,>=0.2.0 in c:\\users\\admin\\anaconda3\\lib\\site-packages (from google-api-python-client->google-generativeai<0.8.0,>=0.7.0->langchain_google_genai->-r ../requirements.txt (line 5)) (0.2.0)\n",
      "Requirement already satisfied: uritemplate<5,>=3.0.1 in c:\\users\\admin\\anaconda3\\lib\\site-packages (from google-api-python-client->google-generativeai<0.8.0,>=0.7.0->langchain_google_genai->-r ../requirements.txt (line 5)) (4.1.1)\n",
      "Requirement already satisfied: joblib>=1.2.0 in c:\\users\\admin\\anaconda3\\lib\\site-packages (from scikit-learn->sentence-transformers>=2.6.0->langchain-huggingface->-r ../requirements.txt (line 11)) (1.4.2)\n",
      "Requirement already satisfied: threadpoolctl>=2.0.0 in c:\\users\\admin\\anaconda3\\lib\\site-packages (from scikit-learn->sentence-transformers>=2.6.0->langchain-huggingface->-r ../requirements.txt (line 11)) (2.2.0)\n",
      "Requirement already satisfied: grpcio<2.0dev,>=1.33.2 in c:\\users\\admin\\anaconda3\\lib\\site-packages (from google-api-core[grpc]!=2.0.*,!=2.1.*,!=2.10.*,!=2.2.*,!=2.3.*,!=2.4.*,!=2.5.*,!=2.6.*,!=2.7.*,!=2.8.*,!=2.9.*,<3.0.0dev,>=1.34.1->google-ai-generativelanguage==0.6.6->google-generativeai<0.8.0,>=0.7.0->langchain_google_genai->-r ../requirements.txt (line 5)) (1.66.1)\n",
      "Requirement already satisfied: grpcio-status<2.0.dev0,>=1.33.2 in c:\\users\\admin\\anaconda3\\lib\\site-packages (from google-api-core[grpc]!=2.0.*,!=2.1.*,!=2.10.*,!=2.2.*,!=2.3.*,!=2.4.*,!=2.5.*,!=2.6.*,!=2.7.*,!=2.8.*,!=2.9.*,<3.0.0dev,>=1.34.1->google-ai-generativelanguage==0.6.6->google-generativeai<0.8.0,>=0.7.0->langchain_google_genai->-r ../requirements.txt (line 5)) (1.62.3)\n",
      "Requirement already satisfied: pyparsing!=3.0.0,!=3.0.1,!=3.0.2,!=3.0.3,<4,>=2.4.2 in c:\\users\\admin\\anaconda3\\lib\\site-packages (from httplib2<1.dev0,>=0.19.0->google-api-python-client->google-generativeai<0.8.0,>=0.7.0->langchain_google_genai->-r ../requirements.txt (line 5)) (3.0.9)\n",
      "Requirement already satisfied: pyasn1<0.5.0,>=0.4.6 in c:\\users\\admin\\anaconda3\\lib\\site-packages (from pyasn1-modules>=0.2.1->google-auth>=2.15.0->google-generativeai<0.8.0,>=0.7.0->langchain_google_genai->-r ../requirements.txt (line 5)) (0.4.8)\n",
      "Requirement already satisfied: mpmath>=0.19 in c:\\users\\admin\\anaconda3\\lib\\site-packages (from sympy->torch>=1.11.0->sentence-transformers>=2.6.0->langchain-huggingface->-r ../requirements.txt (line 11)) (1.3.0)\n",
      "Downloading langgraph-0.2.35-py3-none-any.whl (108 kB)\n",
      "   ---------------------------------------- 0.0/108.7 kB ? eta -:--:--\n",
      "   ---------------------------------------- 0.0/108.7 kB ? eta -:--:--\n",
      "   --- ------------------------------------ 10.2/108.7 kB ? eta -:--:--\n",
      "   -------------- ------------------------ 41.0/108.7 kB 393.8 kB/s eta 0:00:01\n",
      "   ---------------------- ---------------- 61.4/108.7 kB 469.7 kB/s eta 0:00:01\n",
      "   --------------------------------- ----- 92.2/108.7 kB 479.1 kB/s eta 0:00:01\n",
      "   -------------------------------------- 108.7/108.7 kB 484.8 kB/s eta 0:00:00\n",
      "Downloading langgraph_checkpoint-2.0.1-py3-none-any.whl (22 kB)\n",
      "Downloading msgpack-1.1.0-cp312-cp312-win_amd64.whl (75 kB)\n",
      "   ---------------------------------------- 0.0/75.3 kB ? eta -:--:--\n",
      "   ----- ---------------------------------- 10.2/75.3 kB ? eta -:--:--\n",
      "   --------------------- ------------------ 41.0/75.3 kB 653.6 kB/s eta 0:00:01\n",
      "   ---------------------------------------- 75.3/75.3 kB 692.6 kB/s eta 0:00:00\n",
      "Installing collected packages: msgpack, langgraph-checkpoint, langgraph\n",
      "  Attempting uninstall: msgpack\n",
      "    Found existing installation: msgpack 1.0.3\n",
      "    Uninstalling msgpack-1.0.3:\n",
      "      Successfully uninstalled msgpack-1.0.3\n",
      "Successfully installed langgraph-0.2.35 langgraph-checkpoint-2.0.1 msgpack-1.1.0\n"
     ]
    }
   ],
   "source": [
    "!pip install -r ../requirements.txt"
   ]
  },
  {
   "cell_type": "code",
   "execution_count": 9,
   "metadata": {},
   "outputs": [
    {
     "name": "stdout",
     "output_type": "stream",
     "text": [
      "Python 3.12.4\n"
     ]
    }
   ],
   "source": [
    "!python --version"
   ]
  },
  {
   "cell_type": "markdown",
   "metadata": {},
   "source": [
    "# Importing"
   ]
  },
  {
   "cell_type": "code",
   "execution_count": 8,
   "metadata": {},
   "outputs": [],
   "source": [
    "import os\n",
    "from dotenv import load_dotenv\n",
    "load_dotenv()\n",
    "import streamlit as st\n",
    "from IPython.display import Markdown\n",
    "from langchain_groq import ChatGroq\n",
    "from langchain_core.messages import HumanMessage, SystemMessage, AIMessage\n",
    "from langchain_experimental.text_splitter import SemanticChunker\n",
    "from langchain.chains import create_history_aware_retriever, create_retrieval_chain\n",
    "from langchain.chains.combine_documents import create_stuff_documents_chain\n",
    "from langchain_community.document_loaders import PyPDFLoader\n",
    "from langchain_huggingface import HuggingFaceEmbeddings\n",
    "from langchain_community.chat_message_histories import SQLChatMessageHistory, ChatMessageHistory\n",
    "from langchain_community.vectorstores import FAISS\n",
    "from langchain_core.chat_history import BaseChatMessageHistory\n",
    "from langchain_core.runnables.history import RunnableWithMessageHistory\n",
    "from langchain_core.prompts import ChatPromptTemplate, MessagesPlaceholder\n",
    "from langchain_core.output_parsers import StrOutputParser\n",
    "from langchain_core.messages import BaseMessage\n",
    "from langgraph.checkpoint.memory import MemorySaver\n",
    "from langgraph.graph import START, MessagesState, StateGraph\n",
    "from langgraph.graph.message import add_messages\n",
    "from typing_extensions import Annotated, TypedDict\n",
    "from typing import Sequence\n",
    "import warnings\n",
    "warnings.filterwarnings(\"ignore\")"
   ]
  },
  {
   "cell_type": "code",
   "execution_count": 7,
   "metadata": {},
   "outputs": [],
   "source": [
    "# We define a dict representing the state of the application.\n",
    "# This state has the same input and output keys as `rag_chain`.\n",
    "class State(TypedDict):\n",
    "    input: str\n",
    "    chat_history: Annotated[Sequence[BaseMessage], add_messages]\n",
    "    context: str\n",
    "    answer: str"
   ]
  },
  {
   "cell_type": "code",
   "execution_count": 124,
   "metadata": {},
   "outputs": [],
   "source": [
    "class chatmodel():\n",
    "    \n",
    "    def __init__(self) -> None:\n",
    "        self._workflow = StateGraph(state_schema=State)\n",
    "        # Define the (single) node in the graph\n",
    "        self._workflow.add_edge(START, \"model\")\n",
    "        self._workflow.add_node(\"model\", self._call_model)\n",
    "\n",
    "        memory = MemorySaver()\n",
    "        # In the invocation process, _app can now handle config for personalized queries\n",
    "        self._app = self._workflow.compile(checkpointer=memory)\n",
    "        \n",
    "    def _call_model(self, state: State, config: dict = None):\n",
    "        # Use thread_id from config if provided\n",
    "        thread_id = config.get(\"configurable\", {}).get(\"thread_id\", None)\n",
    "\n",
    "        response = self._rag_chain.invoke(state)\n",
    "        return {\n",
    "            \"chat_history\": [\n",
    "                HumanMessage(state[\"input\"]),\n",
    "                AIMessage(response[\"answer\"]),\n",
    "            ],\n",
    "            \"context\": response[\"context\"],\n",
    "            \"answer\": response[\"answer\"],\n",
    "            \"thread_id\": thread_id  # Including thread_id in response if required\n",
    "        }\n",
    "    \n",
    "    def ask_query(self, input_text: str, config: dict = None):\n",
    "        state = {\n",
    "            \"input\": input_text,\n",
    "            \"chat_history\": [],\n",
    "            \"context\": \"\",\n",
    "            \"answer\": \"\"\n",
    "        }\n",
    "        # Invoke _app with state and config for user-specific query handling\n",
    "        return self._app.invoke(state, config=config)\n",
    "\n",
    "    def _initialize_api(\n",
    "            self, \n",
    "            key_groq: str, \n",
    "            key_hf: str):\n",
    "        '''\n",
    "            Assigns Groq and HF API key to an object variable\n",
    "\n",
    "            Args:\n",
    "                self: reference to object\n",
    "                key: Groq API Key\n",
    "\n",
    "            Returns: None\n",
    "        '''\n",
    "        self._groq_api_key = os.getenv(key=key_groq)\n",
    "        self._hf_api_key = os.getenv(key=key_hf)\n",
    "        os.environ[\"LANGCHAIN_TRACING_V2\"] = \"true\"\n",
    "        os.environ[\"LANGCHAIN_API_KEY\"] = os.getenv(key=\"LANGCHAIN_API_KEY\")\n",
    "        \n",
    "    def _initialize_model(\n",
    "            self, \n",
    "            model_name: str, \n",
    "            temperature: float,\n",
    "            embedding_model_name: str):\n",
    "        self._model_name = model_name\n",
    "        self._temperature = temperature\n",
    "        self._model = ChatGroq(model=self._model_name, groq_api_key=self._groq_api_key, temperature=self._temperature)\n",
    "        self._embeddings = HuggingFaceEmbeddings(model_name=embedding_model_name)\n",
    "    \n",
    "    def _initialize_semantic_chunker(\n",
    "            self,\n",
    "            breakpoint_threshold_type: str,\n",
    "\n",
    "    ):\n",
    "        self._semantic_chunker = SemanticChunker(self._embeddings, breakpoint_threshold_type=breakpoint_threshold_type)\n",
    "        # self._semantic_chunks = self._semantic_chunker.create_documents([d.page_content for d in self._pages])\n",
    "        self._semantic_chunks = []\n",
    "        for page in self._pages:\n",
    "            for chunk in self._semantic_chunker.create_documents([page[\"content\"]]):\n",
    "                chunk.metadata[\"pdf_name\"] = page[\"pdf_name\"]\n",
    "                self._semantic_chunks.append(chunk)\n",
    "\n",
    "    def _initialize_retriever_chain(\n",
    "            self\n",
    "    ):\n",
    "        self._vectorstore = FAISS.from_documents(self._semantic_chunks, self._embeddings)\n",
    "        self._retriever = self._vectorstore.as_retriever()\n",
    "\n",
    "        # Contextualize question\n",
    "        contextualize_q_system_prompt = (\n",
    "            \"Given a chat history and the latest user question \"\n",
    "            \"which might reference context in the chat history, \"\n",
    "            \"formulate a standalone question which can be understood \"\n",
    "            \"without the chat history. Do NOT answer the question, \"\n",
    "            \"just reformulate it if needed and otherwise return it as is.\"\n",
    "        )\n",
    "\n",
    "        contextualize_q_prompt = ChatPromptTemplate(\n",
    "            [\n",
    "                (\"system\", contextualize_q_system_prompt),\n",
    "                MessagesPlaceholder(\"chat_history\"),\n",
    "                (\"human\", \"{input}\"),\n",
    "            ]\n",
    "        )\n",
    "\n",
    "        self._history_aware_retriever = create_history_aware_retriever(self._model, self._retriever, contextualize_q_prompt)\n",
    "        \n",
    "        # Incorporate the history aware retriever into a question-answering chain.\n",
    "        self._system_prompt = (\n",
    "            \"You are an assistant for helping students for questions regarding academic policies or bylaws. You have been provided information from official sources.\"\n",
    "            \"Use ONLY the following pieces of retrieved context to answer.\"\n",
    "            \"the question. If the answer can be quoted from the PDFs then do that.\"\n",
    "            \"If the question is not related to academic policies/bylaws then DO NOT ANSWER. If the question is relevant to academic policies/bylaws and you do not know the answer\" \n",
    "            \"then say that you DO NOT know. Please Keep the answer moderately concise.\"\n",
    "            \"\\n\\n\"\n",
    "            \"{context}\"\n",
    "        )\n",
    "\n",
    "        self._prompt = ChatPromptTemplate.from_messages(\n",
    "                    [\n",
    "                        (\"system\", self._system_prompt),\n",
    "                        MessagesPlaceholder(\"chat_history\"),\n",
    "                        (\"human\", \"{input}\"),\n",
    "                    ]\n",
    "                )\n",
    "        \n",
    "        self._question_answer_chain = create_stuff_documents_chain(self._model, self._prompt)\n",
    "        self._rag_chain = create_retrieval_chain(self._history_aware_retriever, self._question_answer_chain)\n",
    "\n",
    "\n",
    "    async def _load_pdfs(\n",
    "            self,\n",
    "            paths: list\n",
    "    ):\n",
    "        \"\"\"\n",
    "        Load multiple PDFs and store their content in self._pages with metadata.\n",
    "\n",
    "        Args:\n",
    "            paths: List of PDF paths.\n",
    "        \"\"\"\n",
    "        self._pages = []\n",
    "        for path in paths:\n",
    "            loader = PyPDFLoader(path)\n",
    "            async for page in loader.alazy_load():\n",
    "                # Append each page along with the PDF name as metadata\n",
    "                self._pages.append({\n",
    "                    \"content\": page.page_content,\n",
    "                    \"pdf_name\": path  # Add the PDF filename as metadata\n",
    "                })        "
   ]
  },
  {
   "cell_type": "code",
   "execution_count": 125,
   "metadata": {},
   "outputs": [],
   "source": [
    "# params\n",
    "\n",
    "model_name = \"gemma2-9b-it\"\n",
    "embedding_model_name = \"sentence-transformers/all-MiniLM-L6-v2\"\n",
    "temperature = 0.1"
   ]
  },
  {
   "cell_type": "code",
   "execution_count": 126,
   "metadata": {},
   "outputs": [],
   "source": [
    "model_obj = chatmodel()\n",
    "model_obj._initialize_api(\"GROQ_API_KEY\", \"HF_TOKEN\")\n",
    "model_obj._initialize_model(model_name=model_name, temperature=temperature, embedding_model_name=embedding_model_name)"
   ]
  },
  {
   "cell_type": "code",
   "execution_count": 127,
   "metadata": {},
   "outputs": [],
   "source": [
    "file_paths = [\"auditing_courses_0.pdf\",\"academic_accommodation_for_students_with_disabilities_amended_july_17_2017.pdf\"]\n",
    "await model_obj._load_pdfs(file_paths)"
   ]
  },
  {
   "cell_type": "code",
   "execution_count": 128,
   "metadata": {},
   "outputs": [],
   "source": [
    "# model_obj._pages"
   ]
  },
  {
   "cell_type": "code",
   "execution_count": 129,
   "metadata": {},
   "outputs": [],
   "source": [
    "model_obj._initialize_semantic_chunker(breakpoint_threshold_type=\"percentile\")\n",
    "model_obj._initialize_retriever_chain()"
   ]
  },
  {
   "cell_type": "code",
   "execution_count": 85,
   "metadata": {},
   "outputs": [],
   "source": [
    "# Markdown(model_obj._semantic_chunks[4].page_content)"
   ]
  },
  {
   "cell_type": "code",
   "execution_count": 130,
   "metadata": {},
   "outputs": [
    {
     "data": {
      "text/plain": [
       "[Document(metadata={'pdf_name': 'academic_accommodation_for_students_with_disabilities_amended_july_17_2017.pdf'}, page_content='2. The\\tunivers ity\\trecognizes\\tits\\tresponsibility\\tto\\tmaintain\\tequal\\trights\\tfor\\tall\\tstudents\\twith\\tdisabilities\\tin\\ta\\tfair\\tand\\t\\nnon- discriminatory\\tmanner. The\\tuniversity\\twill\\tuphold\\tits\\tresponsibilities\\tby\\tensuring\\tthe\\tphysical\\taccessibility\\tof\\t\\nthe\\tcampus,\\tas\\twell\\tas,\\tby\\tcrea ting\\tan\\tenvironment\\tthat\\tis\\tfree\\tfrom\\tbias\\tand,\\tinstead,\\tembodies\\tinclusiveness,\\t\\nmutual\\trespect\\tand\\tunderstanding. 3. The\\tUniversity\\tof\\tWindsor’s\\t Student\\tAccessibility\\tServices \\twill\\twork\\twith\\tstudents\\tand\\tfaculty\\tmembers\\tto\\t\\nidentify\\tpotential\\tbarriers\\tto\\tacademic\\tparticipation\\tand\\tto\\tdetermine\\tappropriate\\taccommodations\\tto\\taddress\\tthose\\tbarriers\\tfor\\tstudents\\twith\\tdisabilities. This\\twill\\tbe\\tdone\\ton\\ta\\tcase\\tby\\tcase\\tbasis\\tprovided\\tthat\\tstudents\\thave\\tprovided\\t Student\\tAccessibility\\tServices\\t with\\tappropriate\\tdocume ntation\\tand\\tsufficient\\tnotice\\tof\\ttheir\\t\\naccommodation\\tneeds\\tso\\tthat\\treasonable\\tsteps\\tmay\\tbe\\ttaken\\tto\\taccommodate\\tthose\\tneeds. PURPOSES\\tOF\\tACCOMMODATION \\t\\n\\t\\nThe\\toverarching\\tpurpose\\tof\\tacademic\\taccommodations\\tis\\tto\\tensure\\tthat\\tstudents\\twith\\tdisabilities\\tmay\\tful fill\\tthe\\t\\n'),\n",
       " Document(metadata={'pdf_name': 'academic_accommodation_for_students_with_disabilities_amended_july_17_2017.pdf'}, page_content='This\\tincludes\\tcourse\\trequirements\\tand\\tstandards”. Essential\\trequirements\\tcan\\ttherefore\\tbe\\tdefined\\tby\\ttwo\\tfactors:\\ta\\tskill\\tthat\\tmust\\tbe\\tnecessarily\\tdemonstrated\\tin\\t\\norder\\tto\\tmeet\\tthe\\t objectives\\tof\\ta\\tcourse;\\tand\\ta\\tskill\\tthat\\tmust\\tbe\\tdemonstrated\\tin\\ta\\tprescribed\\tmanner. Academic\\tAccommodations \\t\\n\\tAn\\taccommodation\\trefers\\tto\\tany\\tservice,\\tequipment,\\tor\\tarrangement\\tthat\\tis\\tput\\tin\\tplace\\tto\\tsupport\\ta\\tstudent\\twith\\ta\\t\\ndisability\\tin\\tthe\\tuniversity\\t setting\\tand\\tis\\tmeant\\tto\\tenable\\tstudents\\tto\\tbest\\tperform\\tthe\\tessential\\trequirements\\tof\\t\\ntheir\\tacademic\\tprogram. Functional\\tlimitations\\tthat\\tlead\\tto\\taccommodations\\twill\\tbe\\tidentified\\tby\\tmedical\\t\\nprofessionals\\twho\\tare\\tsupporting\\tthe\\tstudent. Accommodations\\tdo\\t not\\tundermine\\tor\\tcompromise\\tthe\\tessential\\t\\nrequirements\\tof\\tthe\\tcourses\\tor\\tcurricula\\testablished\\tby\\tthe\\tacademic\\tregulatory\\tbodies\\tof\\tthe\\tuniversity. An\\t\\nappropriate\\tacademic\\taccommodation\\twill\\tnot\\tprovide\\tan\\tunfair\\tadvantage\\tbut\\trather\\tminimize\\tthe\\timpact\\tof ,\\tand\\t\\nthe\\tbarriers\\tcaused\\tby,\\tthe\\tdisability. Classroom\\taccommodations\\tare\\tadjustments\\tprovided\\tto\\tensure\\tthat\\tstudents\\twith\\tdisabilities\\thave\\tfair\\tand\\tequal\\t\\naccess\\tto\\tthe\\tcurriculum\\tand\\tan\\topportunity\\tto\\tprocess\\tclassroom\\tinformation\\tin\\ta\\tway\\tthat\\trespec ts\\tand\\taddresses\\t\\ndifferences\\tin\\tlearning\\tstyles,\\tstrengths,\\tand\\tneeds. Examples\\tinclude\\tbut\\tare\\tnot\\tlimited\\tto: \\t\\no Assistance\\tfrom\\ta\\tnote\\ttaker \\t\\t\\no Use\\tof\\ta\\tlaptop\\tfor\\tnote\\ttaking\\t \\t\\no Preferential\\tseating\\t(usually\\tat\\tthe\\tfront\\tof\\tthe\\tclass)\\t/\\tErgonomic\\tmodification s\\t\\t\\no Provision\\tof\\twritten\\tmaterial\\tin\\tadvance\\t(overheads,\\tPowerPoint\\tpresentations,\\tlecture\\tnotes)\\t \\t\\no Textbooks\\tor\\tarticles\\tin\\talternate\\tformat \\t(Braille,\\tlarge\\ttype,\\tPDF,\\tor\\tother\\telectronic\\ttext)\\t \\t\\n\\t\\nExamination\\taccommodations\\tare\\tadjustments\\tto\\tstandard\\texam\\t conditions\\tthat\\tlessen\\tthe\\timpact\\tof\\tthe\\tdisability\\t\\nwithout\\tfundamentally\\taltering\\tthe\\tnature\\tor\\tsecurity\\tof\\tthe\\texamination\\tor\\tproviding\\tunfair\\tadvantage. Examples\\t\\ninclude\\tbut\\tare\\tnot\\tlimited\\tto: \\t\\no Extended\\ttime\\tto\\twrite\\texams\\t \\t\\no A\\tquiet,\\tdistraction\\tfree\\tenv ironment\\tin\\twhich\\tto\\twrite\\t \\t\\no Alternative\\tformat\\tfor\\texams\\t(i.e.,\\toral,\\ttake- home,\\tor\\telectronic\\tversions)\\t \\t\\no Assistance\\tfrom\\ta\\treader\\tor\\ta\\tscribe\\t \\t\\no Allowances\\tfor\\tspelling/grammatical\\terrors,\\twith\\tgrading\\tfocus\\ton\\tcontent\\t \\t\\no Use\\tof\\ta\\tcomputer\\tfor\\tessay\\texams\\t \\t\\no Use\\tof\\tassistive\\ttechnology\\ton\\texams\\t(including\\tmagnification\\tdevices)\\t \\t\\n\\t'),\n",
       " Document(metadata={'pdf_name': 'academic_accommodation_for_students_with_disabilities_amended_july_17_2017.pdf'}, page_content='Depending\\tupon\\tthe\\tdisability,\\tthere\\tare\\tcircumstances\\t(specifically,\\tmental\\thealth)\\twhere\\tthe\\tstudent\\tmay\\telect\\tnot\\tto\\tdisclos e\\t\\na\\tspecific\\tdiagnosis\\tand\\tis\\tnot\\trequired\\tto\\tdo\\tso. Confidentiality \\t\\n\\t\\nThe\\tUniversity\\tis\\tdedicated\\tto\\tmaintaining\\tthe\\tprivacy\\tof\\ta\\tstudent’s\\tinformation\\tto\\tthe\\tgreatest\\textent\\tpossible. Any\\t\\ninformation\\trelated\\tto\\tthe\\tspecific\\tnature\\tand\\timpact\\tof\\ta\\tstudent ’s\\tdisability\\twill\\tremain\\ton\\tfile\\tin\\ta\\tsecure\\tlocation\\t\\nwithin\\t Student\\tAccessibility\\tServices . In\\tsome\\tcircumstances,\\tthe\\taccommodation\\tprocess\\tmay\\trequire\\tthat\\ta\\tstudent\\tdisclose\\tinformation\\tto\\tstaff\\tor\\t\\nfaculty\\tbeyond\\t Student\\tAccessibility\\tServices\\t if\\tthe\\tknowledge\\tis\\trequired\\tto\\tperform\\ttheir\\tduties\\tunder\\tthe\\tterms\\tof\\t\\nthis\\tpolicy. Medical\\tand\\tother\\thealth -related\\tinformation\\tshould\\tgenerally\\tbe\\trestricted\\tto\\tStudent\\t Accessibility \\tServices,\\tand\\t\\nshould\\tnot\\tbe\\tdisclosed\\tto\\tfaculty\\tor\\tstaff\\tof\\tthe\\tUniversity. This\\trestriction\\tis\\tfounded\\tin\\tseveral\\tgrounds,\\tincluding\\t\\nthe\\timportance\\tof\\tconfidentiality\\tas\\ta\\thuman\\trights\\tprinciple\\tof\\tdignity\\tand\\trespect. All\\tsuch\\tinformation\\tdisclosed\\tto\\tfaculty\\tor\\tstaff\\twill\\tonly\\tbe\\tprovided\\twith\\tthe\\tconsent\\tof\\tthe\\tstudent. Flexibility \\t\\n\\t\\nAccommodations\\tthat\\tmay\\tbe\\tapplicable\\tto\\tone\\tstudent\\twith\\ta\\tparticular\\ttype\\tof\\tdisability\\tmay\\tnot\\tapply\\tto\\tanother\\t\\nstudent\\twith\\tthe\\tsame\\ttype\\tof\\tdisability. Therefore,\\tacademic\\taccommodations\\tmust\\tbe\\tdetermined\\ton\\tan\\t\\nindividual\\tbasis. Studen ts,\\tinstructors\\tand\\tadministrative\\tstaff\\tmust\\tdevelop\\tsolutions,\\tand\\tin\\tdoing\\tso\\texercise\\tcreativity\\tand\\t\\nflexibility,\\tto \\tmeet\\tthe\\tneeds\\tof\\tthe\\tstudents\\twhile\\tpreserving\\tthe\\tessential\\tacademic\\trequirements\\tof\\tthe\\t\\nUniversity’s\\tcourses\\tand\\tprograms. The\\tprovi sion\\tof\\tacademic\\taccommodations\\tis\\ttherefore\\ta\\tcollaborative\\tprocess,\\t\\nwhich\\trequires\\teffective\\tand\\topen\\tcommunication\\tbetween\\tall\\tparties\\tinvolved. To\\tthat\\tend,\\tthis\\tpolicy\\tencourages\\tan\\teffective\\tand\\tmeaningful\\tdialogue\\tbetween\\tstudents,\\ttheir\\tinstructor s,\\t\\nuniversity\\tstaff\\tand\\tadvisors\\tin\\t Student\\tAccessibility\\tServices \\tin\\tan\\teffort\\tto\\tbest\\tdetermine\\thow\\tindividual\\tneeds\\tcan\\t\\nbe\\taccommodated\\twithin\\tlegislative\\tterms,\\tas\\twell\\tas,\\twithin\\tthe\\tcurrent \\tguidelines\\testablished\\tby\\tthe\\tuniversity. ')]"
      ]
     },
     "execution_count": 130,
     "metadata": {},
     "output_type": "execute_result"
    }
   ],
   "source": [
    "model_obj._vectorstore.similarity_search(\"What are the facilities for disabled students?\", k=3)"
   ]
  },
  {
   "cell_type": "markdown",
   "metadata": {},
   "source": [
    "USER 1"
   ]
  },
  {
   "cell_type": "code",
   "execution_count": 132,
   "metadata": {},
   "outputs": [
    {
     "data": {
      "text/markdown": [
       "Here are the steps to audit a course, according to the provided text:\n",
       "\n",
       "1. **Contact the Office of the Registrar:** Reach out to them just before the course begins.\n",
       "2. **Consultation:** The Office of the Registrar will work with the relevant faculty to determine if auditing is possible, considering space availability. \n",
       "3. **\"Audit\" Registration:** If approved, you'll be registered as an audit student. \n",
       "\n",
       "\n",
       "\n",
       "Let me know if you have any other questions. \n"
      ],
      "text/plain": [
       "<IPython.core.display.Markdown object>"
      ]
     },
     "execution_count": 132,
     "metadata": {},
     "output_type": "execute_result"
    }
   ],
   "source": [
    "config = {\"configurable\": {\"thread_id\": \"user1\"}}\n",
    "result = model_obj.ask_query(\n",
    "    input_text=\"What are the steps for auditing courses?\",\n",
    "    config=config\n",
    ")\n",
    "Markdown(result['answer'])"
   ]
  },
  {
   "cell_type": "code",
   "execution_count": 133,
   "metadata": {},
   "outputs": [
    {
     "data": {
      "text/markdown": [
       "The policy on auditing courses was approved by the Senate on June 7, 2006.  \n"
      ],
      "text/plain": [
       "<IPython.core.display.Markdown object>"
      ]
     },
     "execution_count": 133,
     "metadata": {},
     "output_type": "execute_result"
    }
   ],
   "source": [
    "config = {\"configurable\": {\"thread_id\": \"user1\"}}\n",
    "result = model_obj.ask_query(\n",
    "    input_text=\"When was the policy on auditing courses approved by Senate?\",\n",
    "    config=config\n",
    ")\n",
    "Markdown(result['answer'])"
   ]
  },
  {
   "cell_type": "code",
   "execution_count": 134,
   "metadata": {},
   "outputs": [
    {
     "data": {
      "text/plain": [
       "[(Document(metadata={'pdf_name': 'auditing_courses_0.pdf'}, page_content='Page\\t1\\tof\\t1\\t\\t\\n\\t\\nSENATE\\tPOLICY \\t\\n\\t\\nPolicy\\ton\\tAuditing\\tCourses \\t\\n(Senate-approved:\\tJune\\t7,\\t2006) \\t\\n\\t\\nAn\\taudit\\tstudent\\tis\\tone\\twho,\\tupon\\tregistration,\\tis\\tadmitted\\tto\\ta\\tcourse,\\tand\\tmay\\tparticipate\\tin\\tclass\\t discussion,\\tbut\\t\\nwho\\tmay\\tnot\\tsubmit\\tassignments,\\twrite\\texaminations,\\tor\\tbe\\tgraded\\tin\\tany\\tway. Audit\\tstudents\\tmust\\tbe\\tadmitted\\tto\\tthe\\tuniversity.'),\n",
       "  0.7300665047613706),\n",
       " (Document(metadata={'pdf_name': 'auditing_courses_0.pdf'}, page_content='Audited\\tcourses\\twill\\tappear\\ton\\tthe\\tstudent\\'s\\ttranscript\\tbut\\tno\\tcredit\\twill\\tbe\\tgranted\\tfor\\tthe\\tcourse. Audited\\t courses\\t\\ndo\\tnot\\tcount\\ttoward\\ta\\tstudent\\'s\\tload\\tfor\\tOSAP\\tpurposes. Not\\tall\\tcourses\\tcan\\tbe\\taudited. Lab\\tcourses\\tcannot\\tbe\\taudited. Only\\tcourses\\twith\\tsufficient\\tclassroom\\tspace\\tand\\t\\nenrolment\\tcapacity\\tcan\\tbe\\taudited. Audit\\tstudents\\tmust\\thave\\tcompleted\\tthe\\tprere quisites\\tor\\ttheir\\tequivalent\\tin\\t\\norder\\tto\\tregister. Audit\\tregistrations\\twill\\tbe\\tconsidered\\tcommencing\\ton\\tthe\\tfirst\\tday\\tof\\tclasses. The\\tfee\\tfor\\tauditing\\ta\\tcourse\\tis\\tthe\\tsame\\tas\\tthe\\tfee\\tfor\\tregular\\tcredit\\tcourse\\tregistration. Changes\\tin\\tcourse\\tregistration\\t status\\tfrom\\t\"credit\"\\tto\\t\"audit\"\\twill\\tbe\\tpermitted\\tuntil\\tthe\\t10th\\tday\\tof\\tclasses\\tin\\tthe\\t\\nFall\\tand\\tWinter\\tTerms\\tand\\tuntil\\tthe\\t5th\\tday\\tof\\tclasses\\tin\\tthe\\tIntersession\\tand\\tSummer\\tsession. Students\\tinterested\\tin\\tauditing\\tcourses\\tmust\\tapply\\tto\\tthe\\tOffice\\tof\\tthe\\tR egistrar. Requests\\tfor\\tauditing\\tgraduate\\tcourses\\trequire\\tthe\\tapproval\\tof\\tthe\\tOffice\\tof\\tGraduate\\tStudies\\tand\\tResearch. Guidelines: \\t\\n\\t\\nFaculties\\twill\\tdetermine\\twhich\\tcourses\\tare\\tavailable\\tfor\\taudit\\tand\\tinform\\tthe\\tOffice\\tof\\tthe\\tRegistrar\\tno\\tlater\\tthan\\t\\nAugust \\t1\\tfor\\tcourses\\tscheduled\\tfor\\tthe\\tFall\\tsemester,\\tDecember\\t1\\tfor\\tcourses\\tscheduled\\tfor\\tthe\\tWinter\\tsemester,\\t\\nand\\tApril\\t1\\tfor\\tcourses\\tscheduled\\tfor\\tthe\\tSpring/Summer\\tsemester. To\\taudit\\ta\\tcourse,\\tstudents\\tmust\\tcontact\\tthe\\tOffice\\tof\\tthe\\tRegistrar\\tjust\\tprior\\tto\\t commencement\\tof\\tthe\\tcourse\\tso\\t\\nthat\\tthe\\t\"audit\"\\tregistration\\tcan\\tbe\\tpursued\\tin\\tconsultation\\twith\\tthe\\tFaculty\\tas\\tnecessary,\\tspace\\tpermitting\\tin\\tthe\\tclassroom. Students\\twill\\tbe\\tpermitted\\tto\\tchange\\tfrom\\t“credit\"\\tto\\t\"audit\\tstatus ”\\tno\\tlater\\tthan\\tthe\\t10th\\tday\\tof\\tclasses\\tfor\\tthe\\tFall\\t\\nand\\tWinter\\tsemesters\\tand\\tno\\tlater\\tthan\\tthe\\t5th\\tday\\tof\\tclasses\\tfor\\tIntersession\\tand\\tSummer\\tsession. The\\tOffice\\tof\\tth e\\tRegistrar\\tshall\\tdetermine\\twhether\\ta\\tstudent\\tis\\tadmitted\\tas\\tan\\taudit\\tstudent. '),\n",
       "  0.42802975501199336),\n",
       " (Document(metadata={'pdf_name': 'academic_accommodation_for_students_with_disabilities_amended_july_17_2017.pdf'}, page_content='Page\\t 2\\tof\\t3\\tessential\\trequirements\\tof\\ttheir\\tacademic\\tprograms\\tas\\twell\\tas\\tlearn\\tand\\tdemonstrate\\tlearning\\tin\\tways\\tthat\\t\\naccurately\\treflect\\teach\\tstudent’s\\tpotential. While\\tstudents\\twill,\\tas\\tan\\tessential\\trequirement,\\tbe\\texpected\\tto\\tmaster\\tthe\\tcurriculum,\\tthere\\t are\\tvarious\\tways\\tin\\t\\nwhich\\tmastery\\tmay\\tbe\\tdemonstrated. For\\texample,\\tit\\tmay\\tbe\\tdemonstrated\\tin\\tthe\\tform\\tof\\tan\\toral\\tas\\topposed\\tto\\ta\\twritten\\ttest. However,\\ton\\tother\\toccasions\\tit\\tmay\\tbe\\tthat\\tthe\\tformat\\tthat\\tis\\tto\\tbe\\tutilized\\tto\\tdemonstrate\\t\\ncompetency\\tis,\\tin\\tan d\\tof\\titself,\\tthe\\tessential\\trequirement. See\\tAppendix\\tA\\tfor\\tmore\\tinformation\\trelated\\tto\\tessential\\t\\nrequirements\\tand\\ttypical\\taccommodations. OPERATIONAL\\tPRINCIPLES\\t\\n\\t\\nWhen\\tit\\treceives\\ta\\trequest\\tfor\\taccommodation,\\tthe\\tUniversity\\thas\\ta\\tprocedural\\tduty\\tto\\ttake\\t reasonable\\tsteps\\tto\\t\\nobtain\\tinformation,\\texamine\\talternatives,\\tconsult\\twith\\tthe\\tstudent,\\tmaintain\\tconfidentiality\\tand\\tweigh\\tavailable\\taccommodations. Conversely,\\tthe\\tstudent\\thas\\ta\\tduty\\tto\\tdisclose\\tsufficient\\tinformation\\tand\\tcooperate\\twith\\tthe\\t\\nUniversity\\tin\\tfashioning\\tan\\tappropriate\\taccommodation. Documentation \\t\\n\\t\\nStudents\\twith\\tdisabilities\\twho\\t self-identify\\tto\\t Student\\tAccessibility\\tServices \\tare\\trequired\\tto\\tadhere\\tto\\tthe\\t\\ndocumentation\\tguidelines\\toutlined\\tby\\tthat\\toffice,\\tin\\taccordance\\twith\\tcurrent\\tlegislation . Any\\tsuch\\tdocumentation\\t\\nshould\\tclearly\\tindicate\\tthat\\tthe\\tstudent\\thas\\tbeen\\tdiagnosed\\twith,\\tor\\tis\\tbeing\\tassessed\\tfor\\ta\\tdisability.'),\n",
       "  0.02384661970803792),\n",
       " (Document(metadata={'pdf_name': 'academic_accommodation_for_students_with_disabilities_amended_july_17_2017.pdf'}, page_content='Page\\t 1\\tof\\t3\\t \\nSENATE\\tPOLICY \\t\\n\\t\\nPolicy\\ton\\t Academic\\tAccommodation\\t for\\tStudents\\twith\\tDisabilities\\t\\n(Board\\tof\\tGovernors\\tapproved:\\tNovember\\t23,\\t2004 \\tformerly\\tSpecial\\tNeeds\\tPolicy )\\t\\t\\n(Approved\\tby\\tSenate :\\tOctober\\t13,\\t2004) \\t\\n(Amended\\tby\\tSenate:\\tMarch\\t13,\\t2015 ,\\tNovember\\t11,\\t2016 )\\t\\n\\t\\nAmended\\tDue\\tTo\\tAdministrative/Organizational\\tChanges:\\tJuly\\t17,\\t2017\\t\\t\\nSTATEMENT\\tOF\\tINTENT\\t\\n\\t\\nThe\\tUniversity\\tof\\tWindsor\\tis\\tcommitted\\tto\\tensuring\\tthat\\treasonable\\tand\\tappropriate\\tacademic\\taccommodations\\tare\\t\\nprovided\\tto\\tstudents\\twith\\tdocumented\\tdisabilities. Disabilities\\tare\\tdefined\\tas\\tthose\\tconditions\\tdesignated\\tby\\tthe\\t\\nOntario\\tHuman\\tRights\\tCode . The\\tuniversity\\twill\\tpromote\\tand\\taffirm\\tits\\tcommitment\\tto\\tstudents\\twith\\tdisabilities\\tby\\tmaintaining\\tcurrent\\tpolicies\\t\\nand\\toperationalizing\\tthose\\tpolicies\\tin\\tan\\tequitab le\\tand\\tfair\\tmanner. It\\tis\\tunderstood\\tthat\\tall\\tmembers\\tof\\tfaculty,\\t\\ninstructional\\tstaff\\tand\\tadministrative\\tstaff\\tshare\\tthe\\tresponsibilities\\toutlined\\tin\\tthe\\tOntario\\tHuman\\tRights\\tCode\\tfor\\t\\nthe\\tprovision\\tof\\taccommodations\\tto\\tstudents\\twith\\tdisabilities. This\\t policy\\tis\\tone\\tof\\tthe\\tways\\tthat\\tthe\\tUniversity\\tof\\tWindsor\\twill\\tput\\trelevant\\tHuman\\tRights\\tlegislation\\tinto\\teffect\\t\\nincluding:\\tthe\\tCanadian\\tCharter\\tof\\tRights\\tand\\tFreedoms\\t( Section\\t15),\\tthe\\tOntario\\tHuman\\tRights\\tCode\\t( Section\\t17,\\t\\nSubsections\\t1- 4),\\tthe\\tOntarians\\twith\\tDisabilities\\tAct\\t( Bill\\t1 25)\\tand\\tthe\\tAccessibility\\tfor\\tOntarians\\twith\\tDisabilities\\tAct\\t\\n(Bill\\t118). More\\tdetailed\\taccommodation\\tpolicies\\tand\\tprocedures\\tare\\tavailable\\tfor\\treview\\ton\\tthe\\t Student\\tAccessibility\\t\\nServices ’\\twebsite:\\t www.uwindsor.ca/disability . GENERAL\\tPRINCIPLES\\t\\n\\t\\n1. The\\tUniversity\\tof\\tWindsor\\tis\\tcommitted\\tto\\tproviding\\tequal\\taccess\\tand\\taccommodation\\tto\\tthe\\tpoint\\tof\\tundue\\thardship\\tto\\tall\\tacademically\\tqualified\\tstudents\\twith\\t identified\\tand\\tdocumented\\tdisabilities. This\\twill\\tbe\\tdone\\tin\\t\\norder\\tto\\tfoster\\taccessibility\\tand\\tthe\\tfull\\tparticipation\\tof\\tstudents\\twith\\tdisabilities\\tin\\tthe\\tacademic\\tenvironment. See\\tAppendix\\tA\\tfor\\tcriteria\\tfor\\tthe\\tassessment\\tof\\tundue\\thardship.'),\n",
       "  0.005909426743983537)]"
      ]
     },
     "execution_count": 134,
     "metadata": {},
     "output_type": "execute_result"
    }
   ],
   "source": [
    "# model_obj._vectorstore.similarity_search_with_score(\"When was the policy on auditing courses approved by Senate?\", k=4)\n",
    "model_obj._vectorstore.similarity_search_with_relevance_scores(\"When was the policy on auditing courses approved by Senate?\", k=4)"
   ]
  },
  {
   "cell_type": "code",
   "execution_count": 135,
   "metadata": {},
   "outputs": [
    {
     "name": "stdout",
     "output_type": "stream",
     "text": [
      "You asked the following questions:\n",
      "\n",
      "1. What are the steps for auditing courses?\n",
      "2. When was the policy on auditing courses approved by Senate? \n",
      "\n",
      "\n",
      "Let me know if you have any other questions!\n"
     ]
    }
   ],
   "source": [
    "config = {\"configurable\": {\"thread_id\": \"user1\"}}\n",
    "result = model_obj.ask_query(\n",
    "    input_text=\"What all questions did I ask about earlier?\",\n",
    "    config=config\n",
    ")\n",
    "print(result['answer'])"
   ]
  },
  {
   "cell_type": "code",
   "execution_count": 136,
   "metadata": {},
   "outputs": [
    {
     "name": "stdout",
     "output_type": "stream",
     "text": [
      "That's a question that has fascinated astronomers for centuries!  \n",
      "\n",
      "Unfortunately, there's no single, definitive answer to how many stars are in the universe. Here's why:\n",
      "\n",
      "* **The universe is vast:**  It's incredibly large, and we can only observe a tiny fraction of it.\n",
      "* **Stars are constantly being born and dying:** The number is always in flux.\n",
      "* **Limits of our technology:**  We can't see all stars, especially the faintest ones.\n",
      "\n",
      "**Estimates:**\n",
      "\n",
      "Scientists estimate that there are **hundreds of billions of galaxies** in the observable universe. Each galaxy contains **billions or even trillions of stars**.  \n",
      "\n",
      "So, a rough estimate is that there are **an unfathomably large number of stars** in the universe, likely in the **quadrillions or even higher**. \n",
      "\n",
      "\n",
      "Let me know if you have any other space-related questions! \n",
      "\n"
     ]
    }
   ],
   "source": [
    "config = {\"configurable\": {\"thread_id\": \"user1\"}}\n",
    "result = model_obj.ask_query(\n",
    "    input_text=\"How many stars in the universe?\",\n",
    "    config=config\n",
    ")\n",
    "print(result['answer'])"
   ]
  },
  {
   "cell_type": "markdown",
   "metadata": {},
   "source": [
    "USER 2"
   ]
  },
  {
   "cell_type": "code",
   "execution_count": 137,
   "metadata": {},
   "outputs": [],
   "source": [
    "config = {\"configurable\": {\"thread_id\": \"user2\"}}\n",
    "result = model_obj.ask_query(\n",
    "    input_text=\"What is the purpose of academic accomodation for disabled students?\",\n",
    "    config=config\n",
    ")\n",
    "# print(result['answer'])"
   ]
  },
  {
   "cell_type": "code",
   "execution_count": 138,
   "metadata": {},
   "outputs": [
    {
     "data": {
      "text/markdown": [
       "\"The overarching purpose of academic accommodations is to ensure that students with disabilities may fulfill the essential requirements of their academic programs as well as learn and demonstrate learning in ways that accurately reflect each student’s potential.\" \n"
      ],
      "text/plain": [
       "<IPython.core.display.Markdown object>"
      ]
     },
     "execution_count": 138,
     "metadata": {},
     "output_type": "execute_result"
    }
   ],
   "source": [
    "Markdown(result['answer'])"
   ]
  },
  {
   "cell_type": "code",
   "execution_count": 139,
   "metadata": {},
   "outputs": [
    {
     "data": {
      "text/plain": [
       "[Document(metadata={'pdf_name': 'academic_accommodation_for_students_with_disabilities_amended_july_17_2017.pdf'}, page_content='This\\tincludes\\tcourse\\trequirements\\tand\\tstandards”. Essential\\trequirements\\tcan\\ttherefore\\tbe\\tdefined\\tby\\ttwo\\tfactors:\\ta\\tskill\\tthat\\tmust\\tbe\\tnecessarily\\tdemonstrated\\tin\\t\\norder\\tto\\tmeet\\tthe\\t objectives\\tof\\ta\\tcourse;\\tand\\ta\\tskill\\tthat\\tmust\\tbe\\tdemonstrated\\tin\\ta\\tprescribed\\tmanner. Academic\\tAccommodations \\t\\n\\tAn\\taccommodation\\trefers\\tto\\tany\\tservice,\\tequipment,\\tor\\tarrangement\\tthat\\tis\\tput\\tin\\tplace\\tto\\tsupport\\ta\\tstudent\\twith\\ta\\t\\ndisability\\tin\\tthe\\tuniversity\\t setting\\tand\\tis\\tmeant\\tto\\tenable\\tstudents\\tto\\tbest\\tperform\\tthe\\tessential\\trequirements\\tof\\t\\ntheir\\tacademic\\tprogram. Functional\\tlimitations\\tthat\\tlead\\tto\\taccommodations\\twill\\tbe\\tidentified\\tby\\tmedical\\t\\nprofessionals\\twho\\tare\\tsupporting\\tthe\\tstudent. Accommodations\\tdo\\t not\\tundermine\\tor\\tcompromise\\tthe\\tessential\\t\\nrequirements\\tof\\tthe\\tcourses\\tor\\tcurricula\\testablished\\tby\\tthe\\tacademic\\tregulatory\\tbodies\\tof\\tthe\\tuniversity. An\\t\\nappropriate\\tacademic\\taccommodation\\twill\\tnot\\tprovide\\tan\\tunfair\\tadvantage\\tbut\\trather\\tminimize\\tthe\\timpact\\tof ,\\tand\\t\\nthe\\tbarriers\\tcaused\\tby,\\tthe\\tdisability. Classroom\\taccommodations\\tare\\tadjustments\\tprovided\\tto\\tensure\\tthat\\tstudents\\twith\\tdisabilities\\thave\\tfair\\tand\\tequal\\t\\naccess\\tto\\tthe\\tcurriculum\\tand\\tan\\topportunity\\tto\\tprocess\\tclassroom\\tinformation\\tin\\ta\\tway\\tthat\\trespec ts\\tand\\taddresses\\t\\ndifferences\\tin\\tlearning\\tstyles,\\tstrengths,\\tand\\tneeds. Examples\\tinclude\\tbut\\tare\\tnot\\tlimited\\tto: \\t\\no Assistance\\tfrom\\ta\\tnote\\ttaker \\t\\t\\no Use\\tof\\ta\\tlaptop\\tfor\\tnote\\ttaking\\t \\t\\no Preferential\\tseating\\t(usually\\tat\\tthe\\tfront\\tof\\tthe\\tclass)\\t/\\tErgonomic\\tmodification s\\t\\t\\no Provision\\tof\\twritten\\tmaterial\\tin\\tadvance\\t(overheads,\\tPowerPoint\\tpresentations,\\tlecture\\tnotes)\\t \\t\\no Textbooks\\tor\\tarticles\\tin\\talternate\\tformat \\t(Braille,\\tlarge\\ttype,\\tPDF,\\tor\\tother\\telectronic\\ttext)\\t \\t\\n\\t\\nExamination\\taccommodations\\tare\\tadjustments\\tto\\tstandard\\texam\\t conditions\\tthat\\tlessen\\tthe\\timpact\\tof\\tthe\\tdisability\\t\\nwithout\\tfundamentally\\taltering\\tthe\\tnature\\tor\\tsecurity\\tof\\tthe\\texamination\\tor\\tproviding\\tunfair\\tadvantage. Examples\\t\\ninclude\\tbut\\tare\\tnot\\tlimited\\tto: \\t\\no Extended\\ttime\\tto\\twrite\\texams\\t \\t\\no A\\tquiet,\\tdistraction\\tfree\\tenv ironment\\tin\\twhich\\tto\\twrite\\t \\t\\no Alternative\\tformat\\tfor\\texams\\t(i.e.,\\toral,\\ttake- home,\\tor\\telectronic\\tversions)\\t \\t\\no Assistance\\tfrom\\ta\\treader\\tor\\ta\\tscribe\\t \\t\\no Allowances\\tfor\\tspelling/grammatical\\terrors,\\twith\\tgrading\\tfocus\\ton\\tcontent\\t \\t\\no Use\\tof\\ta\\tcomputer\\tfor\\tessay\\texams\\t \\t\\no Use\\tof\\tassistive\\ttechnology\\ton\\texams\\t(including\\tmagnification\\tdevices)\\t \\t\\n\\t'),\n",
       " Document(metadata={'pdf_name': 'academic_accommodation_for_students_with_disabilities_amended_july_17_2017.pdf'}, page_content='2. The\\tunivers ity\\trecognizes\\tits\\tresponsibility\\tto\\tmaintain\\tequal\\trights\\tfor\\tall\\tstudents\\twith\\tdisabilities\\tin\\ta\\tfair\\tand\\t\\nnon- discriminatory\\tmanner. The\\tuniversity\\twill\\tuphold\\tits\\tresponsibilities\\tby\\tensuring\\tthe\\tphysical\\taccessibility\\tof\\t\\nthe\\tcampus,\\tas\\twell\\tas,\\tby\\tcrea ting\\tan\\tenvironment\\tthat\\tis\\tfree\\tfrom\\tbias\\tand,\\tinstead,\\tembodies\\tinclusiveness,\\t\\nmutual\\trespect\\tand\\tunderstanding. 3. The\\tUniversity\\tof\\tWindsor’s\\t Student\\tAccessibility\\tServices \\twill\\twork\\twith\\tstudents\\tand\\tfaculty\\tmembers\\tto\\t\\nidentify\\tpotential\\tbarriers\\tto\\tacademic\\tparticipation\\tand\\tto\\tdetermine\\tappropriate\\taccommodations\\tto\\taddress\\tthose\\tbarriers\\tfor\\tstudents\\twith\\tdisabilities. This\\twill\\tbe\\tdone\\ton\\ta\\tcase\\tby\\tcase\\tbasis\\tprovided\\tthat\\tstudents\\thave\\tprovided\\t Student\\tAccessibility\\tServices\\t with\\tappropriate\\tdocume ntation\\tand\\tsufficient\\tnotice\\tof\\ttheir\\t\\naccommodation\\tneeds\\tso\\tthat\\treasonable\\tsteps\\tmay\\tbe\\ttaken\\tto\\taccommodate\\tthose\\tneeds. PURPOSES\\tOF\\tACCOMMODATION \\t\\n\\t\\nThe\\toverarching\\tpurpose\\tof\\tacademic\\taccommodations\\tis\\tto\\tensure\\tthat\\tstudents\\twith\\tdisabilities\\tmay\\tful fill\\tthe\\t\\n'),\n",
       " Document(metadata={'pdf_name': 'academic_accommodation_for_students_with_disabilities_amended_july_17_2017.pdf'}, page_content='Depending\\tupon\\tthe\\tdisability,\\tthere\\tare\\tcircumstances\\t(specifically,\\tmental\\thealth)\\twhere\\tthe\\tstudent\\tmay\\telect\\tnot\\tto\\tdisclos e\\t\\na\\tspecific\\tdiagnosis\\tand\\tis\\tnot\\trequired\\tto\\tdo\\tso. Confidentiality \\t\\n\\t\\nThe\\tUniversity\\tis\\tdedicated\\tto\\tmaintaining\\tthe\\tprivacy\\tof\\ta\\tstudent’s\\tinformation\\tto\\tthe\\tgreatest\\textent\\tpossible. Any\\t\\ninformation\\trelated\\tto\\tthe\\tspecific\\tnature\\tand\\timpact\\tof\\ta\\tstudent ’s\\tdisability\\twill\\tremain\\ton\\tfile\\tin\\ta\\tsecure\\tlocation\\t\\nwithin\\t Student\\tAccessibility\\tServices . In\\tsome\\tcircumstances,\\tthe\\taccommodation\\tprocess\\tmay\\trequire\\tthat\\ta\\tstudent\\tdisclose\\tinformation\\tto\\tstaff\\tor\\t\\nfaculty\\tbeyond\\t Student\\tAccessibility\\tServices\\t if\\tthe\\tknowledge\\tis\\trequired\\tto\\tperform\\ttheir\\tduties\\tunder\\tthe\\tterms\\tof\\t\\nthis\\tpolicy. Medical\\tand\\tother\\thealth -related\\tinformation\\tshould\\tgenerally\\tbe\\trestricted\\tto\\tStudent\\t Accessibility \\tServices,\\tand\\t\\nshould\\tnot\\tbe\\tdisclosed\\tto\\tfaculty\\tor\\tstaff\\tof\\tthe\\tUniversity. This\\trestriction\\tis\\tfounded\\tin\\tseveral\\tgrounds,\\tincluding\\t\\nthe\\timportance\\tof\\tconfidentiality\\tas\\ta\\thuman\\trights\\tprinciple\\tof\\tdignity\\tand\\trespect. All\\tsuch\\tinformation\\tdisclosed\\tto\\tfaculty\\tor\\tstaff\\twill\\tonly\\tbe\\tprovided\\twith\\tthe\\tconsent\\tof\\tthe\\tstudent. Flexibility \\t\\n\\t\\nAccommodations\\tthat\\tmay\\tbe\\tapplicable\\tto\\tone\\tstudent\\twith\\ta\\tparticular\\ttype\\tof\\tdisability\\tmay\\tnot\\tapply\\tto\\tanother\\t\\nstudent\\twith\\tthe\\tsame\\ttype\\tof\\tdisability. Therefore,\\tacademic\\taccommodations\\tmust\\tbe\\tdetermined\\ton\\tan\\t\\nindividual\\tbasis. Studen ts,\\tinstructors\\tand\\tadministrative\\tstaff\\tmust\\tdevelop\\tsolutions,\\tand\\tin\\tdoing\\tso\\texercise\\tcreativity\\tand\\t\\nflexibility,\\tto \\tmeet\\tthe\\tneeds\\tof\\tthe\\tstudents\\twhile\\tpreserving\\tthe\\tessential\\tacademic\\trequirements\\tof\\tthe\\t\\nUniversity’s\\tcourses\\tand\\tprograms. The\\tprovi sion\\tof\\tacademic\\taccommodations\\tis\\ttherefore\\ta\\tcollaborative\\tprocess,\\t\\nwhich\\trequires\\teffective\\tand\\topen\\tcommunication\\tbetween\\tall\\tparties\\tinvolved. To\\tthat\\tend,\\tthis\\tpolicy\\tencourages\\tan\\teffective\\tand\\tmeaningful\\tdialogue\\tbetween\\tstudents,\\ttheir\\tinstructor s,\\t\\nuniversity\\tstaff\\tand\\tadvisors\\tin\\t Student\\tAccessibility\\tServices \\tin\\tan\\teffort\\tto\\tbest\\tdetermine\\thow\\tindividual\\tneeds\\tcan\\t\\nbe\\taccommodated\\twithin\\tlegislative\\tterms,\\tas\\twell\\tas,\\twithin\\tthe\\tcurrent \\tguidelines\\testablished\\tby\\tthe\\tuniversity. '),\n",
       " Document(metadata={'pdf_name': 'academic_accommodation_for_students_with_disabilities_amended_july_17_2017.pdf'}, page_content='Page\\t 2\\tof\\t3\\tessential\\trequirements\\tof\\ttheir\\tacademic\\tprograms\\tas\\twell\\tas\\tlearn\\tand\\tdemonstrate\\tlearning\\tin\\tways\\tthat\\t\\naccurately\\treflect\\teach\\tstudent’s\\tpotential. While\\tstudents\\twill,\\tas\\tan\\tessential\\trequirement,\\tbe\\texpected\\tto\\tmaster\\tthe\\tcurriculum,\\tthere\\t are\\tvarious\\tways\\tin\\t\\nwhich\\tmastery\\tmay\\tbe\\tdemonstrated. For\\texample,\\tit\\tmay\\tbe\\tdemonstrated\\tin\\tthe\\tform\\tof\\tan\\toral\\tas\\topposed\\tto\\ta\\twritten\\ttest. However,\\ton\\tother\\toccasions\\tit\\tmay\\tbe\\tthat\\tthe\\tformat\\tthat\\tis\\tto\\tbe\\tutilized\\tto\\tdemonstrate\\t\\ncompetency\\tis,\\tin\\tan d\\tof\\titself,\\tthe\\tessential\\trequirement. See\\tAppendix\\tA\\tfor\\tmore\\tinformation\\trelated\\tto\\tessential\\t\\nrequirements\\tand\\ttypical\\taccommodations. OPERATIONAL\\tPRINCIPLES\\t\\n\\t\\nWhen\\tit\\treceives\\ta\\trequest\\tfor\\taccommodation,\\tthe\\tUniversity\\thas\\ta\\tprocedural\\tduty\\tto\\ttake\\t reasonable\\tsteps\\tto\\t\\nobtain\\tinformation,\\texamine\\talternatives,\\tconsult\\twith\\tthe\\tstudent,\\tmaintain\\tconfidentiality\\tand\\tweigh\\tavailable\\taccommodations. Conversely,\\tthe\\tstudent\\thas\\ta\\tduty\\tto\\tdisclose\\tsufficient\\tinformation\\tand\\tcooperate\\twith\\tthe\\t\\nUniversity\\tin\\tfashioning\\tan\\tappropriate\\taccommodation. Documentation \\t\\n\\t\\nStudents\\twith\\tdisabilities\\twho\\t self-identify\\tto\\t Student\\tAccessibility\\tServices \\tare\\trequired\\tto\\tadhere\\tto\\tthe\\t\\ndocumentation\\tguidelines\\toutlined\\tby\\tthat\\toffice,\\tin\\taccordance\\twith\\tcurrent\\tlegislation . Any\\tsuch\\tdocumentation\\t\\nshould\\tclearly\\tindicate\\tthat\\tthe\\tstudent\\thas\\tbeen\\tdiagnosed\\twith,\\tor\\tis\\tbeing\\tassessed\\tfor\\ta\\tdisability.')]"
      ]
     },
     "execution_count": 139,
     "metadata": {},
     "output_type": "execute_result"
    }
   ],
   "source": [
    "result['context']"
   ]
  },
  {
   "cell_type": "code",
   "execution_count": 140,
   "metadata": {},
   "outputs": [
    {
     "data": {
      "text/plain": [
       "[(Document(metadata={'pdf_name': 'academic_accommodation_for_students_with_disabilities_amended_july_17_2017.pdf'}, page_content='This\\tincludes\\tcourse\\trequirements\\tand\\tstandards”. Essential\\trequirements\\tcan\\ttherefore\\tbe\\tdefined\\tby\\ttwo\\tfactors:\\ta\\tskill\\tthat\\tmust\\tbe\\tnecessarily\\tdemonstrated\\tin\\t\\norder\\tto\\tmeet\\tthe\\t objectives\\tof\\ta\\tcourse;\\tand\\ta\\tskill\\tthat\\tmust\\tbe\\tdemonstrated\\tin\\ta\\tprescribed\\tmanner. Academic\\tAccommodations \\t\\n\\tAn\\taccommodation\\trefers\\tto\\tany\\tservice,\\tequipment,\\tor\\tarrangement\\tthat\\tis\\tput\\tin\\tplace\\tto\\tsupport\\ta\\tstudent\\twith\\ta\\t\\ndisability\\tin\\tthe\\tuniversity\\t setting\\tand\\tis\\tmeant\\tto\\tenable\\tstudents\\tto\\tbest\\tperform\\tthe\\tessential\\trequirements\\tof\\t\\ntheir\\tacademic\\tprogram. Functional\\tlimitations\\tthat\\tlead\\tto\\taccommodations\\twill\\tbe\\tidentified\\tby\\tmedical\\t\\nprofessionals\\twho\\tare\\tsupporting\\tthe\\tstudent. Accommodations\\tdo\\t not\\tundermine\\tor\\tcompromise\\tthe\\tessential\\t\\nrequirements\\tof\\tthe\\tcourses\\tor\\tcurricula\\testablished\\tby\\tthe\\tacademic\\tregulatory\\tbodies\\tof\\tthe\\tuniversity. An\\t\\nappropriate\\tacademic\\taccommodation\\twill\\tnot\\tprovide\\tan\\tunfair\\tadvantage\\tbut\\trather\\tminimize\\tthe\\timpact\\tof ,\\tand\\t\\nthe\\tbarriers\\tcaused\\tby,\\tthe\\tdisability. Classroom\\taccommodations\\tare\\tadjustments\\tprovided\\tto\\tensure\\tthat\\tstudents\\twith\\tdisabilities\\thave\\tfair\\tand\\tequal\\t\\naccess\\tto\\tthe\\tcurriculum\\tand\\tan\\topportunity\\tto\\tprocess\\tclassroom\\tinformation\\tin\\ta\\tway\\tthat\\trespec ts\\tand\\taddresses\\t\\ndifferences\\tin\\tlearning\\tstyles,\\tstrengths,\\tand\\tneeds. Examples\\tinclude\\tbut\\tare\\tnot\\tlimited\\tto: \\t\\no Assistance\\tfrom\\ta\\tnote\\ttaker \\t\\t\\no Use\\tof\\ta\\tlaptop\\tfor\\tnote\\ttaking\\t \\t\\no Preferential\\tseating\\t(usually\\tat\\tthe\\tfront\\tof\\tthe\\tclass)\\t/\\tErgonomic\\tmodification s\\t\\t\\no Provision\\tof\\twritten\\tmaterial\\tin\\tadvance\\t(overheads,\\tPowerPoint\\tpresentations,\\tlecture\\tnotes)\\t \\t\\no Textbooks\\tor\\tarticles\\tin\\talternate\\tformat \\t(Braille,\\tlarge\\ttype,\\tPDF,\\tor\\tother\\telectronic\\ttext)\\t \\t\\n\\t\\nExamination\\taccommodations\\tare\\tadjustments\\tto\\tstandard\\texam\\t conditions\\tthat\\tlessen\\tthe\\timpact\\tof\\tthe\\tdisability\\t\\nwithout\\tfundamentally\\taltering\\tthe\\tnature\\tor\\tsecurity\\tof\\tthe\\texamination\\tor\\tproviding\\tunfair\\tadvantage. Examples\\t\\ninclude\\tbut\\tare\\tnot\\tlimited\\tto: \\t\\no Extended\\ttime\\tto\\twrite\\texams\\t \\t\\no A\\tquiet,\\tdistraction\\tfree\\tenv ironment\\tin\\twhich\\tto\\twrite\\t \\t\\no Alternative\\tformat\\tfor\\texams\\t(i.e.,\\toral,\\ttake- home,\\tor\\telectronic\\tversions)\\t \\t\\no Assistance\\tfrom\\ta\\treader\\tor\\ta\\tscribe\\t \\t\\no Allowances\\tfor\\tspelling/grammatical\\terrors,\\twith\\tgrading\\tfocus\\ton\\tcontent\\t \\t\\no Use\\tof\\ta\\tcomputer\\tfor\\tessay\\texams\\t \\t\\no Use\\tof\\tassistive\\ttechnology\\ton\\texams\\t(including\\tmagnification\\tdevices)\\t \\t\\n\\t'),\n",
       "  0.5781087398536469),\n",
       " (Document(metadata={'pdf_name': 'academic_accommodation_for_students_with_disabilities_amended_july_17_2017.pdf'}, page_content='2. The\\tunivers ity\\trecognizes\\tits\\tresponsibility\\tto\\tmaintain\\tequal\\trights\\tfor\\tall\\tstudents\\twith\\tdisabilities\\tin\\ta\\tfair\\tand\\t\\nnon- discriminatory\\tmanner. The\\tuniversity\\twill\\tuphold\\tits\\tresponsibilities\\tby\\tensuring\\tthe\\tphysical\\taccessibility\\tof\\t\\nthe\\tcampus,\\tas\\twell\\tas,\\tby\\tcrea ting\\tan\\tenvironment\\tthat\\tis\\tfree\\tfrom\\tbias\\tand,\\tinstead,\\tembodies\\tinclusiveness,\\t\\nmutual\\trespect\\tand\\tunderstanding. 3. The\\tUniversity\\tof\\tWindsor’s\\t Student\\tAccessibility\\tServices \\twill\\twork\\twith\\tstudents\\tand\\tfaculty\\tmembers\\tto\\t\\nidentify\\tpotential\\tbarriers\\tto\\tacademic\\tparticipation\\tand\\tto\\tdetermine\\tappropriate\\taccommodations\\tto\\taddress\\tthose\\tbarriers\\tfor\\tstudents\\twith\\tdisabilities. This\\twill\\tbe\\tdone\\ton\\ta\\tcase\\tby\\tcase\\tbasis\\tprovided\\tthat\\tstudents\\thave\\tprovided\\t Student\\tAccessibility\\tServices\\t with\\tappropriate\\tdocume ntation\\tand\\tsufficient\\tnotice\\tof\\ttheir\\t\\naccommodation\\tneeds\\tso\\tthat\\treasonable\\tsteps\\tmay\\tbe\\ttaken\\tto\\taccommodate\\tthose\\tneeds. PURPOSES\\tOF\\tACCOMMODATION \\t\\n\\t\\nThe\\toverarching\\tpurpose\\tof\\tacademic\\taccommodations\\tis\\tto\\tensure\\tthat\\tstudents\\twith\\tdisabilities\\tmay\\tful fill\\tthe\\t\\n'),\n",
       "  0.5255646852836005),\n",
       " (Document(metadata={'pdf_name': 'academic_accommodation_for_students_with_disabilities_amended_july_17_2017.pdf'}, page_content='Depending\\tupon\\tthe\\tdisability,\\tthere\\tare\\tcircumstances\\t(specifically,\\tmental\\thealth)\\twhere\\tthe\\tstudent\\tmay\\telect\\tnot\\tto\\tdisclos e\\t\\na\\tspecific\\tdiagnosis\\tand\\tis\\tnot\\trequired\\tto\\tdo\\tso. Confidentiality \\t\\n\\t\\nThe\\tUniversity\\tis\\tdedicated\\tto\\tmaintaining\\tthe\\tprivacy\\tof\\ta\\tstudent’s\\tinformation\\tto\\tthe\\tgreatest\\textent\\tpossible. Any\\t\\ninformation\\trelated\\tto\\tthe\\tspecific\\tnature\\tand\\timpact\\tof\\ta\\tstudent ’s\\tdisability\\twill\\tremain\\ton\\tfile\\tin\\ta\\tsecure\\tlocation\\t\\nwithin\\t Student\\tAccessibility\\tServices . In\\tsome\\tcircumstances,\\tthe\\taccommodation\\tprocess\\tmay\\trequire\\tthat\\ta\\tstudent\\tdisclose\\tinformation\\tto\\tstaff\\tor\\t\\nfaculty\\tbeyond\\t Student\\tAccessibility\\tServices\\t if\\tthe\\tknowledge\\tis\\trequired\\tto\\tperform\\ttheir\\tduties\\tunder\\tthe\\tterms\\tof\\t\\nthis\\tpolicy. Medical\\tand\\tother\\thealth -related\\tinformation\\tshould\\tgenerally\\tbe\\trestricted\\tto\\tStudent\\t Accessibility \\tServices,\\tand\\t\\nshould\\tnot\\tbe\\tdisclosed\\tto\\tfaculty\\tor\\tstaff\\tof\\tthe\\tUniversity. This\\trestriction\\tis\\tfounded\\tin\\tseveral\\tgrounds,\\tincluding\\t\\nthe\\timportance\\tof\\tconfidentiality\\tas\\ta\\thuman\\trights\\tprinciple\\tof\\tdignity\\tand\\trespect. All\\tsuch\\tinformation\\tdisclosed\\tto\\tfaculty\\tor\\tstaff\\twill\\tonly\\tbe\\tprovided\\twith\\tthe\\tconsent\\tof\\tthe\\tstudent. Flexibility \\t\\n\\t\\nAccommodations\\tthat\\tmay\\tbe\\tapplicable\\tto\\tone\\tstudent\\twith\\ta\\tparticular\\ttype\\tof\\tdisability\\tmay\\tnot\\tapply\\tto\\tanother\\t\\nstudent\\twith\\tthe\\tsame\\ttype\\tof\\tdisability. Therefore,\\tacademic\\taccommodations\\tmust\\tbe\\tdetermined\\ton\\tan\\t\\nindividual\\tbasis. Studen ts,\\tinstructors\\tand\\tadministrative\\tstaff\\tmust\\tdevelop\\tsolutions,\\tand\\tin\\tdoing\\tso\\texercise\\tcreativity\\tand\\t\\nflexibility,\\tto \\tmeet\\tthe\\tneeds\\tof\\tthe\\tstudents\\twhile\\tpreserving\\tthe\\tessential\\tacademic\\trequirements\\tof\\tthe\\t\\nUniversity’s\\tcourses\\tand\\tprograms. The\\tprovi sion\\tof\\tacademic\\taccommodations\\tis\\ttherefore\\ta\\tcollaborative\\tprocess,\\t\\nwhich\\trequires\\teffective\\tand\\topen\\tcommunication\\tbetween\\tall\\tparties\\tinvolved. To\\tthat\\tend,\\tthis\\tpolicy\\tencourages\\tan\\teffective\\tand\\tmeaningful\\tdialogue\\tbetween\\tstudents,\\ttheir\\tinstructor s,\\t\\nuniversity\\tstaff\\tand\\tadvisors\\tin\\t Student\\tAccessibility\\tServices \\tin\\tan\\teffort\\tto\\tbest\\tdetermine\\thow\\tindividual\\tneeds\\tcan\\t\\nbe\\taccommodated\\twithin\\tlegislative\\tterms,\\tas\\twell\\tas,\\twithin\\tthe\\tcurrent \\tguidelines\\testablished\\tby\\tthe\\tuniversity. '),\n",
       "  0.4378736572438947),\n",
       " (Document(metadata={'pdf_name': 'academic_accommodation_for_students_with_disabilities_amended_july_17_2017.pdf'}, page_content='Page\\t 2\\tof\\t3\\tessential\\trequirements\\tof\\ttheir\\tacademic\\tprograms\\tas\\twell\\tas\\tlearn\\tand\\tdemonstrate\\tlearning\\tin\\tways\\tthat\\t\\naccurately\\treflect\\teach\\tstudent’s\\tpotential. While\\tstudents\\twill,\\tas\\tan\\tessential\\trequirement,\\tbe\\texpected\\tto\\tmaster\\tthe\\tcurriculum,\\tthere\\t are\\tvarious\\tways\\tin\\t\\nwhich\\tmastery\\tmay\\tbe\\tdemonstrated. For\\texample,\\tit\\tmay\\tbe\\tdemonstrated\\tin\\tthe\\tform\\tof\\tan\\toral\\tas\\topposed\\tto\\ta\\twritten\\ttest. However,\\ton\\tother\\toccasions\\tit\\tmay\\tbe\\tthat\\tthe\\tformat\\tthat\\tis\\tto\\tbe\\tutilized\\tto\\tdemonstrate\\t\\ncompetency\\tis,\\tin\\tan d\\tof\\titself,\\tthe\\tessential\\trequirement. See\\tAppendix\\tA\\tfor\\tmore\\tinformation\\trelated\\tto\\tessential\\t\\nrequirements\\tand\\ttypical\\taccommodations. OPERATIONAL\\tPRINCIPLES\\t\\n\\t\\nWhen\\tit\\treceives\\ta\\trequest\\tfor\\taccommodation,\\tthe\\tUniversity\\thas\\ta\\tprocedural\\tduty\\tto\\ttake\\t reasonable\\tsteps\\tto\\t\\nobtain\\tinformation,\\texamine\\talternatives,\\tconsult\\twith\\tthe\\tstudent,\\tmaintain\\tconfidentiality\\tand\\tweigh\\tavailable\\taccommodations. Conversely,\\tthe\\tstudent\\thas\\ta\\tduty\\tto\\tdisclose\\tsufficient\\tinformation\\tand\\tcooperate\\twith\\tthe\\t\\nUniversity\\tin\\tfashioning\\tan\\tappropriate\\taccommodation. Documentation \\t\\n\\t\\nStudents\\twith\\tdisabilities\\twho\\t self-identify\\tto\\t Student\\tAccessibility\\tServices \\tare\\trequired\\tto\\tadhere\\tto\\tthe\\t\\ndocumentation\\tguidelines\\toutlined\\tby\\tthat\\toffice,\\tin\\taccordance\\twith\\tcurrent\\tlegislation . Any\\tsuch\\tdocumentation\\t\\nshould\\tclearly\\tindicate\\tthat\\tthe\\tstudent\\thas\\tbeen\\tdiagnosed\\twith,\\tor\\tis\\tbeing\\tassessed\\tfor\\ta\\tdisability.'),\n",
       "  0.3969373505159306)]"
      ]
     },
     "execution_count": 140,
     "metadata": {},
     "output_type": "execute_result"
    }
   ],
   "source": [
    "model_obj._vectorstore.similarity_search_with_relevance_scores(\"What is the purpose of academic accomodation for disabled students?\", k=4)"
   ]
  },
  {
   "cell_type": "code",
   "execution_count": 141,
   "metadata": {},
   "outputs": [
    {
     "name": "stdout",
     "output_type": "stream",
     "text": [
      "As an AI, I do not have access to personal information about you, including your name. \n",
      "\n"
     ]
    }
   ],
   "source": [
    "config = {\"configurable\": {\"thread_id\": \"user2\"}}\n",
    "result = model_obj.ask_query(\n",
    "    input_text=\"What is my name?\",\n",
    "    config=config\n",
    ")\n",
    "print(result['answer'])"
   ]
  },
  {
   "cell_type": "code",
   "execution_count": 142,
   "metadata": {},
   "outputs": [
    {
     "name": "stdout",
     "output_type": "stream",
     "text": [
      "Hello Arnab, it's nice to meet you! \n",
      "\n",
      "Is there anything I can help you with regarding academic policies or bylaws? \n",
      "\n"
     ]
    }
   ],
   "source": [
    "config = {\"configurable\": {\"thread_id\": \"user2\"}}\n",
    "result = model_obj.ask_query(\n",
    "    input_text=\"My name is Arnab\",\n",
    "    config=config\n",
    ")\n",
    "print(result['answer'])"
   ]
  },
  {
   "cell_type": "code",
   "execution_count": 143,
   "metadata": {},
   "outputs": [
    {
     "name": "stdout",
     "output_type": "stream",
     "text": [
      "Your name is Arnab.  \n",
      "\n",
      "Is there anything else I can help you with?\n"
     ]
    }
   ],
   "source": [
    "config = {\"configurable\": {\"thread_id\": \"user2\"}}\n",
    "result = model_obj.ask_query(\n",
    "    input_text=\"What is my name?\",\n",
    "    config=config\n",
    ")\n",
    "print(result['answer'])"
   ]
  },
  {
   "cell_type": "code",
   "execution_count": null,
   "metadata": {},
   "outputs": [],
   "source": []
  }
 ],
 "metadata": {
  "kernelspec": {
   "display_name": "base",
   "language": "python",
   "name": "python3"
  },
  "language_info": {
   "codemirror_mode": {
    "name": "ipython",
    "version": 3
   },
   "file_extension": ".py",
   "mimetype": "text/x-python",
   "name": "python",
   "nbconvert_exporter": "python",
   "pygments_lexer": "ipython3",
   "version": "3.12.4"
  }
 },
 "nbformat": 4,
 "nbformat_minor": 2
}
